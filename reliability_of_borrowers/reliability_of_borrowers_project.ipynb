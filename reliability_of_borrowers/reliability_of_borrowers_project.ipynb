{
 "cells": [
  {
   "cell_type": "markdown",
   "id": "386f2ae7",
   "metadata": {
    "deletable": false,
    "editable": false,
    "id": "386f2ae7"
   },
   "source": [
    "# Исследование надежности заемщиков\n"
   ]
  },
  {
   "cell_type": "markdown",
   "id": "6c3aee28",
   "metadata": {},
   "source": [
    "<font size=\"4\"><b>О проекте:</b></font>\n",
    "\n",
    "Кредитный отдел банка планирует построить модель кредитного скоринга - специальной системы, которая оценивает способность потенциального заёмщика вернуть кредит банку. Для этого необходимо произвести оценку возможного влияния имеющихся характеристик клиентов на факт погашения кредита в срок.\n",
    "\n",
    "***Цель проекта:*** *оценить, какие характеристики могут быть наиболее связанными с фактом погашения кредита в срок.*\n",
    "\n",
    "***Задачи:***\n",
    "1. *Провести предобработку и исследовательский анализ данных*\n",
    "2. *Оценить влияние характеристик клиента на факт погашения кредита в срок*\n",
    "3. *Выявить характеристики, оказывающие наибольшее влияние на факт покашения кредита в срок*\n",
    "\n",
    "<font size=\"4\"><b>Описание данных:</b></font>\n",
    "\n",
    "* `children` — количество детей в семье;\n",
    "* `days_employed` — общий трудовой стаж в днях;\n",
    "* `dob_years` — возраст клиента в годах;\n",
    "* `education` — уровень образования клиента;\n",
    "* `education_id` — идентификатор уровня образования;\n",
    "* `family_status` — семейное положение;\n",
    "* `family_status_id` — идентификатор семейного положения;\n",
    "* `gender` — пол клиента;\n",
    "* `income_type` — тип занятости;\n",
    "* `debt` — имел ли задолженность по возрату кредитов;\n",
    "* `total_income` — ежемесячный доход;\n",
    "* `purpose` — цель получения кредита."
   ]
  },
  {
   "cell_type": "markdown",
   "id": "d867266b",
   "metadata": {
    "toc": true
   },
   "source": [
    "<h1>Содержание<span class=\"tocSkip\"></span></h1>\n",
    "<div class=\"toc\"><ul class=\"toc-item\"><li><span><a href=\"#Общая-информация-о-датасете\" data-toc-modified-id=\"Общая-информация-о-датасете-1\"><span class=\"toc-item-num\">1&nbsp;&nbsp;</span>Общая информация о датасете</a></span></li><li><span><a href=\"#Предобработка-данных\" data-toc-modified-id=\"Предобработка-данных-2\"><span class=\"toc-item-num\">2&nbsp;&nbsp;</span>Предобработка данных</a></span><ul class=\"toc-item\"><li><span><a href=\"#Обработка-аномальных-значений\" data-toc-modified-id=\"Обработка-аномальных-значений-2.1\"><span class=\"toc-item-num\">2.1&nbsp;&nbsp;</span>Обработка аномальных значений</a></span><ul class=\"toc-item\"><li><span><a href=\"#days_employed\" data-toc-modified-id=\"days_employed-2.1.1\"><span class=\"toc-item-num\">2.1.1&nbsp;&nbsp;</span><code>days_employed</code></a></span></li><li><span><a href=\"#children\" data-toc-modified-id=\"children-2.1.2\"><span class=\"toc-item-num\">2.1.2&nbsp;&nbsp;</span><code>children</code></a></span></li></ul></li><li><span><a href=\"#Пропуски\" data-toc-modified-id=\"Пропуски-2.2\"><span class=\"toc-item-num\">2.2&nbsp;&nbsp;</span>Пропуски</a></span></li><li><span><a href=\"#Изменение-типов-данных\" data-toc-modified-id=\"Изменение-типов-данных-2.3\"><span class=\"toc-item-num\">2.3&nbsp;&nbsp;</span>Изменение типов данных</a></span></li><li><span><a href=\"#Обработка-дубликатов\" data-toc-modified-id=\"Обработка-дубликатов-2.4\"><span class=\"toc-item-num\">2.4&nbsp;&nbsp;</span>Обработка дубликатов</a></span></li><li><span><a href=\"#Категоризация-данных\" data-toc-modified-id=\"Категоризация-данных-2.5\"><span class=\"toc-item-num\">2.5&nbsp;&nbsp;</span>Категоризация данных</a></span><ul class=\"toc-item\"><li><span><a href=\"#Категории-клиентов-по-уровню-дохода\" data-toc-modified-id=\"Категории-клиентов-по-уровню-дохода-2.5.1\"><span class=\"toc-item-num\">2.5.1&nbsp;&nbsp;</span>Категории клиентов по уровню дохода</a></span></li><li><span><a href=\"#Перечень-уникальных-целей-взятия-кредита\" data-toc-modified-id=\"Перечень-уникальных-целей-взятия-кредита-2.5.2\"><span class=\"toc-item-num\">2.5.2&nbsp;&nbsp;</span>Перечень уникальных целей взятия кредита</a></span></li></ul></li></ul></li><li><span><a href=\"#Исследовательский-анализ-данных\" data-toc-modified-id=\"Исследовательский-анализ-данных-3\"><span class=\"toc-item-num\">3&nbsp;&nbsp;</span>Исследовательский анализ данных</a></span><ul class=\"toc-item\"><li><span><a href=\"#Есть-ли-зависимость-между-количеством-детей-и-возвратом-кредита-в-срок?\" data-toc-modified-id=\"Есть-ли-зависимость-между-количеством-детей-и-возвратом-кредита-в-срок?-3.1\"><span class=\"toc-item-num\">3.1&nbsp;&nbsp;</span>Есть ли зависимость между количеством детей и возвратом кредита в срок?</a></span></li><li><span><a href=\"#Есть-ли-зависимость-между-семейным-положением-и-возвратом-кредита-в-срок?\" data-toc-modified-id=\"Есть-ли-зависимость-между-семейным-положением-и-возвратом-кредита-в-срок?-3.2\"><span class=\"toc-item-num\">3.2&nbsp;&nbsp;</span>Есть ли зависимость между семейным положением и возвратом кредита в срок?</a></span></li><li><span><a href=\"#Есть-ли-зависимость-между-уровнем-дохода-и-возвратом-кредита-в-срок?\" data-toc-modified-id=\"Есть-ли-зависимость-между-уровнем-дохода-и-возвратом-кредита-в-срок?-3.3\"><span class=\"toc-item-num\">3.3&nbsp;&nbsp;</span>Есть ли зависимость между уровнем дохода и возвратом кредита в срок?</a></span></li><li><span><a href=\"#Как-разные-цели-кредита-влияют-на-его-возврат-в-срок?\" data-toc-modified-id=\"Как-разные-цели-кредита-влияют-на-его-возврат-в-срок?-3.4\"><span class=\"toc-item-num\">3.4&nbsp;&nbsp;</span>Как разные цели кредита влияют на его возврат в срок?</a></span></li></ul></li><li><span><a href=\"#Вывод\" data-toc-modified-id=\"Вывод-4\"><span class=\"toc-item-num\">4&nbsp;&nbsp;</span>Вывод</a></span></li></ul></div>"
   ]
  },
  {
   "cell_type": "markdown",
   "id": "26613308",
   "metadata": {
    "id": "26613308"
   },
   "source": [
    "## Общая информация о датасете"
   ]
  },
  {
   "cell_type": "code",
   "execution_count": 1,
   "id": "aa9f5d60",
   "metadata": {},
   "outputs": [],
   "source": [
    "# импорт библиотек\n",
    "import pandas as pd"
   ]
  },
  {
   "cell_type": "code",
   "execution_count": 2,
   "id": "77a68a90",
   "metadata": {
    "id": "77a68a90"
   },
   "outputs": [],
   "source": [
    "data = pd.read_csv('/datasets/data.csv')"
   ]
  },
  {
   "cell_type": "code",
   "execution_count": 3,
   "id": "b0451a9a",
   "metadata": {
    "id": "b0451a9a",
    "outputId": "1a8f3ef2-d323-4ec2-ddf7-89670b5944c4"
   },
   "outputs": [
    {
     "data": {
      "text/html": [
       "<div>\n",
       "<style scoped>\n",
       "    .dataframe tbody tr th:only-of-type {\n",
       "        vertical-align: middle;\n",
       "    }\n",
       "\n",
       "    .dataframe tbody tr th {\n",
       "        vertical-align: top;\n",
       "    }\n",
       "\n",
       "    .dataframe thead th {\n",
       "        text-align: right;\n",
       "    }\n",
       "</style>\n",
       "<table border=\"1\" class=\"dataframe\">\n",
       "  <thead>\n",
       "    <tr style=\"text-align: right;\">\n",
       "      <th></th>\n",
       "      <th>children</th>\n",
       "      <th>days_employed</th>\n",
       "      <th>dob_years</th>\n",
       "      <th>education</th>\n",
       "      <th>education_id</th>\n",
       "      <th>family_status</th>\n",
       "      <th>family_status_id</th>\n",
       "      <th>gender</th>\n",
       "      <th>income_type</th>\n",
       "      <th>debt</th>\n",
       "      <th>total_income</th>\n",
       "      <th>purpose</th>\n",
       "    </tr>\n",
       "  </thead>\n",
       "  <tbody>\n",
       "    <tr>\n",
       "      <th>0</th>\n",
       "      <td>1</td>\n",
       "      <td>-8437.673028</td>\n",
       "      <td>42</td>\n",
       "      <td>высшее</td>\n",
       "      <td>0</td>\n",
       "      <td>женат / замужем</td>\n",
       "      <td>0</td>\n",
       "      <td>F</td>\n",
       "      <td>сотрудник</td>\n",
       "      <td>0</td>\n",
       "      <td>253875.639453</td>\n",
       "      <td>покупка жилья</td>\n",
       "    </tr>\n",
       "    <tr>\n",
       "      <th>1</th>\n",
       "      <td>1</td>\n",
       "      <td>-4024.803754</td>\n",
       "      <td>36</td>\n",
       "      <td>среднее</td>\n",
       "      <td>1</td>\n",
       "      <td>женат / замужем</td>\n",
       "      <td>0</td>\n",
       "      <td>F</td>\n",
       "      <td>сотрудник</td>\n",
       "      <td>0</td>\n",
       "      <td>112080.014102</td>\n",
       "      <td>приобретение автомобиля</td>\n",
       "    </tr>\n",
       "    <tr>\n",
       "      <th>2</th>\n",
       "      <td>0</td>\n",
       "      <td>-5623.422610</td>\n",
       "      <td>33</td>\n",
       "      <td>Среднее</td>\n",
       "      <td>1</td>\n",
       "      <td>женат / замужем</td>\n",
       "      <td>0</td>\n",
       "      <td>M</td>\n",
       "      <td>сотрудник</td>\n",
       "      <td>0</td>\n",
       "      <td>145885.952297</td>\n",
       "      <td>покупка жилья</td>\n",
       "    </tr>\n",
       "    <tr>\n",
       "      <th>3</th>\n",
       "      <td>3</td>\n",
       "      <td>-4124.747207</td>\n",
       "      <td>32</td>\n",
       "      <td>среднее</td>\n",
       "      <td>1</td>\n",
       "      <td>женат / замужем</td>\n",
       "      <td>0</td>\n",
       "      <td>M</td>\n",
       "      <td>сотрудник</td>\n",
       "      <td>0</td>\n",
       "      <td>267628.550329</td>\n",
       "      <td>дополнительное образование</td>\n",
       "    </tr>\n",
       "    <tr>\n",
       "      <th>4</th>\n",
       "      <td>0</td>\n",
       "      <td>340266.072047</td>\n",
       "      <td>53</td>\n",
       "      <td>среднее</td>\n",
       "      <td>1</td>\n",
       "      <td>гражданский брак</td>\n",
       "      <td>1</td>\n",
       "      <td>F</td>\n",
       "      <td>пенсионер</td>\n",
       "      <td>0</td>\n",
       "      <td>158616.077870</td>\n",
       "      <td>сыграть свадьбу</td>\n",
       "    </tr>\n",
       "  </tbody>\n",
       "</table>\n",
       "</div>"
      ],
      "text/plain": [
       "   children  days_employed  dob_years education  education_id  \\\n",
       "0         1   -8437.673028         42    высшее             0   \n",
       "1         1   -4024.803754         36   среднее             1   \n",
       "2         0   -5623.422610         33   Среднее             1   \n",
       "3         3   -4124.747207         32   среднее             1   \n",
       "4         0  340266.072047         53   среднее             1   \n",
       "\n",
       "      family_status  family_status_id gender income_type  debt   total_income  \\\n",
       "0   женат / замужем                 0      F   сотрудник     0  253875.639453   \n",
       "1   женат / замужем                 0      F   сотрудник     0  112080.014102   \n",
       "2   женат / замужем                 0      M   сотрудник     0  145885.952297   \n",
       "3   женат / замужем                 0      M   сотрудник     0  267628.550329   \n",
       "4  гражданский брак                 1      F   пенсионер     0  158616.077870   \n",
       "\n",
       "                      purpose  \n",
       "0               покупка жилья  \n",
       "1     приобретение автомобиля  \n",
       "2               покупка жилья  \n",
       "3  дополнительное образование  \n",
       "4             сыграть свадьбу  "
      ]
     },
     "execution_count": 3,
     "metadata": {},
     "output_type": "execute_result"
    }
   ],
   "source": [
    "data.head()"
   ]
  },
  {
   "cell_type": "code",
   "execution_count": 4,
   "id": "ab3f863b",
   "metadata": {
    "deletable": false,
    "id": "ab3f863b",
    "outputId": "15376089-8dad-46c9-b520-c05248d43158"
   },
   "outputs": [
    {
     "name": "stdout",
     "output_type": "stream",
     "text": [
      "<class 'pandas.core.frame.DataFrame'>\n",
      "RangeIndex: 21525 entries, 0 to 21524\n",
      "Data columns (total 12 columns):\n",
      " #   Column            Non-Null Count  Dtype  \n",
      "---  ------            --------------  -----  \n",
      " 0   children          21525 non-null  int64  \n",
      " 1   days_employed     19351 non-null  float64\n",
      " 2   dob_years         21525 non-null  int64  \n",
      " 3   education         21525 non-null  object \n",
      " 4   education_id      21525 non-null  int64  \n",
      " 5   family_status     21525 non-null  object \n",
      " 6   family_status_id  21525 non-null  int64  \n",
      " 7   gender            21525 non-null  object \n",
      " 8   income_type       21525 non-null  object \n",
      " 9   debt              21525 non-null  int64  \n",
      " 10  total_income      19351 non-null  float64\n",
      " 11  purpose           21525 non-null  object \n",
      "dtypes: float64(2), int64(5), object(5)\n",
      "memory usage: 2.0+ MB\n"
     ]
    }
   ],
   "source": [
    "data.info()"
   ]
  },
  {
   "cell_type": "markdown",
   "id": "7c457fd8",
   "metadata": {},
   "source": [
    "Каждая строка - информация о клиенте банка. В данных присутствуют пропуски."
   ]
  },
  {
   "cell_type": "markdown",
   "id": "60e3e22d",
   "metadata": {
    "id": "60e3e22d"
   },
   "source": [
    "## Предобработка данных"
   ]
  },
  {
   "cell_type": "markdown",
   "id": "2273f08d",
   "metadata": {},
   "source": [
    "### Обработка аномальных значений"
   ]
  },
  {
   "cell_type": "markdown",
   "id": "21134cc5",
   "metadata": {},
   "source": [
    "#### `days_employed`"
   ]
  },
  {
   "cell_type": "code",
   "execution_count": 5,
   "id": "5c68ad20",
   "metadata": {},
   "outputs": [
    {
     "data": {
      "image/png": "[encoded data removed]",
      "text/plain": [
       "<Figure size 640x480 with 1 Axes>"
      ]
     },
     "metadata": {},
     "output_type": "display_data"
    }
   ],
   "source": [
    "data['days_employed'].hist();"
   ]
  },
  {
   "cell_type": "markdown",
   "id": "0dc9f980",
   "metadata": {},
   "source": [
    "В столбце о трудовом стаже встречаются отрицательные значения. Вероятно, это опечатки, поэтому заменим все отрицательные значения на положительные."
   ]
  },
  {
   "cell_type": "code",
   "execution_count": 6,
   "id": "d3dad1c4",
   "metadata": {},
   "outputs": [],
   "source": [
    "data['days_employed'] = data['days_employed'].abs()"
   ]
  },
  {
   "cell_type": "markdown",
   "id": "b16f9bb7",
   "metadata": {},
   "source": [
    "#### `children`"
   ]
  },
  {
   "cell_type": "code",
   "execution_count": 7,
   "id": "22bb8e3a",
   "metadata": {},
   "outputs": [
    {
     "data": {
      "text/plain": [
       "array([ 1,  0,  3,  2, -1,  4, 20,  5], dtype=int64)"
      ]
     },
     "execution_count": 7,
     "metadata": {},
     "output_type": "execute_result"
    }
   ],
   "source": [
    "data['children'].unique()"
   ]
  },
  {
   "cell_type": "markdown",
   "id": "fde7defe",
   "metadata": {},
   "source": [
    "В данных присутствуют 2 аномальных значения: -1 и 20. Посмотрим, сколько всего записей с такими значениями."
   ]
  },
  {
   "cell_type": "code",
   "execution_count": 8,
   "id": "19cffcee",
   "metadata": {},
   "outputs": [
    {
     "data": {
      "text/plain": [
       "0.006"
      ]
     },
     "execution_count": 8,
     "metadata": {},
     "output_type": "execute_result"
    }
   ],
   "source": [
    "round(\n",
    "    len(data[(data['children'] == -1) | (data['children'] == 20)]) / len(data), \n",
    "    3\n",
    ")"
   ]
  },
  {
   "cell_type": "markdown",
   "id": "0a258f93",
   "metadata": {},
   "source": [
    "Доля таких записей составляет менее 1%. Удалим эти данные."
   ]
  },
  {
   "cell_type": "code",
   "execution_count": 9,
   "id": "a676ce32",
   "metadata": {},
   "outputs": [],
   "source": [
    "data = data[(data['children'] != -1) & (data['children'] != 20)]"
   ]
  },
  {
   "cell_type": "markdown",
   "id": "03dc170c",
   "metadata": {
    "id": "03dc170c"
   },
   "source": [
    "### Пропуски"
   ]
  },
  {
   "cell_type": "code",
   "execution_count": 10,
   "id": "2dc372b2",
   "metadata": {
    "deletable": false,
    "id": "2dc372b2",
    "outputId": "81f4d817-781c-465c-ed15-91ce4446810d"
   },
   "outputs": [
    {
     "data": {
      "text/plain": [
       "children               0\n",
       "days_employed       2162\n",
       "dob_years              0\n",
       "education              0\n",
       "education_id           0\n",
       "family_status          0\n",
       "family_status_id       0\n",
       "gender                 0\n",
       "income_type            0\n",
       "debt                   0\n",
       "total_income        2162\n",
       "purpose                0\n",
       "dtype: int64"
      ]
     },
     "execution_count": 10,
     "metadata": {},
     "output_type": "execute_result"
    }
   ],
   "source": [
    "data.isna().sum()"
   ]
  },
  {
   "cell_type": "markdown",
   "id": "e3691f7a",
   "metadata": {},
   "source": [
    "Пропущенные значения встречаются в двух столбцах: `total_income` и `days_employed`.\n",
    "\n",
    "Стоблец `total_income` хранит данные о доходах. На сумму дохода влиет тип занятости, поэтому заполним пропуски медианным значением дохода в зависимости от типа занятости клиента."
   ]
  },
  {
   "cell_type": "code",
   "execution_count": 11,
   "id": "bdabfb6e",
   "metadata": {
    "deletable": false,
    "id": "bdabfb6e"
   },
   "outputs": [],
   "source": [
    "# заполним пропуски в доходе клиента\n",
    "for t in data['income_type'].unique():\n",
    "    data.loc[(data['income_type'] == t) & (data['total_income'].isna()), 'total_income'] = \\\n",
    "    data.loc[(data['income_type'] == t), 'total_income'].median()"
   ]
  },
  {
   "cell_type": "markdown",
   "id": "134a8792",
   "metadata": {},
   "source": [
    "Чтобы заполнить пропуски в столбце о трудовом стаже, посмотрим медианное значение трудового стажа в зависимости от типа занятости по имеющимся данным."
   ]
  },
  {
   "cell_type": "code",
   "execution_count": 12,
   "id": "cd3e6328",
   "metadata": {
    "deletable": false,
    "id": "cd3e6328",
    "outputId": "801ef80e-522b-4668-f34e-565af7432bcf"
   },
   "outputs": [
    {
     "data": {
      "text/plain": [
       "income_type\n",
       "безработный        366413.652744\n",
       "в декрете            3296.759962\n",
       "госслужащий          2689.137274\n",
       "компаньон            1555.947387\n",
       "пенсионер          365286.622650\n",
       "предприниматель       520.848083\n",
       "сотрудник            1572.328285\n",
       "студент               578.751554\n",
       "Name: days_employed, dtype: float64"
      ]
     },
     "execution_count": 12,
     "metadata": {},
     "output_type": "execute_result"
    }
   ],
   "source": [
    "data.groupby('income_type')['days_employed'].agg('median')"
   ]
  },
  {
   "cell_type": "markdown",
   "id": "7b583aef",
   "metadata": {},
   "source": [
    "У безработных и пенсионеров аномально высокое значения трудового стажа. Вероятно, это связано с особенностями записи и хранения данных для этих категорий клиентов. Не будем исправлять эти значения, т.к. нам неизвестны особенности их заполнения, а пропуски заполним медианными значениями, соответствующими каждому типу занятости."
   ]
  },
  {
   "cell_type": "code",
   "execution_count": 13,
   "id": "61946b83",
   "metadata": {
    "deletable": false,
    "id": "61946b83"
   },
   "outputs": [],
   "source": [
    "for t in data['income_type'].unique():\n",
    "    data.loc[(data['income_type'] == t) & (data['days_employed'].isna()), 'days_employed'] = \\\n",
    "    data.loc[(data['income_type'] == t), 'days_employed'].median()"
   ]
  },
  {
   "cell_type": "code",
   "execution_count": 14,
   "id": "937c7014",
   "metadata": {
    "deletable": false,
    "id": "937c7014",
    "outputId": "8da1e4e1-358e-4e87-98c9-f261bce0a7b2"
   },
   "outputs": [
    {
     "data": {
      "text/plain": [
       "children            0\n",
       "days_employed       0\n",
       "dob_years           0\n",
       "education           0\n",
       "education_id        0\n",
       "family_status       0\n",
       "family_status_id    0\n",
       "gender              0\n",
       "income_type         0\n",
       "debt                0\n",
       "total_income        0\n",
       "purpose             0\n",
       "dtype: int64"
      ]
     },
     "execution_count": 14,
     "metadata": {},
     "output_type": "execute_result"
    }
   ],
   "source": [
    "# проверим успешность заполнения пропусков\n",
    "data.isna().sum()"
   ]
  },
  {
   "cell_type": "markdown",
   "id": "d522e295",
   "metadata": {
    "id": "d522e295"
   },
   "source": [
    "### Изменение типов данных"
   ]
  },
  {
   "cell_type": "markdown",
   "id": "7162ed42",
   "metadata": {},
   "source": [
    "Заменим тип данных в столбце `total_income` на целочисленное."
   ]
  },
  {
   "cell_type": "code",
   "execution_count": 15,
   "id": "31036462",
   "metadata": {
    "deletable": false,
    "id": "31036462"
   },
   "outputs": [],
   "source": [
    "data['total_income'] = data['total_income'].astype(int)"
   ]
  },
  {
   "cell_type": "markdown",
   "id": "b8e3d1d9",
   "metadata": {
    "id": "b8e3d1d9"
   },
   "source": [
    "### Обработка дубликатов"
   ]
  },
  {
   "cell_type": "markdown",
   "id": "dc2e1343",
   "metadata": {},
   "source": [
    "Проверим столцбец `education` на наличие неявных дубликатов."
   ]
  },
  {
   "cell_type": "code",
   "execution_count": 16,
   "id": "f65f12c9",
   "metadata": {},
   "outputs": [
    {
     "data": {
      "text/plain": [
       "array(['высшее', 'среднее', 'Среднее', 'СРЕДНЕЕ', 'ВЫСШЕЕ',\n",
       "       'неоконченное высшее', 'начальное', 'Высшее',\n",
       "       'НЕОКОНЧЕННОЕ ВЫСШЕЕ', 'Неоконченное высшее', 'НАЧАЛЬНОЕ',\n",
       "       'Начальное', 'Ученая степень', 'УЧЕНАЯ СТЕПЕНЬ', 'ученая степень'],\n",
       "      dtype=object)"
      ]
     },
     "execution_count": 16,
     "metadata": {},
     "output_type": "execute_result"
    }
   ],
   "source": [
    "data['education'].unique()"
   ]
  },
  {
   "cell_type": "markdown",
   "id": "18111b3c",
   "metadata": {},
   "source": [
    "Неявные дубликаты связаны исключительно с вариативностью регистра в записях. Приведём всё к нижнему регистру."
   ]
  },
  {
   "cell_type": "code",
   "execution_count": 17,
   "id": "d89e73e1",
   "metadata": {
    "deletable": false,
    "id": "d89e73e1"
   },
   "outputs": [],
   "source": [
    "data['education'] = data['education'].str.lower()"
   ]
  },
  {
   "cell_type": "code",
   "execution_count": 18,
   "id": "2614cb6d",
   "metadata": {},
   "outputs": [
    {
     "data": {
      "text/plain": [
       "array(['высшее', 'среднее', 'неоконченное высшее', 'начальное',\n",
       "       'ученая степень'], dtype=object)"
      ]
     },
     "execution_count": 18,
     "metadata": {},
     "output_type": "execute_result"
    }
   ],
   "source": [
    "# проверим успешность замены\n",
    "data['education'].unique()"
   ]
  },
  {
   "cell_type": "markdown",
   "id": "c016dc49",
   "metadata": {},
   "source": [
    "Проверим наличие строк-дубликатов."
   ]
  },
  {
   "cell_type": "code",
   "execution_count": 19,
   "id": "e10efb23",
   "metadata": {
    "deletable": false,
    "id": "e10efb23",
    "outputId": "9684deba-1934-42d1-99e1-cda61740f822"
   },
   "outputs": [
    {
     "data": {
      "text/plain": [
       "71"
      ]
     },
     "execution_count": 19,
     "metadata": {},
     "output_type": "execute_result"
    }
   ],
   "source": [
    "data.duplicated().sum()"
   ]
  },
  {
   "cell_type": "code",
   "execution_count": 20,
   "id": "df853f20",
   "metadata": {
    "deletable": false,
    "id": "df853f20"
   },
   "outputs": [],
   "source": [
    "# удалим все дублирующиеся строки\n",
    "data = data.drop_duplicates()"
   ]
  },
  {
   "cell_type": "markdown",
   "id": "627be38f",
   "metadata": {
    "id": "627be38f"
   },
   "source": [
    "### Категоризация данных"
   ]
  },
  {
   "cell_type": "markdown",
   "id": "2aefddd7",
   "metadata": {},
   "source": [
    "#### Категории клиентов по уровню дохода"
   ]
  },
  {
   "cell_type": "markdown",
   "id": "d75ea2dc",
   "metadata": {},
   "source": [
    "В компании используется категорицазия клиентов относительно их дохода согласно следующим диапазонам:\n",
    "\n",
    "- 0–30000 — `'E'`\n",
    "- 30001–50000 — `'D'`\n",
    "- 50001–200000 — `'C'`\n",
    "- 200001–1000000 — `'B'`\n",
    "- 1000001 и выше — `'A'`\n",
    "\n",
    "Добавим в данные новый столбец `total_income_category`, где каждому клиенту назначим категорию на основании указанных диапазонов."
   ]
  },
  {
   "cell_type": "code",
   "execution_count": 21,
   "id": "78965238",
   "metadata": {
    "deletable": false,
    "id": "78965238"
   },
   "outputs": [],
   "source": [
    "# создадим функцию для определения категории клиента\n",
    "\n",
    "def categorize_income(income):\n",
    "    try:\n",
    "        if 0 <= income <= 30000:\n",
    "            return 'E'\n",
    "        elif 30001 <= income <= 50000:\n",
    "            return 'D'\n",
    "        elif 50001 <= income <= 200000:\n",
    "            return 'C'\n",
    "        elif 200001 <= income <= 1000000:\n",
    "            return 'B'\n",
    "        elif income >= 1000001:\n",
    "            return 'A'\n",
    "    except:\n",
    "        pass"
   ]
  },
  {
   "cell_type": "code",
   "execution_count": 22,
   "id": "0980ada1",
   "metadata": {
    "deletable": false,
    "id": "0980ada1"
   },
   "outputs": [],
   "source": [
    "data['total_income_category'] = data['total_income'].apply(categorize_income)"
   ]
  },
  {
   "cell_type": "markdown",
   "id": "64597ec7",
   "metadata": {},
   "source": [
    "#### Перечень уникальных целей взятия кредита"
   ]
  },
  {
   "cell_type": "markdown",
   "id": "32ff2fc4",
   "metadata": {},
   "source": [
    "Посмотрим на все уникальные значения в столбце `purpose`."
   ]
  },
  {
   "cell_type": "code",
   "execution_count": 23,
   "id": "ee07b65e",
   "metadata": {
    "deletable": false,
    "id": "ee07b65e",
    "outputId": "673c12d9-7d7e-4ae0-9812-c622c89dd244"
   },
   "outputs": [
    {
     "data": {
      "text/plain": [
       "array(['покупка жилья', 'приобретение автомобиля',\n",
       "       'дополнительное образование', 'сыграть свадьбу',\n",
       "       'операции с жильем', 'образование', 'на проведение свадьбы',\n",
       "       'покупка жилья для семьи', 'покупка недвижимости',\n",
       "       'покупка коммерческой недвижимости', 'покупка жилой недвижимости',\n",
       "       'строительство собственной недвижимости', 'недвижимость',\n",
       "       'строительство недвижимости', 'на покупку подержанного автомобиля',\n",
       "       'на покупку своего автомобиля',\n",
       "       'операции с коммерческой недвижимостью',\n",
       "       'строительство жилой недвижимости', 'жилье',\n",
       "       'операции со своей недвижимостью', 'автомобили',\n",
       "       'заняться образованием', 'сделка с подержанным автомобилем',\n",
       "       'получение образования', 'автомобиль', 'свадьба',\n",
       "       'получение дополнительного образования', 'покупка своего жилья',\n",
       "       'операции с недвижимостью', 'получение высшего образования',\n",
       "       'свой автомобиль', 'сделка с автомобилем',\n",
       "       'профильное образование', 'высшее образование',\n",
       "       'покупка жилья для сдачи', 'на покупку автомобиля', 'ремонт жилью',\n",
       "       'заняться высшим образованием'], dtype=object)"
      ]
     },
     "execution_count": 23,
     "metadata": {},
     "output_type": "execute_result"
    }
   ],
   "source": [
    "data['purpose'].unique()"
   ]
  },
  {
   "cell_type": "markdown",
   "id": "7f304e28",
   "metadata": {},
   "source": [
    "На основе этих записей сформируем новый столбец со следующими категориями:\n",
    "\n",
    "- `'операции с автомобилем'`\n",
    "- `'операции с недвижимостью'`\n",
    "- `'проведение свадьбы'`\n",
    "- `'получение образования'`"
   ]
  },
  {
   "cell_type": "code",
   "execution_count": 24,
   "id": "be41da5d",
   "metadata": {
    "deletable": false,
    "id": "be41da5d"
   },
   "outputs": [],
   "source": [
    "# создадим функцию \n",
    "def categorize_purpose(row):\n",
    "    try:\n",
    "        if 'автом' in row:\n",
    "            return 'операции с автомобилем'\n",
    "        elif 'жил' in row or 'недвиж' in row:\n",
    "            return 'операции с недвижимостью'\n",
    "        elif 'свад' in row:\n",
    "            return 'проведение свадьбы'\n",
    "        elif 'образов' in row:\n",
    "            return 'получение образования'\n",
    "    except:\n",
    "        return 'нет категории'"
   ]
  },
  {
   "cell_type": "code",
   "execution_count": 25,
   "id": "94c4a19a",
   "metadata": {
    "deletable": false,
    "id": "94c4a19a"
   },
   "outputs": [],
   "source": [
    "data['purpose_category'] = data['purpose'].apply(categorize_purpose)"
   ]
  },
  {
   "cell_type": "markdown",
   "id": "3d596c34",
   "metadata": {
    "id": "3d596c34"
   },
   "source": [
    "## Исследовательский анализ данных"
   ]
  },
  {
   "cell_type": "markdown",
   "id": "e5279fbf",
   "metadata": {},
   "source": [
    "Посмотрим влияние характеристик на факт возврата кредита в срок."
   ]
  },
  {
   "cell_type": "markdown",
   "id": "648db036",
   "metadata": {
    "id": "648db036"
   },
   "source": [
    "### Есть ли зависимость между количеством детей и возвратом кредита в срок?"
   ]
  },
  {
   "cell_type": "code",
   "execution_count": 26,
   "id": "7fcff25e",
   "metadata": {
    "deletable": false,
    "id": "7fcff25e"
   },
   "outputs": [],
   "source": [
    "# функция для подсчета доли в процентах:\n",
    "def conv(row):\n",
    "    s = row[1] # количество должников в этой группе\n",
    "    c = row[0] # всего кредитов выдано для этой группы\n",
    "    return f'{s/c:.1%}'"
   ]
  },
  {
   "cell_type": "code",
   "execution_count": 27,
   "id": "0a9d9b10",
   "metadata": {},
   "outputs": [
    {
     "data": {
      "text/html": [
       "<div>\n",
       "<style scoped>\n",
       "    .dataframe tbody tr th:only-of-type {\n",
       "        vertical-align: middle;\n",
       "    }\n",
       "\n",
       "    .dataframe tbody tr th {\n",
       "        vertical-align: top;\n",
       "    }\n",
       "\n",
       "    .dataframe thead th {\n",
       "        text-align: right;\n",
       "    }\n",
       "</style>\n",
       "<table border=\"1\" class=\"dataframe\">\n",
       "  <thead>\n",
       "    <tr style=\"text-align: right;\">\n",
       "      <th></th>\n",
       "      <th>credit_recipients</th>\n",
       "      <th>debtors</th>\n",
       "      <th>percentage_of_debtors</th>\n",
       "    </tr>\n",
       "    <tr>\n",
       "      <th>children</th>\n",
       "      <th></th>\n",
       "      <th></th>\n",
       "      <th></th>\n",
       "    </tr>\n",
       "  </thead>\n",
       "  <tbody>\n",
       "    <tr>\n",
       "      <th>0</th>\n",
       "      <td>14091</td>\n",
       "      <td>1063</td>\n",
       "      <td>7.5%</td>\n",
       "    </tr>\n",
       "    <tr>\n",
       "      <th>1</th>\n",
       "      <td>4808</td>\n",
       "      <td>444</td>\n",
       "      <td>9.2%</td>\n",
       "    </tr>\n",
       "    <tr>\n",
       "      <th>2</th>\n",
       "      <td>2052</td>\n",
       "      <td>194</td>\n",
       "      <td>9.5%</td>\n",
       "    </tr>\n",
       "    <tr>\n",
       "      <th>3</th>\n",
       "      <td>330</td>\n",
       "      <td>27</td>\n",
       "      <td>8.2%</td>\n",
       "    </tr>\n",
       "    <tr>\n",
       "      <th>4</th>\n",
       "      <td>41</td>\n",
       "      <td>4</td>\n",
       "      <td>9.8%</td>\n",
       "    </tr>\n",
       "    <tr>\n",
       "      <th>5</th>\n",
       "      <td>9</td>\n",
       "      <td>0</td>\n",
       "      <td>0.0%</td>\n",
       "    </tr>\n",
       "  </tbody>\n",
       "</table>\n",
       "</div>"
      ],
      "text/plain": [
       "          credit_recipients  debtors percentage_of_debtors\n",
       "children                                                  \n",
       "0                     14091     1063                  7.5%\n",
       "1                      4808      444                  9.2%\n",
       "2                      2052      194                  9.5%\n",
       "3                       330       27                  8.2%\n",
       "4                        41        4                  9.8%\n",
       "5                         9        0                  0.0%"
      ]
     },
     "execution_count": 27,
     "metadata": {},
     "output_type": "execute_result"
    }
   ],
   "source": [
    "pivot_children = data.pivot_table(index='children', values='debt', aggfunc=('count', 'sum'))\n",
    "pivot_children = pivot_children.rename(columns = {\n",
    "    'count' : 'credit_recipients',\n",
    "    'sum' : 'debtors'\n",
    "})\n",
    "pivot_children['percentage_of_debtors'] = pivot_children.apply(conv, axis=1)\n",
    "pivot_children"
   ]
  },
  {
   "cell_type": "markdown",
   "id": "2eb9088e",
   "metadata": {
    "deletable": false,
    "id": "2eb9088e"
   },
   "source": [
    "**Вывод:** \n",
    "Можно сказать, что существует зависимость между **наличием** детей в семье и возвратом кредита в срок: \n",
    "*если детей в семье нет, то долги возвращаются вовремя чаще*.\n",
    "При этом само количество детей практически не влияет на вероятность невозврата кредита в срок.\n",
    "\n",
    "Исходя из таблицы может появиться предположение о том, что при большом количестве детей (от пяти и более) должников не будет, но это неверно, т.к. статистических данных о таких многодетных семьях недостаточно, чтобы делать достоверные выводы.\n",
    "\n",
    "Кроме того, прослеживается следующая сильная зависимость: чем больше количество детей в семье, тем менее охотно человек берёт кредит."
   ]
  },
  {
   "cell_type": "markdown",
   "id": "74c9b3a7",
   "metadata": {
    "id": "74c9b3a7"
   },
   "source": [
    "### Есть ли зависимость между семейным положением и возвратом кредита в срок?"
   ]
  },
  {
   "cell_type": "code",
   "execution_count": 28,
   "id": "8098ab3b",
   "metadata": {
    "deletable": false,
    "id": "8098ab3b"
   },
   "outputs": [
    {
     "data": {
      "text/plain": [
       "array(['женат / замужем', 'гражданский брак', 'вдовец / вдова',\n",
       "       'в разводе', 'Не женат / не замужем'], dtype=object)"
      ]
     },
     "execution_count": 28,
     "metadata": {},
     "output_type": "execute_result"
    }
   ],
   "source": [
    "data['family_status'].unique() # какие статусы в целом присутствуют"
   ]
  },
  {
   "cell_type": "code",
   "execution_count": 29,
   "id": "b3cc1405",
   "metadata": {},
   "outputs": [
    {
     "data": {
      "text/html": [
       "<div>\n",
       "<style scoped>\n",
       "    .dataframe tbody tr th:only-of-type {\n",
       "        vertical-align: middle;\n",
       "    }\n",
       "\n",
       "    .dataframe tbody tr th {\n",
       "        vertical-align: top;\n",
       "    }\n",
       "\n",
       "    .dataframe thead th {\n",
       "        text-align: right;\n",
       "    }\n",
       "</style>\n",
       "<table border=\"1\" class=\"dataframe\">\n",
       "  <thead>\n",
       "    <tr style=\"text-align: right;\">\n",
       "      <th></th>\n",
       "      <th>credit_recipients</th>\n",
       "      <th>debtors</th>\n",
       "      <th>percentage_of_debtors</th>\n",
       "    </tr>\n",
       "    <tr>\n",
       "      <th>family_status</th>\n",
       "      <th></th>\n",
       "      <th></th>\n",
       "      <th></th>\n",
       "    </tr>\n",
       "  </thead>\n",
       "  <tbody>\n",
       "    <tr>\n",
       "      <th>Не женат / не замужем</th>\n",
       "      <td>2796</td>\n",
       "      <td>273</td>\n",
       "      <td>9.8%</td>\n",
       "    </tr>\n",
       "    <tr>\n",
       "      <th>гражданский брак</th>\n",
       "      <td>4134</td>\n",
       "      <td>385</td>\n",
       "      <td>9.3%</td>\n",
       "    </tr>\n",
       "    <tr>\n",
       "      <th>женат / замужем</th>\n",
       "      <td>12261</td>\n",
       "      <td>927</td>\n",
       "      <td>7.6%</td>\n",
       "    </tr>\n",
       "    <tr>\n",
       "      <th>в разводе</th>\n",
       "      <td>1189</td>\n",
       "      <td>84</td>\n",
       "      <td>7.1%</td>\n",
       "    </tr>\n",
       "    <tr>\n",
       "      <th>вдовец / вдова</th>\n",
       "      <td>951</td>\n",
       "      <td>63</td>\n",
       "      <td>6.6%</td>\n",
       "    </tr>\n",
       "  </tbody>\n",
       "</table>\n",
       "</div>"
      ],
      "text/plain": [
       "                       credit_recipients  debtors percentage_of_debtors\n",
       "family_status                                                          \n",
       "Не женат / не замужем               2796      273                  9.8%\n",
       "гражданский брак                    4134      385                  9.3%\n",
       "женат / замужем                    12261      927                  7.6%\n",
       "в разводе                           1189       84                  7.1%\n",
       "вдовец / вдова                       951       63                  6.6%"
      ]
     },
     "execution_count": 29,
     "metadata": {},
     "output_type": "execute_result"
    }
   ],
   "source": [
    "pivot_family = data.pivot_table(index='family_status', values='debt', aggfunc=('count', 'sum'))\n",
    "pivot_family = pivot_family.rename(columns = {\n",
    "    'count' : 'credit_recipients',\n",
    "    'sum' : 'debtors'\n",
    "})\n",
    "pivot_family['percentage_of_debtors'] = pivot_family.apply(conv, axis=1)\n",
    "pivot_family.sort_values(by='percentage_of_debtors', ascending=False)"
   ]
  },
  {
   "cell_type": "markdown",
   "id": "c389ca63",
   "metadata": {
    "id": "c389ca63"
   },
   "source": [
    "**Вывод:** \n",
    "Существует зависимость между семейным положением и возвратом кредита в срок. Больше всего должников среди не женатых / не замужних кредитополучателей, меньше всего - у вдовцов / вдов."
   ]
  },
  {
   "cell_type": "markdown",
   "id": "9529de68",
   "metadata": {
    "id": "9529de68"
   },
   "source": [
    "### Есть ли зависимость между уровнем дохода и возвратом кредита в срок?"
   ]
  },
  {
   "cell_type": "code",
   "execution_count": 30,
   "id": "8787f44a",
   "metadata": {
    "deletable": false,
    "id": "8787f44a"
   },
   "outputs": [
    {
     "data": {
      "text/html": [
       "<div>\n",
       "<style scoped>\n",
       "    .dataframe tbody tr th:only-of-type {\n",
       "        vertical-align: middle;\n",
       "    }\n",
       "\n",
       "    .dataframe tbody tr th {\n",
       "        vertical-align: top;\n",
       "    }\n",
       "\n",
       "    .dataframe thead th {\n",
       "        text-align: right;\n",
       "    }\n",
       "</style>\n",
       "<table border=\"1\" class=\"dataframe\">\n",
       "  <thead>\n",
       "    <tr style=\"text-align: right;\">\n",
       "      <th></th>\n",
       "      <th>credit_recipients</th>\n",
       "      <th>debtors</th>\n",
       "      <th>percentage_of_debtors</th>\n",
       "    </tr>\n",
       "    <tr>\n",
       "      <th>total_income_category</th>\n",
       "      <th></th>\n",
       "      <th></th>\n",
       "      <th></th>\n",
       "    </tr>\n",
       "  </thead>\n",
       "  <tbody>\n",
       "    <tr>\n",
       "      <th>A</th>\n",
       "      <td>25</td>\n",
       "      <td>2</td>\n",
       "      <td>8.0%</td>\n",
       "    </tr>\n",
       "    <tr>\n",
       "      <th>B</th>\n",
       "      <td>5014</td>\n",
       "      <td>354</td>\n",
       "      <td>7.1%</td>\n",
       "    </tr>\n",
       "    <tr>\n",
       "      <th>C</th>\n",
       "      <td>15921</td>\n",
       "      <td>1353</td>\n",
       "      <td>8.5%</td>\n",
       "    </tr>\n",
       "    <tr>\n",
       "      <th>D</th>\n",
       "      <td>349</td>\n",
       "      <td>21</td>\n",
       "      <td>6.0%</td>\n",
       "    </tr>\n",
       "    <tr>\n",
       "      <th>E</th>\n",
       "      <td>22</td>\n",
       "      <td>2</td>\n",
       "      <td>9.1%</td>\n",
       "    </tr>\n",
       "  </tbody>\n",
       "</table>\n",
       "</div>"
      ],
      "text/plain": [
       "                       credit_recipients  debtors percentage_of_debtors\n",
       "total_income_category                                                  \n",
       "A                                     25        2                  8.0%\n",
       "B                                   5014      354                  7.1%\n",
       "C                                  15921     1353                  8.5%\n",
       "D                                    349       21                  6.0%\n",
       "E                                     22        2                  9.1%"
      ]
     },
     "execution_count": 30,
     "metadata": {},
     "output_type": "execute_result"
    }
   ],
   "source": [
    "pivot_income = data.pivot_table(index='total_income_category', values='debt', aggfunc=('count', 'sum'))\n",
    "pivot_income = pivot_income.rename(columns = {\n",
    "    'count' : 'credit_recipients',\n",
    "    'sum' : 'debtors'\n",
    "})\n",
    "pivot_income['percentage_of_debtors'] = pivot_income.apply(conv, axis=1)\n",
    "pivot_income"
   ]
  },
  {
   "cell_type": "code",
   "execution_count": 31,
   "id": "34658b3b",
   "metadata": {},
   "outputs": [
    {
     "name": "stdout",
     "output_type": "stream",
     "text": [
      "Доля кредитополучателей категории С: 75%\n"
     ]
    }
   ],
   "source": [
    "#Доля кредитополучателей с уровнем дохода категории С:\n",
    "print('Доля кредитополучателей категории С:', \n",
    "      f\"{pivot_income.loc['C']['credit_recipients'] / pivot_income['credit_recipients'].sum():.0%}\")"
   ]
  },
  {
   "cell_type": "markdown",
   "id": "6dd14b57",
   "metadata": {
    "deletable": false,
    "id": "6dd14b57"
   },
   "source": [
    "**Вывод:** зависимость возврата кредита в срок от уровня дохода не однозначная.\n",
    "\n",
    "Можно отметить, что кредитополучатели с уровнем дохода категории **Е** (до 30 000) реже остальных возвращают кредиты срок, но требуется больше данных о кредитах этой группы, чтобы это утверждение подтвердилось. При этом меньше всего должников среди кредитополучателей в категории **D** (от 30 001 до 50 000).\n",
    "\n",
    "Также можно отметить, что больше всего кредитов берут люди с доходом в категории **С** (от 50 0001 до 200 000), они составляют 75% от всех кредитополучателей."
   ]
  },
  {
   "cell_type": "markdown",
   "id": "1dcc9b12",
   "metadata": {
    "id": "1dcc9b12"
   },
   "source": [
    "### Как разные цели кредита влияют на его возврат в срок?"
   ]
  },
  {
   "cell_type": "code",
   "execution_count": 32,
   "id": "c602bc8b",
   "metadata": {
    "deletable": false,
    "id": "c602bc8b"
   },
   "outputs": [
    {
     "data": {
      "text/html": [
       "<div>\n",
       "<style scoped>\n",
       "    .dataframe tbody tr th:only-of-type {\n",
       "        vertical-align: middle;\n",
       "    }\n",
       "\n",
       "    .dataframe tbody tr th {\n",
       "        vertical-align: top;\n",
       "    }\n",
       "\n",
       "    .dataframe thead th {\n",
       "        text-align: right;\n",
       "    }\n",
       "</style>\n",
       "<table border=\"1\" class=\"dataframe\">\n",
       "  <thead>\n",
       "    <tr style=\"text-align: right;\">\n",
       "      <th></th>\n",
       "      <th>credit_recipients</th>\n",
       "      <th>debtors</th>\n",
       "      <th>percentage_of_debtors</th>\n",
       "    </tr>\n",
       "    <tr>\n",
       "      <th>purpose_category</th>\n",
       "      <th></th>\n",
       "      <th></th>\n",
       "      <th></th>\n",
       "    </tr>\n",
       "  </thead>\n",
       "  <tbody>\n",
       "    <tr>\n",
       "      <th>операции с автомобилем</th>\n",
       "      <td>4279</td>\n",
       "      <td>400</td>\n",
       "      <td>9.3%</td>\n",
       "    </tr>\n",
       "    <tr>\n",
       "      <th>получение образования</th>\n",
       "      <td>3988</td>\n",
       "      <td>369</td>\n",
       "      <td>9.3%</td>\n",
       "    </tr>\n",
       "    <tr>\n",
       "      <th>проведение свадьбы</th>\n",
       "      <td>2313</td>\n",
       "      <td>183</td>\n",
       "      <td>7.9%</td>\n",
       "    </tr>\n",
       "    <tr>\n",
       "      <th>операции с недвижимостью</th>\n",
       "      <td>10751</td>\n",
       "      <td>780</td>\n",
       "      <td>7.3%</td>\n",
       "    </tr>\n",
       "  </tbody>\n",
       "</table>\n",
       "</div>"
      ],
      "text/plain": [
       "                          credit_recipients  debtors percentage_of_debtors\n",
       "purpose_category                                                          \n",
       "операции с автомобилем                 4279      400                  9.3%\n",
       "получение образования                  3988      369                  9.3%\n",
       "проведение свадьбы                     2313      183                  7.9%\n",
       "операции с недвижимостью              10751      780                  7.3%"
      ]
     },
     "execution_count": 32,
     "metadata": {},
     "output_type": "execute_result"
    }
   ],
   "source": [
    "# Ваш код будет здесь. Вы можете создавать новые ячейки.\n",
    "pivot_purpose = data.pivot_table(index='purpose_category', values='debt', aggfunc=('count', 'sum'))\n",
    "pivot_purpose = pivot_purpose.rename(columns = {\n",
    "    'count' : 'credit_recipients',\n",
    "    'sum' : 'debtors'\n",
    "})\n",
    "pivot_purpose['percentage_of_debtors'] = pivot_purpose.apply(conv, axis=1)\n",
    "pivot_purpose.sort_values(by='percentage_of_debtors', ascending=False)"
   ]
  },
  {
   "cell_type": "markdown",
   "id": "cf05ed63",
   "metadata": {
    "deletable": false,
    "id": "cf05ed63"
   },
   "source": [
    "**Вывод:** \n",
    "количество должников больше, когда кредит берётся для *операций с автомобилем* и для *получения образования*."
   ]
  },
  {
   "cell_type": "markdown",
   "id": "57bc304e",
   "metadata": {
    "id": "57bc304e"
   },
   "source": [
    "## Вывод"
   ]
  },
  {
   "cell_type": "markdown",
   "id": "1ab75d1c",
   "metadata": {
    "id": "1ab75d1c"
   },
   "source": [
    "В ходе исследования выяснилось, что большое влияние на вероятность выплаты кредита в срок оказывают **наличие детей в семье** и **семейное положение** кредитополучателя: \n",
    " - среди кредитополучателей без детей меньше должников, чем среди тех, у кого дети есть;\n",
    " - количество детей практически не влияет на возврат кредита в срок;\n",
    " - меньше всего должников среди вдовцов / вдов;\n",
    " - больше всего должников среди незамужних / неженатых.\n",
    " \n",
    "Чаще кредиты возвращают в срок люди с *категорией дохода D*, но больше всего кредитов берут люди с категорией дохода С.\n",
    "\n",
    "Кредиты, выданные на *проведение свадьбы* или *операции с недвижимостью*, заметно чаще возвращают в срок, чем те, что выданы на операции с автомобилем или получение образования."
   ]
  }
 ],
 "metadata": {
  "ExecuteTimeLog": [
   {
    "duration": 747,
    "start_time": "2023-01-21T06:57:02.115Z"
   },
   {
    "duration": 37,
    "start_time": "2023-01-21T06:57:09.022Z"
   },
   {
    "duration": 15,
    "start_time": "2023-01-21T07:18:42.216Z"
   },
   {
    "duration": 12,
    "start_time": "2023-01-21T07:45:27.018Z"
   },
   {
    "duration": 34,
    "start_time": "2023-01-21T07:45:29.409Z"
   },
   {
    "duration": 4,
    "start_time": "2023-01-21T07:45:32.134Z"
   },
   {
    "duration": 13,
    "start_time": "2023-01-21T07:45:34.295Z"
   },
   {
    "duration": 5,
    "start_time": "2023-01-21T07:45:38.536Z"
   },
   {
    "duration": 7,
    "start_time": "2023-01-21T07:45:40.541Z"
   },
   {
    "duration": 5,
    "start_time": "2023-01-21T07:45:43.405Z"
   },
   {
    "duration": 46,
    "start_time": "2023-01-21T07:45:47.804Z"
   },
   {
    "duration": 15,
    "start_time": "2023-01-21T07:45:49.904Z"
   },
   {
    "duration": 4,
    "start_time": "2023-01-21T07:45:55.452Z"
   },
   {
    "duration": 26,
    "start_time": "2023-01-21T07:45:58.207Z"
   },
   {
    "duration": 22,
    "start_time": "2023-01-21T07:46:01.309Z"
   },
   {
    "duration": 20,
    "start_time": "2023-01-21T07:46:21.164Z"
   },
   {
    "duration": 4,
    "start_time": "2023-01-21T07:46:34.134Z"
   },
   {
    "duration": 13,
    "start_time": "2023-01-21T07:46:36.766Z"
   },
   {
    "duration": 6,
    "start_time": "2023-01-21T07:46:39.603Z"
   },
   {
    "duration": 4,
    "start_time": "2023-01-21T07:47:16.070Z"
   },
   {
    "duration": 8,
    "start_time": "2023-01-21T07:47:33.448Z"
   },
   {
    "duration": 49,
    "start_time": "2023-01-23T06:47:57.444Z"
   },
   {
    "duration": 557,
    "start_time": "2023-01-23T06:48:03.624Z"
   },
   {
    "duration": 23,
    "start_time": "2023-01-23T06:48:06.871Z"
   },
   {
    "duration": 23,
    "start_time": "2023-01-23T06:48:09.467Z"
   },
   {
    "duration": 10,
    "start_time": "2023-01-23T06:48:11.598Z"
   },
   {
    "duration": 35,
    "start_time": "2023-01-23T06:48:13.576Z"
   },
   {
    "duration": 4,
    "start_time": "2023-01-23T06:48:17.950Z"
   },
   {
    "duration": 10,
    "start_time": "2023-01-23T06:48:19.707Z"
   },
   {
    "duration": 5,
    "start_time": "2023-01-23T06:48:21.802Z"
   },
   {
    "duration": 6,
    "start_time": "2023-01-23T06:48:23.446Z"
   },
   {
    "duration": 5,
    "start_time": "2023-01-23T06:48:25.387Z"
   },
   {
    "duration": 37,
    "start_time": "2023-01-23T06:48:27.309Z"
   },
   {
    "duration": 11,
    "start_time": "2023-01-23T06:48:29.578Z"
   },
   {
    "duration": 4,
    "start_time": "2023-01-23T06:48:33.978Z"
   },
   {
    "duration": 13,
    "start_time": "2023-01-23T06:48:35.468Z"
   },
   {
    "duration": 21,
    "start_time": "2023-01-23T06:48:37.251Z"
   },
   {
    "duration": 19,
    "start_time": "2023-01-23T06:48:39.668Z"
   },
   {
    "duration": 4,
    "start_time": "2023-01-23T06:48:43.052Z"
   },
   {
    "duration": 11,
    "start_time": "2023-01-23T06:48:44.966Z"
   },
   {
    "duration": 4,
    "start_time": "2023-01-23T06:48:50.217Z"
   },
   {
    "duration": 9,
    "start_time": "2023-01-23T06:48:52.219Z"
   },
   {
    "duration": 29,
    "start_time": "2023-01-23T06:48:55.889Z"
   },
   {
    "duration": 12,
    "start_time": "2023-01-23T06:49:05.580Z"
   },
   {
    "duration": 20,
    "start_time": "2023-01-23T06:52:55.217Z"
   },
   {
    "duration": 13,
    "start_time": "2023-01-23T06:57:11.970Z"
   },
   {
    "duration": 18,
    "start_time": "2023-01-23T06:59:46.329Z"
   },
   {
    "duration": 9,
    "start_time": "2023-01-23T07:00:00.080Z"
   },
   {
    "duration": 24,
    "start_time": "2023-01-23T07:00:27.779Z"
   },
   {
    "duration": 21,
    "start_time": "2023-01-23T07:00:41.192Z"
   },
   {
    "duration": 5,
    "start_time": "2023-01-23T07:01:32.972Z"
   },
   {
    "duration": 1273,
    "start_time": "2023-01-23T07:02:29.768Z"
   },
   {
    "duration": 4,
    "start_time": "2023-01-23T07:03:20.866Z"
   },
   {
    "duration": 1101,
    "start_time": "2023-01-23T07:03:24.416Z"
   },
   {
    "duration": 4,
    "start_time": "2023-01-23T07:03:43.460Z"
   },
   {
    "duration": 17,
    "start_time": "2023-01-23T07:03:54.037Z"
   },
   {
    "duration": 31,
    "start_time": "2023-01-23T07:04:56.704Z"
   },
   {
    "duration": 19,
    "start_time": "2023-01-23T07:05:25.242Z"
   },
   {
    "duration": 12,
    "start_time": "2023-01-23T07:09:13.504Z"
   },
   {
    "duration": 16,
    "start_time": "2023-01-23T07:09:47.668Z"
   },
   {
    "duration": 8,
    "start_time": "2023-01-23T07:10:19.230Z"
   },
   {
    "duration": 19,
    "start_time": "2023-01-23T07:10:29.385Z"
   },
   {
    "duration": 17,
    "start_time": "2023-01-23T07:10:34.380Z"
   },
   {
    "duration": 20,
    "start_time": "2023-01-23T07:20:24.760Z"
   },
   {
    "duration": 16,
    "start_time": "2023-01-23T07:22:51.070Z"
   },
   {
    "duration": 17,
    "start_time": "2023-01-23T07:22:57.465Z"
   },
   {
    "duration": 19,
    "start_time": "2023-01-23T07:23:27.030Z"
   },
   {
    "duration": 19,
    "start_time": "2023-01-23T07:23:41.108Z"
   },
   {
    "duration": 22,
    "start_time": "2023-01-23T07:24:27.551Z"
   },
   {
    "duration": 28,
    "start_time": "2023-01-23T07:24:41.076Z"
   },
   {
    "duration": 20,
    "start_time": "2023-01-23T07:24:45.930Z"
   },
   {
    "duration": 21,
    "start_time": "2023-01-23T07:26:41.581Z"
   },
   {
    "duration": 19,
    "start_time": "2023-01-23T07:27:06.813Z"
   },
   {
    "duration": 21,
    "start_time": "2023-01-23T07:27:14.563Z"
   },
   {
    "duration": 16,
    "start_time": "2023-01-23T07:31:26.257Z"
   },
   {
    "duration": 21,
    "start_time": "2023-01-23T07:31:34.598Z"
   },
   {
    "duration": 20,
    "start_time": "2023-01-23T07:35:11.893Z"
   },
   {
    "duration": 21,
    "start_time": "2023-01-23T07:35:24.850Z"
   },
   {
    "duration": 21,
    "start_time": "2023-01-23T07:35:53.787Z"
   },
   {
    "duration": 22,
    "start_time": "2023-01-23T07:36:41.506Z"
   },
   {
    "duration": 20,
    "start_time": "2023-01-23T07:36:48.350Z"
   },
   {
    "duration": 20,
    "start_time": "2023-01-23T07:37:46.008Z"
   },
   {
    "duration": 30,
    "start_time": "2023-01-23T07:39:08.113Z"
   },
   {
    "duration": 25,
    "start_time": "2023-01-23T07:39:28.883Z"
   },
   {
    "duration": 6,
    "start_time": "2023-01-23T07:57:09.782Z"
   },
   {
    "duration": 6,
    "start_time": "2023-01-23T07:57:22.144Z"
   },
   {
    "duration": 15,
    "start_time": "2023-01-23T08:01:06.598Z"
   },
   {
    "duration": 20,
    "start_time": "2023-01-23T08:01:24.248Z"
   },
   {
    "duration": 15,
    "start_time": "2023-01-23T08:04:37.833Z"
   },
   {
    "duration": 26,
    "start_time": "2023-01-23T08:04:43.540Z"
   },
   {
    "duration": 21,
    "start_time": "2023-01-23T08:05:03.241Z"
   },
   {
    "duration": 21,
    "start_time": "2023-01-23T08:05:15.721Z"
   },
   {
    "duration": 20,
    "start_time": "2023-01-23T08:05:19.585Z"
   },
   {
    "duration": 20,
    "start_time": "2023-01-23T08:05:23.373Z"
   },
   {
    "duration": 21,
    "start_time": "2023-01-23T08:07:14.747Z"
   },
   {
    "duration": 21,
    "start_time": "2023-01-23T08:07:28.614Z"
   },
   {
    "duration": 162,
    "start_time": "2023-01-23T08:13:20.118Z"
   },
   {
    "duration": 20,
    "start_time": "2023-01-23T08:14:21.448Z"
   },
   {
    "duration": 16,
    "start_time": "2023-01-23T08:14:34.825Z"
   },
   {
    "duration": 22,
    "start_time": "2023-01-23T08:14:41.881Z"
   },
   {
    "duration": 85,
    "start_time": "2023-01-23T08:21:33.569Z"
   },
   {
    "duration": 21,
    "start_time": "2023-01-23T08:22:00.234Z"
   },
   {
    "duration": 20,
    "start_time": "2023-01-23T08:23:40.072Z"
   },
   {
    "duration": 1147,
    "start_time": "2023-01-23T08:33:25.549Z"
   },
   {
    "duration": 7,
    "start_time": "2023-01-23T08:33:45.014Z"
   },
   {
    "duration": 1225,
    "start_time": "2023-01-23T08:33:56.687Z"
   },
   {
    "duration": 5,
    "start_time": "2023-01-23T08:34:32.945Z"
   },
   {
    "duration": 4,
    "start_time": "2023-01-23T08:34:54.058Z"
   },
   {
    "duration": 5,
    "start_time": "2023-01-23T08:35:44.714Z"
   },
   {
    "duration": 5,
    "start_time": "2023-01-23T08:36:17.454Z"
   },
   {
    "duration": 82,
    "start_time": "2023-01-23T08:37:13.563Z"
   },
   {
    "duration": 72,
    "start_time": "2023-01-23T08:37:38.593Z"
   },
   {
    "duration": 4,
    "start_time": "2023-01-23T08:38:08.454Z"
   },
   {
    "duration": 4,
    "start_time": "2023-01-23T08:38:13.422Z"
   },
   {
    "duration": 4,
    "start_time": "2023-01-23T08:38:17.993Z"
   },
   {
    "duration": 3,
    "start_time": "2023-01-23T08:44:07.961Z"
   },
   {
    "duration": 22,
    "start_time": "2023-01-23T08:45:37.084Z"
   },
   {
    "duration": 25,
    "start_time": "2023-01-23T08:45:47.455Z"
   },
   {
    "duration": 22,
    "start_time": "2023-01-23T08:46:18.293Z"
   },
   {
    "duration": 32,
    "start_time": "2023-01-23T08:46:44.457Z"
   },
   {
    "duration": 20,
    "start_time": "2023-01-23T09:02:30.892Z"
   },
   {
    "duration": 69,
    "start_time": "2023-01-23T09:07:12.622Z"
   },
   {
    "duration": 32,
    "start_time": "2023-01-23T09:07:16.521Z"
   },
   {
    "duration": 30,
    "start_time": "2023-01-23T09:08:00.882Z"
   },
   {
    "duration": 760,
    "start_time": "2023-01-24T04:10:42.246Z"
   },
   {
    "duration": 24,
    "start_time": "2023-01-24T04:10:43.008Z"
   },
   {
    "duration": 17,
    "start_time": "2023-01-24T04:10:43.034Z"
   },
   {
    "duration": 16,
    "start_time": "2023-01-24T04:10:43.053Z"
   },
   {
    "duration": 52,
    "start_time": "2023-01-24T04:10:43.071Z"
   },
   {
    "duration": 3,
    "start_time": "2023-01-24T04:10:43.125Z"
   },
   {
    "duration": 21,
    "start_time": "2023-01-24T04:10:43.129Z"
   },
   {
    "duration": 16,
    "start_time": "2023-01-24T04:10:43.151Z"
   },
   {
    "duration": 32,
    "start_time": "2023-01-24T04:10:43.169Z"
   },
   {
    "duration": 26,
    "start_time": "2023-01-24T04:10:43.204Z"
   },
   {
    "duration": 79,
    "start_time": "2023-01-24T04:10:43.232Z"
   },
   {
    "duration": 10,
    "start_time": "2023-01-24T04:10:43.313Z"
   },
   {
    "duration": 18,
    "start_time": "2023-01-24T04:10:43.326Z"
   },
   {
    "duration": 34,
    "start_time": "2023-01-24T04:10:43.346Z"
   },
   {
    "duration": 68,
    "start_time": "2023-01-24T04:10:43.382Z"
   },
   {
    "duration": 28,
    "start_time": "2023-01-24T04:10:43.453Z"
   },
   {
    "duration": 12,
    "start_time": "2023-01-24T04:10:43.483Z"
   },
   {
    "duration": 43,
    "start_time": "2023-01-24T04:10:43.497Z"
   },
   {
    "duration": 25,
    "start_time": "2023-01-24T04:10:43.541Z"
   },
   {
    "duration": 9,
    "start_time": "2023-01-24T04:10:43.568Z"
   },
   {
    "duration": 39,
    "start_time": "2023-01-24T04:10:43.579Z"
   },
   {
    "duration": 42,
    "start_time": "2023-01-24T04:10:43.620Z"
   },
   {
    "duration": 5,
    "start_time": "2023-01-24T04:10:43.664Z"
   },
   {
    "duration": 25,
    "start_time": "2023-01-24T04:10:43.671Z"
   },
   {
    "duration": 39,
    "start_time": "2023-01-24T04:10:43.699Z"
   },
   {
    "duration": 4,
    "start_time": "2023-01-24T04:10:43.739Z"
   },
   {
    "duration": 25,
    "start_time": "2023-01-24T04:10:43.745Z"
   },
   {
    "duration": 11,
    "start_time": "2023-01-24T04:12:04.153Z"
   },
   {
    "duration": 18,
    "start_time": "2023-01-24T04:12:08.133Z"
   },
   {
    "duration": 11,
    "start_time": "2023-01-24T04:12:12.132Z"
   },
   {
    "duration": 52,
    "start_time": "2023-01-24T08:18:59.979Z"
   },
   {
    "duration": 524,
    "start_time": "2023-01-24T08:19:07.328Z"
   },
   {
    "duration": 22,
    "start_time": "2023-01-24T08:19:07.854Z"
   },
   {
    "duration": 14,
    "start_time": "2023-01-24T08:19:07.878Z"
   },
   {
    "duration": 21,
    "start_time": "2023-01-24T08:19:07.894Z"
   },
   {
    "duration": 32,
    "start_time": "2023-01-24T08:19:07.917Z"
   },
   {
    "duration": 3,
    "start_time": "2023-01-24T08:19:07.950Z"
   },
   {
    "duration": 13,
    "start_time": "2023-01-24T08:19:07.955Z"
   },
   {
    "duration": 4,
    "start_time": "2023-01-24T08:19:07.970Z"
   },
   {
    "duration": 11,
    "start_time": "2023-01-24T08:19:07.975Z"
   },
   {
    "duration": 12,
    "start_time": "2023-01-24T08:19:08.003Z"
   },
   {
    "duration": 52,
    "start_time": "2023-01-24T08:19:08.018Z"
   },
   {
    "duration": 8,
    "start_time": "2023-01-24T08:19:08.072Z"
   },
   {
    "duration": 5,
    "start_time": "2023-01-24T08:19:08.082Z"
   },
   {
    "duration": 20,
    "start_time": "2023-01-24T08:19:08.089Z"
   },
   {
    "duration": 21,
    "start_time": "2023-01-24T08:19:08.113Z"
   },
   {
    "duration": 22,
    "start_time": "2023-01-24T08:19:08.136Z"
   },
   {
    "duration": 4,
    "start_time": "2023-01-24T08:19:08.159Z"
   },
   {
    "duration": 13,
    "start_time": "2023-01-24T08:19:08.165Z"
   },
   {
    "duration": 31,
    "start_time": "2023-01-24T08:19:08.180Z"
   },
   {
    "duration": 4,
    "start_time": "2023-01-24T08:19:08.214Z"
   },
   {
    "duration": 13,
    "start_time": "2023-01-24T08:19:08.219Z"
   },
   {
    "duration": 28,
    "start_time": "2023-01-24T08:19:08.233Z"
   },
   {
    "duration": 12,
    "start_time": "2023-01-24T08:19:08.263Z"
   },
   {
    "duration": 27,
    "start_time": "2023-01-24T08:19:08.277Z"
   },
   {
    "duration": 28,
    "start_time": "2023-01-24T08:19:08.309Z"
   },
   {
    "duration": 7,
    "start_time": "2023-01-24T08:19:08.339Z"
   },
   {
    "duration": 37,
    "start_time": "2023-01-24T08:19:08.347Z"
   },
   {
    "duration": 24,
    "start_time": "2023-01-24T08:19:08.388Z"
   },
   {
    "duration": 9,
    "start_time": "2023-01-24T08:19:08.416Z"
   },
   {
    "duration": 44,
    "start_time": "2023-01-24T08:19:09.968Z"
   },
   {
    "duration": 55,
    "start_time": "2023-01-24T08:33:17.982Z"
   },
   {
    "duration": 19,
    "start_time": "2023-01-24T08:33:23.058Z"
   }
  ],
  "colab": {
   "provenance": []
  },
  "kernelspec": {
   "display_name": "Python 3 (ipykernel)",
   "language": "python",
   "name": "python3"
  },
  "language_info": {
   "codemirror_mode": {
    "name": "ipython",
    "version": 3
   },
   "file_extension": ".py",
   "mimetype": "text/x-python",
   "name": "python",
   "nbconvert_exporter": "python",
   "pygments_lexer": "ipython3",
   "version": "3.9.18"
  },
  "toc": {
   "base_numbering": 1,
   "nav_menu": {
    "height": "322px",
    "width": "256px"
   },
   "number_sections": true,
   "sideBar": true,
   "skip_h1_title": true,
   "title_cell": "Содержание",
   "title_sidebar": "Contents",
   "toc_cell": true,
   "toc_position": {
    "height": "calc(100% - 180px)",
    "left": "10px",
    "top": "150px",
    "width": "336px"
   },
   "toc_section_display": true,
   "toc_window_display": true
  }
 },
 "nbformat": 4,
 "nbformat_minor": 5
}
