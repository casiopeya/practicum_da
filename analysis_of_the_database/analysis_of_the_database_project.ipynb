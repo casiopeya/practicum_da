{
 "cells": [
  {
   "cell_type": "markdown",
   "metadata": {},
   "source": [
    "# Анализ базы данных сервиса для чтения книг"
   ]
  },
  {
   "cell_type": "markdown",
   "metadata": {},
   "source": [
    "<font size=\"4\"><b>О проекте:</b></font>\n",
    "\n",
    "В настоящее время у людей появился повышенный интерес к книгам, в связи с чем актуальным стало создание удобных приложений для чтения книг. Наша компания приобрела сервис для чтения книг по подписке с целью создания нового продукта. Первый этап достижения этой цели - исследование приобретенной базы данных, это задача данного исследования.\n",
    "\n",
    "<font size=\"4\"><b>Описание данных:</b></font>\n",
    "\n",
    "База данных образована 5-ю таблицами.\n",
    "\n",
    "1. Таблица `books` - содержит данные о книгах:\n",
    "\n",
    "    * `book_id` — идентификатор книги;\n",
    "    * `author_id` — идентификатор автора;\n",
    "    * `title` — название книги;\n",
    "    * `num_pages` — количество страниц;\n",
    "    * `publication_date` — дата публикации книги;\n",
    "    * `publisher_id` — идентификатор издателя.\n",
    "    \n",
    "    \n",
    "2. Таблица `authors` - содержит данные об авторах:\n",
    "    * `author_id` — идентификатор автора;\n",
    "    * `author` — имя автора.\n",
    "    \n",
    "   \n",
    "3. Таблица `publishers` - содержит данные об издательствах:\n",
    "    * `publisher_id` — идентификатор издательства;\n",
    "    * `publisher` — название издательства.\n",
    "    \n",
    "    \n",
    "4. Таблица `ratings` - содержит данные о пользовательских оценках книг: \n",
    "    * `rating_id` — идентификатор оценки;\n",
    "    * `book_id` — идентификатор книги;\n",
    "    * `username` — имя пользователя, оставившего оценку;\n",
    "    * `rating` — оценка книги.\n",
    "    \n",
    "    \n",
    "5. Таблица `reviews` - содержит данные о пользовательских обзорах: \n",
    "    * `review_id` — идентификатор обзора;\n",
    "    * `book_id` — идентификатор книги;\n",
    "    * `username` — имя автора обзора;\n",
    "    * `text` — текст обзора.\n",
    "\n",
    "<font size=\"4\"><b>Схема данных:</b></font>\n",
    "\n",
    "<img src=https://pictures.s3.yandex.net/resources/scheme_1589269096.png>"
   ]
  },
  {
   "cell_type": "markdown",
   "metadata": {
    "toc": true
   },
   "source": [
    "<h1>Содержание<span class=\"tocSkip\"></span></h1>\n",
    "<div class=\"toc\"><ul class=\"toc-item\"><li><span><a href=\"#Общая-информация\" data-toc-modified-id=\"Общая-информация-1\"><span class=\"toc-item-num\">1&nbsp;&nbsp;</span>Общая информация</a></span><ul class=\"toc-item\"><li><span><a href=\"#Загрузка-данных\" data-toc-modified-id=\"Загрузка-данных-1.1\"><span class=\"toc-item-num\">1.1&nbsp;&nbsp;</span>Загрузка данных</a></span></li><li><span><a href=\"#Определение-функций\" data-toc-modified-id=\"Определение-функций-1.2\"><span class=\"toc-item-num\">1.2&nbsp;&nbsp;</span>Определение функций</a></span><ul class=\"toc-item\"><li><span><a href=\"#df_info()\" data-toc-modified-id=\"df_info()-1.2.1\"><span class=\"toc-item-num\">1.2.1&nbsp;&nbsp;</span><code>df_info()</code></a></span></li><li><span><a href=\"#query_this()\" data-toc-modified-id=\"query_this()-1.2.2\"><span class=\"toc-item-num\">1.2.2&nbsp;&nbsp;</span><code>query_this()</code></a></span></li></ul></li><li><span><a href=\"#Общая-информация-о-данных\" data-toc-modified-id=\"Общая-информация-о-данных-1.3\"><span class=\"toc-item-num\">1.3&nbsp;&nbsp;</span>Общая информация о данных</a></span></li></ul></li><li><span><a href=\"#Исследование-БД\" data-toc-modified-id=\"Исследование-БД-2\"><span class=\"toc-item-num\">2&nbsp;&nbsp;</span>Исследование БД</a></span><ul class=\"toc-item\"><li><span><a href=\"#Количество-книг,-выпущенных-в-21-м-веке\" data-toc-modified-id=\"Количество-книг,-выпущенных-в-21-м-веке-2.1\"><span class=\"toc-item-num\">2.1&nbsp;&nbsp;</span>Количество книг, выпущенных в 21-м веке</a></span></li><li><span><a href=\"#Количество-обзоров-и-средняя-оценка-каждой-книги\" data-toc-modified-id=\"Количество-обзоров-и-средняя-оценка-каждой-книги-2.2\"><span class=\"toc-item-num\">2.2&nbsp;&nbsp;</span>Количество обзоров и средняя оценка каждой книги</a></span></li><li><span><a href=\"#Самое-масштабное-издательство\" data-toc-modified-id=\"Самое-масштабное-издательство-2.3\"><span class=\"toc-item-num\">2.3&nbsp;&nbsp;</span>Самое масштабное издательство</a></span></li><li><span><a href=\"#Самый-успешный-автор\" data-toc-modified-id=\"Самый-успешный-автор-2.4\"><span class=\"toc-item-num\">2.4&nbsp;&nbsp;</span>Самый успешный автор</a></span></li><li><span><a href=\"#Количество-обзоров-самых-активных-пользователей\" data-toc-modified-id=\"Количество-обзоров-самых-активных-пользователей-2.5\"><span class=\"toc-item-num\">2.5&nbsp;&nbsp;</span>Количество обзоров самых активных пользователей</a></span></li></ul></li><li><span><a href=\"#Вывод\" data-toc-modified-id=\"Вывод-3\"><span class=\"toc-item-num\">3&nbsp;&nbsp;</span>Вывод</a></span></li></ul></div>"
   ]
  },
  {
   "cell_type": "markdown",
   "metadata": {},
   "source": [
    "## Общая информация"
   ]
  },
  {
   "cell_type": "markdown",
   "metadata": {},
   "source": [
    "### Загрузка данных"
   ]
  },
  {
   "cell_type": "code",
   "execution_count": 1,
   "metadata": {},
   "outputs": [],
   "source": [
    "# импортируем библиотеки\n",
    "import pandas as pd\n",
    "from sqlalchemy import text, create_engine"
   ]
  },
  {
   "cell_type": "code",
   "execution_count": 2,
   "metadata": {},
   "outputs": [],
   "source": [
    "# подключаемся к БД\n",
    "\n",
    "# устанавливаем параметры\n",
    "# (параметры скрыты)\n",
    "db_config = {\n",
    "    'user': ,    # имя пользователя\n",
    "    'pwd': ,        # пароль\n",
    "    'host': ,\n",
    "    'port': ,                   # порт подключения\n",
    "    'db':      # название базы данных\n",
    "} \n",
    "connection_string = 'postgresql://{user}:{pwd}@{host}:{port}/{db}'.format(**db_config)\n",
    "\n",
    "# сохраняем коннектор\n",
    "engine = create_engine(connection_string, connect_args={'sslmode':'require'})\n",
    "con = engine.connect()"
   ]
  },
  {
   "cell_type": "markdown",
   "metadata": {},
   "source": [
    "### Определение функций"
   ]
  },
  {
   "cell_type": "markdown",
   "metadata": {},
   "source": [
    "#### `df_info()`"
   ]
  },
  {
   "cell_type": "code",
   "execution_count": 3,
   "metadata": {},
   "outputs": [],
   "source": [
    "# создадим функцию для первичного ознакомления с данными \n",
    "def df_info(table):\n",
    "    \n",
    "    \"\"\"Функция выводит первые 5 строк таблицы, а также количество записей в таблице\"\"\"\n",
    "    \n",
    "    # формируем запросы\n",
    "    query_5_str = f'''SELECT * FROM {table} LIMIT 5'''\n",
    "    query_count = f'''SELECT COUNT(*) FROM {table}'''\n",
    "    \n",
    "    # обращаемся к БД\n",
    "    df = pd.io.sql.read_sql(sql=text(query_5_str), con=con)\n",
    "    df_size = pd.io.sql.read_sql(sql=text(query_count), con=con)\n",
    "    \n",
    "    # выводим информацию\n",
    "    print(f'Количество записей в таблице {table}:', df_size.loc[0, 'count'])\n",
    "    display(df)\n",
    "    print()\n",
    "    \n",
    "    # посмотрим также на типы данных в столбцах\n",
    "    print('Типы данных столбцов:')\n",
    "    query_type = f'''\n",
    "    SELECT \n",
    "        table_name, \n",
    "        column_name, \n",
    "        data_type\n",
    "    FROM information_schema.columns \n",
    "    WHERE table_name = '{table}';\n",
    "    '''\n",
    "    display(pd.io.sql.read_sql(query_type, con =con))\n",
    "    print()\n",
    "    \n",
    "    # проверим наличие пустых значений\n",
    "    print('Пустые значения в столбцах:')\n",
    "    columns = (pd.io.sql\n",
    "               .read_sql(\n",
    "                   f'''SELECT column_name FROM information_schema.columns WHERE table_name = '{table}';''',\n",
    "                   con=con\n",
    "               )['column_name']\n",
    "               .to_list()\n",
    "              )\n",
    "    for column in columns:\n",
    "        \n",
    "        query_null = f'''\n",
    "        SELECT \n",
    "            COUNT(*)\n",
    "        FROM {table}\n",
    "        WHERE {column} IS NULL;\n",
    "        '''\n",
    "        count_of_nulls = pd.io.sql.read_sql(query_null, con =con)\n",
    "        \n",
    "        # выведем количество пустых значений в столбце\n",
    "        print(f'Количество пустых значений в столбце {column}: {count_of_nulls.loc[0, \"count\"]}')"
   ]
  },
  {
   "cell_type": "markdown",
   "metadata": {},
   "source": [
    "#### `query_this()`"
   ]
  },
  {
   "cell_type": "code",
   "execution_count": 4,
   "metadata": {},
   "outputs": [],
   "source": [
    "# создадим функцию для удобной отправки запроса к БД\n",
    "def query_this(query):\n",
    "    \"\"\"\n",
    "    Функция для подключения к базе данных с запросом, переданным этой функции. Функция возвращает датафрейм.\n",
    "    \"\"\"\n",
    "    data = pd.io.sql.read_sql(sql=text(query), con=con)\n",
    "    return data"
   ]
  },
  {
   "cell_type": "markdown",
   "metadata": {},
   "source": [
    "### Общая информация о данных"
   ]
  },
  {
   "cell_type": "markdown",
   "metadata": {},
   "source": [
    "Посмотрим на общий вид данных."
   ]
  },
  {
   "cell_type": "code",
   "execution_count": 5,
   "metadata": {
    "scrolled": false
   },
   "outputs": [
    {
     "name": "stdout",
     "output_type": "stream",
     "text": [
      "Количество записей в таблице books: 1000\n"
     ]
    },
    {
     "data": {
      "text/html": [
       "<div>\n",
       "<style scoped>\n",
       "    .dataframe tbody tr th:only-of-type {\n",
       "        vertical-align: middle;\n",
       "    }\n",
       "\n",
       "    .dataframe tbody tr th {\n",
       "        vertical-align: top;\n",
       "    }\n",
       "\n",
       "    .dataframe thead th {\n",
       "        text-align: right;\n",
       "    }\n",
       "</style>\n",
       "<table border=\"1\" class=\"dataframe\">\n",
       "  <thead>\n",
       "    <tr style=\"text-align: right;\">\n",
       "      <th></th>\n",
       "      <th>book_id</th>\n",
       "      <th>author_id</th>\n",
       "      <th>title</th>\n",
       "      <th>num_pages</th>\n",
       "      <th>publication_date</th>\n",
       "      <th>publisher_id</th>\n",
       "    </tr>\n",
       "  </thead>\n",
       "  <tbody>\n",
       "    <tr>\n",
       "      <th>0</th>\n",
       "      <td>1</td>\n",
       "      <td>546</td>\n",
       "      <td>'Salem's Lot</td>\n",
       "      <td>594</td>\n",
       "      <td>2005-11-01</td>\n",
       "      <td>93</td>\n",
       "    </tr>\n",
       "    <tr>\n",
       "      <th>1</th>\n",
       "      <td>2</td>\n",
       "      <td>465</td>\n",
       "      <td>1 000 Places to See Before You Die</td>\n",
       "      <td>992</td>\n",
       "      <td>2003-05-22</td>\n",
       "      <td>336</td>\n",
       "    </tr>\n",
       "    <tr>\n",
       "      <th>2</th>\n",
       "      <td>3</td>\n",
       "      <td>407</td>\n",
       "      <td>13 Little Blue Envelopes (Little Blue Envelope...</td>\n",
       "      <td>322</td>\n",
       "      <td>2010-12-21</td>\n",
       "      <td>135</td>\n",
       "    </tr>\n",
       "    <tr>\n",
       "      <th>3</th>\n",
       "      <td>4</td>\n",
       "      <td>82</td>\n",
       "      <td>1491: New Revelations of the Americas Before C...</td>\n",
       "      <td>541</td>\n",
       "      <td>2006-10-10</td>\n",
       "      <td>309</td>\n",
       "    </tr>\n",
       "    <tr>\n",
       "      <th>4</th>\n",
       "      <td>5</td>\n",
       "      <td>125</td>\n",
       "      <td>1776</td>\n",
       "      <td>386</td>\n",
       "      <td>2006-07-04</td>\n",
       "      <td>268</td>\n",
       "    </tr>\n",
       "  </tbody>\n",
       "</table>\n",
       "</div>"
      ],
      "text/plain": [
       "   book_id  author_id                                              title  \\\n",
       "0        1        546                                       'Salem's Lot   \n",
       "1        2        465                 1 000 Places to See Before You Die   \n",
       "2        3        407  13 Little Blue Envelopes (Little Blue Envelope...   \n",
       "3        4         82  1491: New Revelations of the Americas Before C...   \n",
       "4        5        125                                               1776   \n",
       "\n",
       "   num_pages publication_date  publisher_id  \n",
       "0        594       2005-11-01            93  \n",
       "1        992       2003-05-22           336  \n",
       "2        322       2010-12-21           135  \n",
       "3        541       2006-10-10           309  \n",
       "4        386       2006-07-04           268  "
      ]
     },
     "metadata": {},
     "output_type": "display_data"
    },
    {
     "name": "stdout",
     "output_type": "stream",
     "text": [
      "\n",
      "Типы данных столбцов:\n"
     ]
    },
    {
     "data": {
      "text/html": [
       "<div>\n",
       "<style scoped>\n",
       "    .dataframe tbody tr th:only-of-type {\n",
       "        vertical-align: middle;\n",
       "    }\n",
       "\n",
       "    .dataframe tbody tr th {\n",
       "        vertical-align: top;\n",
       "    }\n",
       "\n",
       "    .dataframe thead th {\n",
       "        text-align: right;\n",
       "    }\n",
       "</style>\n",
       "<table border=\"1\" class=\"dataframe\">\n",
       "  <thead>\n",
       "    <tr style=\"text-align: right;\">\n",
       "      <th></th>\n",
       "      <th>table_name</th>\n",
       "      <th>column_name</th>\n",
       "      <th>data_type</th>\n",
       "    </tr>\n",
       "  </thead>\n",
       "  <tbody>\n",
       "    <tr>\n",
       "      <th>0</th>\n",
       "      <td>books</td>\n",
       "      <td>book_id</td>\n",
       "      <td>integer</td>\n",
       "    </tr>\n",
       "    <tr>\n",
       "      <th>1</th>\n",
       "      <td>books</td>\n",
       "      <td>author_id</td>\n",
       "      <td>integer</td>\n",
       "    </tr>\n",
       "    <tr>\n",
       "      <th>2</th>\n",
       "      <td>books</td>\n",
       "      <td>num_pages</td>\n",
       "      <td>integer</td>\n",
       "    </tr>\n",
       "    <tr>\n",
       "      <th>3</th>\n",
       "      <td>books</td>\n",
       "      <td>publication_date</td>\n",
       "      <td>date</td>\n",
       "    </tr>\n",
       "    <tr>\n",
       "      <th>4</th>\n",
       "      <td>books</td>\n",
       "      <td>publisher_id</td>\n",
       "      <td>integer</td>\n",
       "    </tr>\n",
       "    <tr>\n",
       "      <th>5</th>\n",
       "      <td>books</td>\n",
       "      <td>title</td>\n",
       "      <td>text</td>\n",
       "    </tr>\n",
       "  </tbody>\n",
       "</table>\n",
       "</div>"
      ],
      "text/plain": [
       "  table_name       column_name data_type\n",
       "0      books           book_id   integer\n",
       "1      books         author_id   integer\n",
       "2      books         num_pages   integer\n",
       "3      books  publication_date      date\n",
       "4      books      publisher_id   integer\n",
       "5      books             title      text"
      ]
     },
     "metadata": {},
     "output_type": "display_data"
    },
    {
     "name": "stdout",
     "output_type": "stream",
     "text": [
      "\n",
      "Пустые значения в столбцах:\n",
      "Количество пустых значений в столбце book_id: 0\n",
      "Количество пустых значений в столбце author_id: 0\n",
      "Количество пустых значений в столбце num_pages: 0\n",
      "Количество пустых значений в столбце publication_date: 0\n",
      "Количество пустых значений в столбце publisher_id: 0\n",
      "Количество пустых значений в столбце title: 0\n"
     ]
    }
   ],
   "source": [
    "df_info('books')"
   ]
  },
  {
   "cell_type": "markdown",
   "metadata": {},
   "source": [
    "В БД есть информация о 1000 книг. Все типы столбцов соответствуют своим данным, пропусков нет."
   ]
  },
  {
   "cell_type": "code",
   "execution_count": 6,
   "metadata": {},
   "outputs": [
    {
     "name": "stdout",
     "output_type": "stream",
     "text": [
      "Количество записей в таблице authors: 636\n"
     ]
    },
    {
     "data": {
      "text/html": [
       "<div>\n",
       "<style scoped>\n",
       "    .dataframe tbody tr th:only-of-type {\n",
       "        vertical-align: middle;\n",
       "    }\n",
       "\n",
       "    .dataframe tbody tr th {\n",
       "        vertical-align: top;\n",
       "    }\n",
       "\n",
       "    .dataframe thead th {\n",
       "        text-align: right;\n",
       "    }\n",
       "</style>\n",
       "<table border=\"1\" class=\"dataframe\">\n",
       "  <thead>\n",
       "    <tr style=\"text-align: right;\">\n",
       "      <th></th>\n",
       "      <th>author_id</th>\n",
       "      <th>author</th>\n",
       "    </tr>\n",
       "  </thead>\n",
       "  <tbody>\n",
       "    <tr>\n",
       "      <th>0</th>\n",
       "      <td>1</td>\n",
       "      <td>A.S. Byatt</td>\n",
       "    </tr>\n",
       "    <tr>\n",
       "      <th>1</th>\n",
       "      <td>2</td>\n",
       "      <td>Aesop/Laura Harris/Laura Gibbs</td>\n",
       "    </tr>\n",
       "    <tr>\n",
       "      <th>2</th>\n",
       "      <td>3</td>\n",
       "      <td>Agatha Christie</td>\n",
       "    </tr>\n",
       "    <tr>\n",
       "      <th>3</th>\n",
       "      <td>4</td>\n",
       "      <td>Alan Brennert</td>\n",
       "    </tr>\n",
       "    <tr>\n",
       "      <th>4</th>\n",
       "      <td>5</td>\n",
       "      <td>Alan Moore/David   Lloyd</td>\n",
       "    </tr>\n",
       "  </tbody>\n",
       "</table>\n",
       "</div>"
      ],
      "text/plain": [
       "   author_id                          author\n",
       "0          1                      A.S. Byatt\n",
       "1          2  Aesop/Laura Harris/Laura Gibbs\n",
       "2          3                 Agatha Christie\n",
       "3          4                   Alan Brennert\n",
       "4          5        Alan Moore/David   Lloyd"
      ]
     },
     "metadata": {},
     "output_type": "display_data"
    },
    {
     "name": "stdout",
     "output_type": "stream",
     "text": [
      "\n",
      "Типы данных столбцов:\n"
     ]
    },
    {
     "data": {
      "text/html": [
       "<div>\n",
       "<style scoped>\n",
       "    .dataframe tbody tr th:only-of-type {\n",
       "        vertical-align: middle;\n",
       "    }\n",
       "\n",
       "    .dataframe tbody tr th {\n",
       "        vertical-align: top;\n",
       "    }\n",
       "\n",
       "    .dataframe thead th {\n",
       "        text-align: right;\n",
       "    }\n",
       "</style>\n",
       "<table border=\"1\" class=\"dataframe\">\n",
       "  <thead>\n",
       "    <tr style=\"text-align: right;\">\n",
       "      <th></th>\n",
       "      <th>table_name</th>\n",
       "      <th>column_name</th>\n",
       "      <th>data_type</th>\n",
       "    </tr>\n",
       "  </thead>\n",
       "  <tbody>\n",
       "    <tr>\n",
       "      <th>0</th>\n",
       "      <td>authors</td>\n",
       "      <td>author_id</td>\n",
       "      <td>integer</td>\n",
       "    </tr>\n",
       "    <tr>\n",
       "      <th>1</th>\n",
       "      <td>authors</td>\n",
       "      <td>author</td>\n",
       "      <td>text</td>\n",
       "    </tr>\n",
       "  </tbody>\n",
       "</table>\n",
       "</div>"
      ],
      "text/plain": [
       "  table_name column_name data_type\n",
       "0    authors   author_id   integer\n",
       "1    authors      author      text"
      ]
     },
     "metadata": {},
     "output_type": "display_data"
    },
    {
     "name": "stdout",
     "output_type": "stream",
     "text": [
      "\n",
      "Пустые значения в столбцах:\n",
      "Количество пустых значений в столбце author_id: 0\n",
      "Количество пустых значений в столбце author: 0\n"
     ]
    }
   ],
   "source": [
    "df_info('authors')"
   ]
  },
  {
   "cell_type": "markdown",
   "metadata": {},
   "source": [
    "В БД присутствует информация о книгах 636 авторов, типы соответствуют своим данным, пропусков нет."
   ]
  },
  {
   "cell_type": "code",
   "execution_count": 7,
   "metadata": {},
   "outputs": [
    {
     "name": "stdout",
     "output_type": "stream",
     "text": [
      "Количество записей в таблице publishers: 340\n"
     ]
    },
    {
     "data": {
      "text/html": [
       "<div>\n",
       "<style scoped>\n",
       "    .dataframe tbody tr th:only-of-type {\n",
       "        vertical-align: middle;\n",
       "    }\n",
       "\n",
       "    .dataframe tbody tr th {\n",
       "        vertical-align: top;\n",
       "    }\n",
       "\n",
       "    .dataframe thead th {\n",
       "        text-align: right;\n",
       "    }\n",
       "</style>\n",
       "<table border=\"1\" class=\"dataframe\">\n",
       "  <thead>\n",
       "    <tr style=\"text-align: right;\">\n",
       "      <th></th>\n",
       "      <th>publisher_id</th>\n",
       "      <th>publisher</th>\n",
       "    </tr>\n",
       "  </thead>\n",
       "  <tbody>\n",
       "    <tr>\n",
       "      <th>0</th>\n",
       "      <td>1</td>\n",
       "      <td>Ace</td>\n",
       "    </tr>\n",
       "    <tr>\n",
       "      <th>1</th>\n",
       "      <td>2</td>\n",
       "      <td>Ace Book</td>\n",
       "    </tr>\n",
       "    <tr>\n",
       "      <th>2</th>\n",
       "      <td>3</td>\n",
       "      <td>Ace Books</td>\n",
       "    </tr>\n",
       "    <tr>\n",
       "      <th>3</th>\n",
       "      <td>4</td>\n",
       "      <td>Ace Hardcover</td>\n",
       "    </tr>\n",
       "    <tr>\n",
       "      <th>4</th>\n",
       "      <td>5</td>\n",
       "      <td>Addison Wesley Publishing Company</td>\n",
       "    </tr>\n",
       "  </tbody>\n",
       "</table>\n",
       "</div>"
      ],
      "text/plain": [
       "   publisher_id                          publisher\n",
       "0             1                                Ace\n",
       "1             2                           Ace Book\n",
       "2             3                          Ace Books\n",
       "3             4                      Ace Hardcover\n",
       "4             5  Addison Wesley Publishing Company"
      ]
     },
     "metadata": {},
     "output_type": "display_data"
    },
    {
     "name": "stdout",
     "output_type": "stream",
     "text": [
      "\n",
      "Типы данных столбцов:\n"
     ]
    },
    {
     "data": {
      "text/html": [
       "<div>\n",
       "<style scoped>\n",
       "    .dataframe tbody tr th:only-of-type {\n",
       "        vertical-align: middle;\n",
       "    }\n",
       "\n",
       "    .dataframe tbody tr th {\n",
       "        vertical-align: top;\n",
       "    }\n",
       "\n",
       "    .dataframe thead th {\n",
       "        text-align: right;\n",
       "    }\n",
       "</style>\n",
       "<table border=\"1\" class=\"dataframe\">\n",
       "  <thead>\n",
       "    <tr style=\"text-align: right;\">\n",
       "      <th></th>\n",
       "      <th>table_name</th>\n",
       "      <th>column_name</th>\n",
       "      <th>data_type</th>\n",
       "    </tr>\n",
       "  </thead>\n",
       "  <tbody>\n",
       "    <tr>\n",
       "      <th>0</th>\n",
       "      <td>publishers</td>\n",
       "      <td>publisher_id</td>\n",
       "      <td>integer</td>\n",
       "    </tr>\n",
       "    <tr>\n",
       "      <th>1</th>\n",
       "      <td>publishers</td>\n",
       "      <td>publisher</td>\n",
       "      <td>text</td>\n",
       "    </tr>\n",
       "  </tbody>\n",
       "</table>\n",
       "</div>"
      ],
      "text/plain": [
       "   table_name   column_name data_type\n",
       "0  publishers  publisher_id   integer\n",
       "1  publishers     publisher      text"
      ]
     },
     "metadata": {},
     "output_type": "display_data"
    },
    {
     "name": "stdout",
     "output_type": "stream",
     "text": [
      "\n",
      "Пустые значения в столбцах:\n",
      "Количество пустых значений в столбце publisher_id: 0\n",
      "Количество пустых значений в столбце publisher: 0\n"
     ]
    }
   ],
   "source": [
    "df_info('publishers')"
   ]
  },
  {
   "cell_type": "markdown",
   "metadata": {},
   "source": [
    "В БД информация о 340 изданиях, пустых значений нет, типы соответствуют своим данным."
   ]
  },
  {
   "cell_type": "code",
   "execution_count": 8,
   "metadata": {},
   "outputs": [
    {
     "name": "stdout",
     "output_type": "stream",
     "text": [
      "Количество записей в таблице ratings: 6456\n"
     ]
    },
    {
     "data": {
      "text/html": [
       "<div>\n",
       "<style scoped>\n",
       "    .dataframe tbody tr th:only-of-type {\n",
       "        vertical-align: middle;\n",
       "    }\n",
       "\n",
       "    .dataframe tbody tr th {\n",
       "        vertical-align: top;\n",
       "    }\n",
       "\n",
       "    .dataframe thead th {\n",
       "        text-align: right;\n",
       "    }\n",
       "</style>\n",
       "<table border=\"1\" class=\"dataframe\">\n",
       "  <thead>\n",
       "    <tr style=\"text-align: right;\">\n",
       "      <th></th>\n",
       "      <th>rating_id</th>\n",
       "      <th>book_id</th>\n",
       "      <th>username</th>\n",
       "      <th>rating</th>\n",
       "    </tr>\n",
       "  </thead>\n",
       "  <tbody>\n",
       "    <tr>\n",
       "      <th>0</th>\n",
       "      <td>1</td>\n",
       "      <td>1</td>\n",
       "      <td>ryanfranco</td>\n",
       "      <td>4</td>\n",
       "    </tr>\n",
       "    <tr>\n",
       "      <th>1</th>\n",
       "      <td>2</td>\n",
       "      <td>1</td>\n",
       "      <td>grantpatricia</td>\n",
       "      <td>2</td>\n",
       "    </tr>\n",
       "    <tr>\n",
       "      <th>2</th>\n",
       "      <td>3</td>\n",
       "      <td>1</td>\n",
       "      <td>brandtandrea</td>\n",
       "      <td>5</td>\n",
       "    </tr>\n",
       "    <tr>\n",
       "      <th>3</th>\n",
       "      <td>4</td>\n",
       "      <td>2</td>\n",
       "      <td>lorichen</td>\n",
       "      <td>3</td>\n",
       "    </tr>\n",
       "    <tr>\n",
       "      <th>4</th>\n",
       "      <td>5</td>\n",
       "      <td>2</td>\n",
       "      <td>mariokeller</td>\n",
       "      <td>2</td>\n",
       "    </tr>\n",
       "  </tbody>\n",
       "</table>\n",
       "</div>"
      ],
      "text/plain": [
       "   rating_id  book_id       username  rating\n",
       "0          1        1     ryanfranco       4\n",
       "1          2        1  grantpatricia       2\n",
       "2          3        1   brandtandrea       5\n",
       "3          4        2       lorichen       3\n",
       "4          5        2    mariokeller       2"
      ]
     },
     "metadata": {},
     "output_type": "display_data"
    },
    {
     "name": "stdout",
     "output_type": "stream",
     "text": [
      "\n",
      "Типы данных столбцов:\n"
     ]
    },
    {
     "data": {
      "text/html": [
       "<div>\n",
       "<style scoped>\n",
       "    .dataframe tbody tr th:only-of-type {\n",
       "        vertical-align: middle;\n",
       "    }\n",
       "\n",
       "    .dataframe tbody tr th {\n",
       "        vertical-align: top;\n",
       "    }\n",
       "\n",
       "    .dataframe thead th {\n",
       "        text-align: right;\n",
       "    }\n",
       "</style>\n",
       "<table border=\"1\" class=\"dataframe\">\n",
       "  <thead>\n",
       "    <tr style=\"text-align: right;\">\n",
       "      <th></th>\n",
       "      <th>table_name</th>\n",
       "      <th>column_name</th>\n",
       "      <th>data_type</th>\n",
       "    </tr>\n",
       "  </thead>\n",
       "  <tbody>\n",
       "    <tr>\n",
       "      <th>0</th>\n",
       "      <td>ratings</td>\n",
       "      <td>rating_id</td>\n",
       "      <td>integer</td>\n",
       "    </tr>\n",
       "    <tr>\n",
       "      <th>1</th>\n",
       "      <td>ratings</td>\n",
       "      <td>book_id</td>\n",
       "      <td>integer</td>\n",
       "    </tr>\n",
       "    <tr>\n",
       "      <th>2</th>\n",
       "      <td>ratings</td>\n",
       "      <td>rating</td>\n",
       "      <td>integer</td>\n",
       "    </tr>\n",
       "    <tr>\n",
       "      <th>3</th>\n",
       "      <td>ratings</td>\n",
       "      <td>username</td>\n",
       "      <td>text</td>\n",
       "    </tr>\n",
       "  </tbody>\n",
       "</table>\n",
       "</div>"
      ],
      "text/plain": [
       "  table_name column_name data_type\n",
       "0    ratings   rating_id   integer\n",
       "1    ratings     book_id   integer\n",
       "2    ratings      rating   integer\n",
       "3    ratings    username      text"
      ]
     },
     "metadata": {},
     "output_type": "display_data"
    },
    {
     "name": "stdout",
     "output_type": "stream",
     "text": [
      "\n",
      "Пустые значения в столбцах:\n",
      "Количество пустых значений в столбце rating_id: 0\n",
      "Количество пустых значений в столбце book_id: 0\n",
      "Количество пустых значений в столбце rating: 0\n",
      "Количество пустых значений в столбце username: 0\n"
     ]
    }
   ],
   "source": [
    "df_info('ratings')"
   ]
  },
  {
   "cell_type": "markdown",
   "metadata": {},
   "source": [
    "В БД присутствует информация о ~6,5 тыс. оценок, типы соответствуют своим данным, пропусков нет."
   ]
  },
  {
   "cell_type": "code",
   "execution_count": 9,
   "metadata": {},
   "outputs": [
    {
     "name": "stdout",
     "output_type": "stream",
     "text": [
      "Количество записей в таблице reviews: 2793\n"
     ]
    },
    {
     "data": {
      "text/html": [
       "<div>\n",
       "<style scoped>\n",
       "    .dataframe tbody tr th:only-of-type {\n",
       "        vertical-align: middle;\n",
       "    }\n",
       "\n",
       "    .dataframe tbody tr th {\n",
       "        vertical-align: top;\n",
       "    }\n",
       "\n",
       "    .dataframe thead th {\n",
       "        text-align: right;\n",
       "    }\n",
       "</style>\n",
       "<table border=\"1\" class=\"dataframe\">\n",
       "  <thead>\n",
       "    <tr style=\"text-align: right;\">\n",
       "      <th></th>\n",
       "      <th>review_id</th>\n",
       "      <th>book_id</th>\n",
       "      <th>username</th>\n",
       "      <th>text</th>\n",
       "    </tr>\n",
       "  </thead>\n",
       "  <tbody>\n",
       "    <tr>\n",
       "      <th>0</th>\n",
       "      <td>1</td>\n",
       "      <td>1</td>\n",
       "      <td>brandtandrea</td>\n",
       "      <td>Mention society tell send professor analysis. ...</td>\n",
       "    </tr>\n",
       "    <tr>\n",
       "      <th>1</th>\n",
       "      <td>2</td>\n",
       "      <td>1</td>\n",
       "      <td>ryanfranco</td>\n",
       "      <td>Foot glass pretty audience hit themselves. Amo...</td>\n",
       "    </tr>\n",
       "    <tr>\n",
       "      <th>2</th>\n",
       "      <td>3</td>\n",
       "      <td>2</td>\n",
       "      <td>lorichen</td>\n",
       "      <td>Listen treat keep worry. Miss husband tax but ...</td>\n",
       "    </tr>\n",
       "    <tr>\n",
       "      <th>3</th>\n",
       "      <td>4</td>\n",
       "      <td>3</td>\n",
       "      <td>johnsonamanda</td>\n",
       "      <td>Finally month interesting blue could nature cu...</td>\n",
       "    </tr>\n",
       "    <tr>\n",
       "      <th>4</th>\n",
       "      <td>5</td>\n",
       "      <td>3</td>\n",
       "      <td>scotttamara</td>\n",
       "      <td>Nation purpose heavy give wait song will. List...</td>\n",
       "    </tr>\n",
       "  </tbody>\n",
       "</table>\n",
       "</div>"
      ],
      "text/plain": [
       "   review_id  book_id       username  \\\n",
       "0          1        1   brandtandrea   \n",
       "1          2        1     ryanfranco   \n",
       "2          3        2       lorichen   \n",
       "3          4        3  johnsonamanda   \n",
       "4          5        3    scotttamara   \n",
       "\n",
       "                                                text  \n",
       "0  Mention society tell send professor analysis. ...  \n",
       "1  Foot glass pretty audience hit themselves. Amo...  \n",
       "2  Listen treat keep worry. Miss husband tax but ...  \n",
       "3  Finally month interesting blue could nature cu...  \n",
       "4  Nation purpose heavy give wait song will. List...  "
      ]
     },
     "metadata": {},
     "output_type": "display_data"
    },
    {
     "name": "stdout",
     "output_type": "stream",
     "text": [
      "\n",
      "Типы данных столбцов:\n"
     ]
    },
    {
     "data": {
      "text/html": [
       "<div>\n",
       "<style scoped>\n",
       "    .dataframe tbody tr th:only-of-type {\n",
       "        vertical-align: middle;\n",
       "    }\n",
       "\n",
       "    .dataframe tbody tr th {\n",
       "        vertical-align: top;\n",
       "    }\n",
       "\n",
       "    .dataframe thead th {\n",
       "        text-align: right;\n",
       "    }\n",
       "</style>\n",
       "<table border=\"1\" class=\"dataframe\">\n",
       "  <thead>\n",
       "    <tr style=\"text-align: right;\">\n",
       "      <th></th>\n",
       "      <th>table_name</th>\n",
       "      <th>column_name</th>\n",
       "      <th>data_type</th>\n",
       "    </tr>\n",
       "  </thead>\n",
       "  <tbody>\n",
       "    <tr>\n",
       "      <th>0</th>\n",
       "      <td>reviews</td>\n",
       "      <td>review_id</td>\n",
       "      <td>integer</td>\n",
       "    </tr>\n",
       "    <tr>\n",
       "      <th>1</th>\n",
       "      <td>reviews</td>\n",
       "      <td>book_id</td>\n",
       "      <td>integer</td>\n",
       "    </tr>\n",
       "    <tr>\n",
       "      <th>2</th>\n",
       "      <td>reviews</td>\n",
       "      <td>username</td>\n",
       "      <td>text</td>\n",
       "    </tr>\n",
       "    <tr>\n",
       "      <th>3</th>\n",
       "      <td>reviews</td>\n",
       "      <td>text</td>\n",
       "      <td>text</td>\n",
       "    </tr>\n",
       "  </tbody>\n",
       "</table>\n",
       "</div>"
      ],
      "text/plain": [
       "  table_name column_name data_type\n",
       "0    reviews   review_id   integer\n",
       "1    reviews     book_id   integer\n",
       "2    reviews    username      text\n",
       "3    reviews        text      text"
      ]
     },
     "metadata": {},
     "output_type": "display_data"
    },
    {
     "name": "stdout",
     "output_type": "stream",
     "text": [
      "\n",
      "Пустые значения в столбцах:\n",
      "Количество пустых значений в столбце review_id: 0\n",
      "Количество пустых значений в столбце book_id: 0\n",
      "Количество пустых значений в столбце username: 0\n",
      "Количество пустых значений в столбце text: 0\n"
     ]
    }
   ],
   "source": [
    "df_info('reviews')"
   ]
  },
  {
   "cell_type": "markdown",
   "metadata": {},
   "source": [
    "В БД присутствует информация о ~2,8 тыс. обзорах, типы соответствуют своим данным, пропусков нет."
   ]
  },
  {
   "cell_type": "markdown",
   "metadata": {},
   "source": [
    "## Исследование БД"
   ]
  },
  {
   "cell_type": "markdown",
   "metadata": {},
   "source": [
    "### Количество книг, выпущенных в 21-м веке"
   ]
  },
  {
   "cell_type": "code",
   "execution_count": 10,
   "metadata": {},
   "outputs": [
    {
     "name": "stdout",
     "output_type": "stream",
     "text": [
      "Количество книг, выпущенных после 1 января 2000 года составляет 819 штук(у/и).\n"
     ]
    }
   ],
   "source": [
    "print('Количество книг, выпущенных после 1 января 2000 года составляет',\n",
    "      query_this(\n",
    "        '''\n",
    "        SELECT COUNT(*)\n",
    "        FROM books\n",
    "        WHERE publication_date > '2000-01-01'\n",
    "        '''\n",
    "        ).loc[0, 'count'],\n",
    "      'штук(у/и).'\n",
    "    )"
   ]
  },
  {
   "cell_type": "markdown",
   "metadata": {},
   "source": [
    "### Количество обзоров и средняя оценка каждой книги"
   ]
  },
  {
   "cell_type": "code",
   "execution_count": 11,
   "metadata": {},
   "outputs": [],
   "source": [
    "# для того, чтобы учесть возможное отсутствие обзоров или оценок, при формировании ошибок укажем,\n",
    "# чтобы пустые значения заполнились нулями\n",
    "\n",
    "books_ratings_and_reviews = query_this(\n",
    "    '''\n",
    "    WITH\n",
    "        book_ratings AS (\n",
    "            SELECT \n",
    "                book_id,\n",
    "                AVG(rating) AS avg_rating\n",
    "            FROM ratings\n",
    "            GROUP BY book_id\n",
    "        ),\n",
    "        book_revs AS (\n",
    "            SELECT\n",
    "                book_id,\n",
    "                COUNT(review_id) AS count_of_revs\n",
    "            FROM reviews\n",
    "            GROUP BY book_id\n",
    "        )\n",
    "        \n",
    "    SELECT\n",
    "        title, \n",
    "        CASE\n",
    "            WHEN avg_rating IS NOT NULL THEN avg_rating\n",
    "            WHEN avg_rating IS NULL THEN 0\n",
    "        END AS avg_rating,\n",
    "        CASE\n",
    "            WHEN count_of_revs IS NOT NULL THEN count_of_revs\n",
    "            WHEN count_of_revs IS NULL THEN 0\n",
    "        END AS count_of_revs\n",
    "    FROM books AS b\n",
    "    LEFT JOIN book_ratings AS brat ON b.book_id = brat.book_id\n",
    "    LEFT JOIN book_revs AS br ON b.book_id = br.book_id\n",
    "    ORDER BY avg_rating DESC, count_of_revs DESC\n",
    "    '''\n",
    ")"
   ]
  },
  {
   "cell_type": "code",
   "execution_count": 12,
   "metadata": {},
   "outputs": [
    {
     "data": {
      "text/html": [
       "<div>\n",
       "<style scoped>\n",
       "    .dataframe tbody tr th:only-of-type {\n",
       "        vertical-align: middle;\n",
       "    }\n",
       "\n",
       "    .dataframe tbody tr th {\n",
       "        vertical-align: top;\n",
       "    }\n",
       "\n",
       "    .dataframe thead th {\n",
       "        text-align: right;\n",
       "    }\n",
       "</style>\n",
       "<table border=\"1\" class=\"dataframe\">\n",
       "  <thead>\n",
       "    <tr style=\"text-align: right;\">\n",
       "      <th></th>\n",
       "      <th>title</th>\n",
       "      <th>avg_rating</th>\n",
       "      <th>count_of_revs</th>\n",
       "    </tr>\n",
       "  </thead>\n",
       "  <tbody>\n",
       "    <tr>\n",
       "      <th>0</th>\n",
       "      <td>A Dirty Job (Grim Reaper  #1)</td>\n",
       "      <td>5.0</td>\n",
       "      <td>4</td>\n",
       "    </tr>\n",
       "    <tr>\n",
       "      <th>1</th>\n",
       "      <td>Moneyball: The Art of Winning an Unfair Game</td>\n",
       "      <td>5.0</td>\n",
       "      <td>3</td>\n",
       "    </tr>\n",
       "    <tr>\n",
       "      <th>2</th>\n",
       "      <td>School's Out—Forever (Maximum Ride  #2)</td>\n",
       "      <td>5.0</td>\n",
       "      <td>3</td>\n",
       "    </tr>\n",
       "    <tr>\n",
       "      <th>3</th>\n",
       "      <td>The Woman in Black</td>\n",
       "      <td>5.0</td>\n",
       "      <td>2</td>\n",
       "    </tr>\n",
       "    <tr>\n",
       "      <th>4</th>\n",
       "      <td>Arrows of the Queen (Heralds of Valdemar  #1)</td>\n",
       "      <td>5.0</td>\n",
       "      <td>2</td>\n",
       "    </tr>\n",
       "    <tr>\n",
       "      <th>5</th>\n",
       "      <td>Geek Love</td>\n",
       "      <td>5.0</td>\n",
       "      <td>2</td>\n",
       "    </tr>\n",
       "    <tr>\n",
       "      <th>6</th>\n",
       "      <td>Stolen (Women of the Otherworld  #2)</td>\n",
       "      <td>5.0</td>\n",
       "      <td>2</td>\n",
       "    </tr>\n",
       "    <tr>\n",
       "      <th>7</th>\n",
       "      <td>Plum Island (John Corey  #1)</td>\n",
       "      <td>5.0</td>\n",
       "      <td>2</td>\n",
       "    </tr>\n",
       "    <tr>\n",
       "      <th>8</th>\n",
       "      <td>Captivating: Unveiling the Mystery of a Woman'...</td>\n",
       "      <td>5.0</td>\n",
       "      <td>2</td>\n",
       "    </tr>\n",
       "    <tr>\n",
       "      <th>9</th>\n",
       "      <td>The Ghost Map: The Story of London's Most Terr...</td>\n",
       "      <td>5.0</td>\n",
       "      <td>2</td>\n",
       "    </tr>\n",
       "  </tbody>\n",
       "</table>\n",
       "</div>"
      ],
      "text/plain": [
       "                                               title  avg_rating  \\\n",
       "0                      A Dirty Job (Grim Reaper  #1)         5.0   \n",
       "1       Moneyball: The Art of Winning an Unfair Game         5.0   \n",
       "2            School's Out—Forever (Maximum Ride  #2)         5.0   \n",
       "3                                 The Woman in Black         5.0   \n",
       "4      Arrows of the Queen (Heralds of Valdemar  #1)         5.0   \n",
       "5                                          Geek Love         5.0   \n",
       "6               Stolen (Women of the Otherworld  #2)         5.0   \n",
       "7                       Plum Island (John Corey  #1)         5.0   \n",
       "8  Captivating: Unveiling the Mystery of a Woman'...         5.0   \n",
       "9  The Ghost Map: The Story of London's Most Terr...         5.0   \n",
       "\n",
       "   count_of_revs  \n",
       "0              4  \n",
       "1              3  \n",
       "2              3  \n",
       "3              2  \n",
       "4              2  \n",
       "5              2  \n",
       "6              2  \n",
       "7              2  \n",
       "8              2  \n",
       "9              2  "
      ]
     },
     "execution_count": 12,
     "metadata": {},
     "output_type": "execute_result"
    }
   ],
   "source": [
    "books_ratings_and_reviews.head(10)"
   ]
  },
  {
   "cell_type": "markdown",
   "metadata": {},
   "source": [
    "Таблица с количеством рейтингов и отзывов успешно составлена. Можно отметить, что самой популярной книгой оказалась первая часть Сумерек."
   ]
  },
  {
   "cell_type": "markdown",
   "metadata": {},
   "source": [
    "### Самое масштабное издательство"
   ]
  },
  {
   "cell_type": "code",
   "execution_count": 13,
   "metadata": {},
   "outputs": [
    {
     "data": {
      "text/html": [
       "<div>\n",
       "<style scoped>\n",
       "    .dataframe tbody tr th:only-of-type {\n",
       "        vertical-align: middle;\n",
       "    }\n",
       "\n",
       "    .dataframe tbody tr th {\n",
       "        vertical-align: top;\n",
       "    }\n",
       "\n",
       "    .dataframe thead th {\n",
       "        text-align: right;\n",
       "    }\n",
       "</style>\n",
       "<table border=\"1\" class=\"dataframe\">\n",
       "  <thead>\n",
       "    <tr style=\"text-align: right;\">\n",
       "      <th></th>\n",
       "      <th>publisher</th>\n",
       "      <th>count_of_books</th>\n",
       "    </tr>\n",
       "  </thead>\n",
       "  <tbody>\n",
       "    <tr>\n",
       "      <th>0</th>\n",
       "      <td>Penguin Books</td>\n",
       "      <td>42</td>\n",
       "    </tr>\n",
       "  </tbody>\n",
       "</table>\n",
       "</div>"
      ],
      "text/plain": [
       "       publisher  count_of_books\n",
       "0  Penguin Books              42"
      ]
     },
     "execution_count": 13,
     "metadata": {},
     "output_type": "execute_result"
    }
   ],
   "source": [
    "query_this(\n",
    "    '''\n",
    "    WITH\n",
    "        counts_of_books AS (\n",
    "            SELECT \n",
    "                publisher_id,\n",
    "                COUNT(book_id) AS count_of_books\n",
    "            FROM books\n",
    "            WHERE num_pages > 50\n",
    "            GROUP BY publisher_id\n",
    "        )\n",
    "        \n",
    "    SELECT publisher, count_of_books\n",
    "    FROM publishers AS p\n",
    "        JOIN counts_of_books AS c ON p.publisher_id = c.publisher_id\n",
    "    ORDER BY count_of_books DESC\n",
    "    LIMIT 1\n",
    "    '''\n",
    ")"
   ]
  },
  {
   "cell_type": "markdown",
   "metadata": {},
   "source": [
    "Больше всего книг было выпущено Penguin Books."
   ]
  },
  {
   "cell_type": "markdown",
   "metadata": {},
   "source": [
    "### Самый успешный автор"
   ]
  },
  {
   "cell_type": "code",
   "execution_count": 14,
   "metadata": {},
   "outputs": [
    {
     "data": {
      "text/html": [
       "<div>\n",
       "<style scoped>\n",
       "    .dataframe tbody tr th:only-of-type {\n",
       "        vertical-align: middle;\n",
       "    }\n",
       "\n",
       "    .dataframe tbody tr th {\n",
       "        vertical-align: top;\n",
       "    }\n",
       "\n",
       "    .dataframe thead th {\n",
       "        text-align: right;\n",
       "    }\n",
       "</style>\n",
       "<table border=\"1\" class=\"dataframe\">\n",
       "  <thead>\n",
       "    <tr style=\"text-align: right;\">\n",
       "      <th></th>\n",
       "      <th>author</th>\n",
       "      <th>avg_rating_of_books</th>\n",
       "    </tr>\n",
       "  </thead>\n",
       "  <tbody>\n",
       "    <tr>\n",
       "      <th>0</th>\n",
       "      <td>J.K. Rowling/Mary GrandPré</td>\n",
       "      <td>4.283844</td>\n",
       "    </tr>\n",
       "  </tbody>\n",
       "</table>\n",
       "</div>"
      ],
      "text/plain": [
       "                       author  avg_rating_of_books\n",
       "0  J.K. Rowling/Mary GrandPré             4.283844"
      ]
     },
     "execution_count": 14,
     "metadata": {},
     "output_type": "execute_result"
    }
   ],
   "source": [
    "query_this(\n",
    "    '''\n",
    "    WITH\n",
    "        avg_rating_of_books AS (\n",
    "            SELECT \n",
    "                book_id,\n",
    "                AVG(rating) AS avg_rating,\n",
    "                COUNT(rating)\n",
    "            FROM ratings\n",
    "            GROUP BY book_id\n",
    "            HAVING COUNT(rating) >= 50\n",
    "        ),\n",
    "        \n",
    "        best_authors AS (\n",
    "            SELECT \n",
    "                author_id,\n",
    "                AVG(avg_rating) AS avg_rating_of_books\n",
    "            FROM books AS b\n",
    "                RIGHT JOIN avg_rating_of_books AS avg ON b.book_id = avg.book_id\n",
    "            WHERE num_pages >= 50\n",
    "            GROUP BY author_id\n",
    "        )\n",
    "            \n",
    "        SELECT\n",
    "            author,\n",
    "            avg_rating_of_books\n",
    "        FROM best_authors AS ba\n",
    "            JOIN authors AS a ON ba.author_id = a.author_id\n",
    "        ORDER BY avg_rating_of_books DESC\n",
    "        LIMIT 1\n",
    "    '''\n",
    ")"
   ]
  },
  {
   "cell_type": "markdown",
   "metadata": {},
   "source": [
    "Самая высокая средняя оценка книг у Роулинг - автора серии книг о Гарри Поттере."
   ]
  },
  {
   "cell_type": "markdown",
   "metadata": {},
   "source": [
    "### Количество обзоров самых активных пользователей"
   ]
  },
  {
   "cell_type": "code",
   "execution_count": 15,
   "metadata": {},
   "outputs": [
    {
     "name": "stdout",
     "output_type": "stream",
     "text": [
      "Самые активные пользователи в среднем составляют 24 обзора.\n"
     ]
    }
   ],
   "source": [
    "print('Самые активные пользователи в среднем составляют',\n",
    "    \n",
    "      query_this(\n",
    "    '''\n",
    "    WITH\n",
    "        rev_counts AS (\n",
    "            SELECT COUNT(review_id) AS counts_of_rev\n",
    "            FROM reviews\n",
    "            WHERE username IN (\n",
    "                    SELECT username\n",
    "                    FROM ratings\n",
    "                    GROUP BY username\n",
    "                    HAVING COUNT(rating_id) > 48\n",
    "                )\n",
    "            GROUP BY username\n",
    "    )\n",
    "    \n",
    "    SELECT CAST(ROUND(AVG(counts_of_rev)) AS int)\n",
    "    FROM rev_counts\n",
    "    '''\n",
    "    ).loc[0, 'round'],\n",
    "      \n",
    "      'обзора.'\n",
    ")"
   ]
  },
  {
   "cell_type": "markdown",
   "metadata": {},
   "source": [
    "## Вывод"
   ]
  },
  {
   "cell_type": "markdown",
   "metadata": {},
   "source": [
    "В таблицах нет пропусков, все данные хранятся в корректном виде.\n",
    "\n",
    "На все поставленные вопросы был получен ответ:\n",
    "1. после 1 янв 2000 года было выпущено 819 книг;\n",
    "2. в проекте создана таблица с информацией о количестве обзоров и средней оценке каждой книги данной БД;\n",
    "3. больше всего книг (42 шт.) было выпущено изданием Penguin Books;\n",
    "4. самая высокая средняя оценка книг у J.K. Rowling (4.3);\n",
    "5. самые активные пользователи в среднем составляют 24 обзора."
   ]
  }
 ],
 "metadata": {
  "ExecuteTimeLog": [
   {
    "duration": 669,
    "start_time": "2023-10-02T09:44:59.064Z"
   },
   {
    "duration": 18131,
    "start_time": "2023-10-02T09:45:43.631Z"
   },
   {
    "duration": 247,
    "start_time": "2023-10-02T10:11:50.337Z"
   },
   {
    "duration": 10,
    "start_time": "2023-10-02T10:13:59.703Z"
   },
   {
    "duration": 92,
    "start_time": "2023-10-02T10:14:11.477Z"
   },
   {
    "duration": 4,
    "start_time": "2023-10-02T10:14:19.166Z"
   },
   {
    "duration": 8,
    "start_time": "2023-10-02T10:14:20.852Z"
   },
   {
    "duration": 129,
    "start_time": "2023-10-02T10:14:40.595Z"
   },
   {
    "duration": 9,
    "start_time": "2023-10-02T10:14:50.659Z"
   },
   {
    "duration": 104,
    "start_time": "2023-10-02T10:14:52.627Z"
   },
   {
    "duration": 8,
    "start_time": "2023-10-02T10:15:06.231Z"
   },
   {
    "duration": 95,
    "start_time": "2023-10-02T10:15:07.756Z"
   },
   {
    "duration": 4,
    "start_time": "2023-10-02T10:15:43.879Z"
   },
   {
    "duration": 2303,
    "start_time": "2023-10-02T10:15:45.804Z"
   },
   {
    "duration": 4,
    "start_time": "2023-10-02T10:15:52.172Z"
   },
   {
    "duration": 88,
    "start_time": "2023-10-02T10:15:54.373Z"
   },
   {
    "duration": 6,
    "start_time": "2023-10-02T10:16:01.500Z"
   },
   {
    "duration": 93,
    "start_time": "2023-10-02T10:16:03.273Z"
   },
   {
    "duration": 15,
    "start_time": "2023-10-02T10:16:35.142Z"
   },
   {
    "duration": 89,
    "start_time": "2023-10-02T10:16:36.996Z"
   },
   {
    "duration": 360,
    "start_time": "2023-10-02T10:17:43.448Z"
   },
   {
    "duration": 5,
    "start_time": "2023-10-02T10:18:01.563Z"
   },
   {
    "duration": 4,
    "start_time": "2023-10-02T10:18:05.202Z"
   },
   {
    "duration": 356,
    "start_time": "2023-10-02T10:18:06.941Z"
   },
   {
    "duration": 7,
    "start_time": "2023-10-02T10:18:51.616Z"
   },
   {
    "duration": 397,
    "start_time": "2023-10-02T10:18:53.389Z"
   },
   {
    "duration": 69,
    "start_time": "2023-10-02T10:20:53.036Z"
   },
   {
    "duration": 5,
    "start_time": "2023-10-02T10:20:59.756Z"
   },
   {
    "duration": 79,
    "start_time": "2023-10-02T10:21:01.252Z"
   },
   {
    "duration": 7,
    "start_time": "2023-10-02T10:29:44.547Z"
   },
   {
    "duration": 5,
    "start_time": "2023-10-02T10:30:13.671Z"
   },
   {
    "duration": 129,
    "start_time": "2023-10-02T10:30:15.834Z"
   },
   {
    "duration": 10,
    "start_time": "2023-10-02T10:31:07.926Z"
   },
   {
    "duration": 137,
    "start_time": "2023-10-02T10:31:09.718Z"
   },
   {
    "duration": 5,
    "start_time": "2023-10-02T10:31:34.054Z"
   },
   {
    "duration": 161,
    "start_time": "2023-10-02T10:31:34.835Z"
   },
   {
    "duration": 6,
    "start_time": "2023-10-02T10:32:04.973Z"
   },
   {
    "duration": 157,
    "start_time": "2023-10-02T10:32:05.937Z"
   },
   {
    "duration": 17,
    "start_time": "2023-10-02T10:32:17.907Z"
   },
   {
    "duration": 155,
    "start_time": "2023-10-02T10:32:19.765Z"
   },
   {
    "duration": 11,
    "start_time": "2023-10-02T10:32:29.939Z"
   },
   {
    "duration": 174,
    "start_time": "2023-10-02T10:32:31.703Z"
   },
   {
    "duration": 5,
    "start_time": "2023-10-02T10:32:56.377Z"
   },
   {
    "duration": 149,
    "start_time": "2023-10-02T10:32:57.261Z"
   },
   {
    "duration": 9,
    "start_time": "2023-10-02T10:33:06.043Z"
   },
   {
    "duration": 139,
    "start_time": "2023-10-02T10:33:06.706Z"
   },
   {
    "duration": 7,
    "start_time": "2023-10-02T10:33:17.666Z"
   },
   {
    "duration": 119,
    "start_time": "2023-10-02T10:33:19.349Z"
   },
   {
    "duration": 5,
    "start_time": "2023-10-02T10:33:29.449Z"
   },
   {
    "duration": 140,
    "start_time": "2023-10-02T10:33:31.226Z"
   },
   {
    "duration": 8,
    "start_time": "2023-10-02T10:34:08.700Z"
   },
   {
    "duration": 121,
    "start_time": "2023-10-02T10:34:10.535Z"
   },
   {
    "duration": 114,
    "start_time": "2023-10-02T10:34:49.257Z"
   },
   {
    "duration": 40,
    "start_time": "2023-10-02T10:43:03.683Z"
   },
   {
    "duration": 11,
    "start_time": "2023-10-02T10:43:07.999Z"
   },
   {
    "duration": 6,
    "start_time": "2023-10-02T10:43:14.495Z"
   },
   {
    "duration": 6,
    "start_time": "2023-10-02T10:43:19.333Z"
   },
   {
    "duration": 191,
    "start_time": "2023-10-02T10:43:58.939Z"
   },
   {
    "duration": 114,
    "start_time": "2023-10-02T10:48:07.684Z"
   },
   {
    "duration": 7,
    "start_time": "2023-10-02T10:48:27.276Z"
   },
   {
    "duration": 323,
    "start_time": "2023-10-02T10:48:33.737Z"
   },
   {
    "duration": 10,
    "start_time": "2023-10-02T10:48:46.450Z"
   },
   {
    "duration": 336,
    "start_time": "2023-10-02T10:48:50.814Z"
   },
   {
    "duration": 304,
    "start_time": "2023-10-02T10:49:02.863Z"
   },
   {
    "duration": 206,
    "start_time": "2023-10-02T10:49:25.066Z"
   },
   {
    "duration": 256,
    "start_time": "2023-10-02T10:50:03.735Z"
   },
   {
    "duration": 276,
    "start_time": "2023-10-02T10:50:49.231Z"
   },
   {
    "duration": 6,
    "start_time": "2023-10-02T10:54:22.532Z"
   },
   {
    "duration": 31,
    "start_time": "2023-10-02T10:56:33.571Z"
   },
   {
    "duration": 30,
    "start_time": "2023-10-02T10:58:27.283Z"
   },
   {
    "duration": 29,
    "start_time": "2023-10-02T10:58:49.640Z"
   },
   {
    "duration": 33,
    "start_time": "2023-10-02T10:59:07.097Z"
   },
   {
    "duration": 77,
    "start_time": "2023-10-02T11:10:17.776Z"
   },
   {
    "duration": 84,
    "start_time": "2023-10-02T11:10:43.034Z"
   },
   {
    "duration": 82,
    "start_time": "2023-10-02T11:11:16.884Z"
   },
   {
    "duration": 19,
    "start_time": "2023-10-02T11:11:20.431Z"
   },
   {
    "duration": 23,
    "start_time": "2023-10-02T11:11:25.916Z"
   },
   {
    "duration": 101,
    "start_time": "2023-10-02T11:13:04.576Z"
   },
   {
    "duration": 13,
    "start_time": "2023-10-02T11:13:06.535Z"
   },
   {
    "duration": 69,
    "start_time": "2023-10-02T11:13:19.661Z"
   },
   {
    "duration": 15,
    "start_time": "2023-10-02T11:13:20.238Z"
   },
   {
    "duration": 62,
    "start_time": "2023-10-02T11:13:31.728Z"
   },
   {
    "duration": 21,
    "start_time": "2023-10-02T11:13:34.197Z"
   },
   {
    "duration": 21,
    "start_time": "2023-10-02T11:15:02.853Z"
   },
   {
    "duration": 59,
    "start_time": "2023-10-02T11:18:28.733Z"
   },
   {
    "duration": 18,
    "start_time": "2023-10-02T11:18:33.701Z"
   },
   {
    "duration": 68,
    "start_time": "2023-10-02T11:18:50.354Z"
   },
   {
    "duration": 10,
    "start_time": "2023-10-02T11:18:51.861Z"
   },
   {
    "duration": 77,
    "start_time": "2023-10-02T11:19:44.975Z"
   },
   {
    "duration": 12,
    "start_time": "2023-10-02T11:19:51.596Z"
   },
   {
    "duration": 74,
    "start_time": "2023-10-02T11:26:10.862Z"
   },
   {
    "duration": 57,
    "start_time": "2023-10-02T11:26:37.468Z"
   },
   {
    "duration": 33,
    "start_time": "2023-10-02T11:26:57.047Z"
   },
   {
    "duration": 90,
    "start_time": "2023-10-02T11:27:17.310Z"
   },
   {
    "duration": 82,
    "start_time": "2023-10-02T11:27:22.988Z"
   },
   {
    "duration": 65,
    "start_time": "2023-10-02T11:28:16.903Z"
   },
   {
    "duration": 57,
    "start_time": "2023-10-02T11:28:23.051Z"
   },
   {
    "duration": 70,
    "start_time": "2023-10-02T11:28:26.785Z"
   },
   {
    "duration": 8,
    "start_time": "2023-10-02T11:28:28.379Z"
   },
   {
    "duration": 64,
    "start_time": "2023-10-02T11:28:44.968Z"
   },
   {
    "duration": 8,
    "start_time": "2023-10-02T11:28:46.875Z"
   },
   {
    "duration": 590,
    "start_time": "2023-10-02T12:31:24.395Z"
   },
   {
    "duration": 19491,
    "start_time": "2023-10-02T12:31:24.987Z"
   },
   {
    "duration": 7,
    "start_time": "2023-10-02T12:31:44.479Z"
   },
   {
    "duration": 26,
    "start_time": "2023-10-02T12:31:44.489Z"
   },
   {
    "duration": 312,
    "start_time": "2023-10-02T12:31:44.517Z"
   },
   {
    "duration": 173,
    "start_time": "2023-10-02T12:31:44.831Z"
   },
   {
    "duration": 174,
    "start_time": "2023-10-02T12:31:45.006Z"
   },
   {
    "duration": 227,
    "start_time": "2023-10-02T12:31:45.182Z"
   },
   {
    "duration": 227,
    "start_time": "2023-10-02T12:31:45.411Z"
   },
   {
    "duration": 30,
    "start_time": "2023-10-02T12:31:45.640Z"
   },
   {
    "duration": 62,
    "start_time": "2023-10-02T12:31:45.672Z"
   },
   {
    "duration": 8,
    "start_time": "2023-10-02T12:31:45.736Z"
   },
   {
    "duration": 42,
    "start_time": "2023-10-02T12:31:45.745Z"
   },
   {
    "duration": 124,
    "start_time": "2023-10-02T12:31:45.789Z"
   },
   {
    "duration": 67,
    "start_time": "2023-10-02T12:32:14.423Z"
   },
   {
    "duration": 67,
    "start_time": "2023-10-02T12:32:23.650Z"
   },
   {
    "duration": 48,
    "start_time": "2023-10-02T12:32:46.016Z"
   },
   {
    "duration": 36,
    "start_time": "2023-10-02T12:33:30.868Z"
   },
   {
    "duration": 67,
    "start_time": "2023-10-02T12:34:35.233Z"
   },
   {
    "duration": 47,
    "start_time": "2023-10-02T12:34:43.556Z"
   },
   {
    "duration": 55,
    "start_time": "2023-10-02T12:42:30.689Z"
   },
   {
    "duration": 47,
    "start_time": "2023-10-02T12:44:15.207Z"
   },
   {
    "duration": 55,
    "start_time": "2023-10-02T12:45:11.071Z"
   },
   {
    "duration": 73,
    "start_time": "2023-10-02T12:45:22.586Z"
   },
   {
    "duration": 67,
    "start_time": "2023-10-02T12:46:47.025Z"
   },
   {
    "duration": 46,
    "start_time": "2023-10-02T12:48:32.260Z"
   },
   {
    "duration": 38,
    "start_time": "2023-10-02T12:49:22.377Z"
   },
   {
    "duration": 37,
    "start_time": "2023-10-02T12:49:32.946Z"
   },
   {
    "duration": 37,
    "start_time": "2023-10-02T12:50:08.076Z"
   },
   {
    "duration": 34,
    "start_time": "2023-10-02T12:50:37.674Z"
   },
   {
    "duration": 108,
    "start_time": "2023-10-02T12:51:31.637Z"
   },
   {
    "duration": 31,
    "start_time": "2023-10-02T12:51:36.933Z"
   },
   {
    "duration": 33,
    "start_time": "2023-10-02T12:51:52.105Z"
   },
   {
    "duration": 32,
    "start_time": "2023-10-02T12:52:17.911Z"
   },
   {
    "duration": 510,
    "start_time": "2023-10-02T13:08:02.855Z"
   },
   {
    "duration": 27300,
    "start_time": "2023-10-02T13:08:03.368Z"
   },
   {
    "duration": 8,
    "start_time": "2023-10-02T13:08:30.670Z"
   },
   {
    "duration": 159,
    "start_time": "2023-10-02T13:08:30.680Z"
   },
   {
    "duration": 466,
    "start_time": "2023-10-02T13:08:30.842Z"
   },
   {
    "duration": 176,
    "start_time": "2023-10-02T13:08:31.309Z"
   },
   {
    "duration": 208,
    "start_time": "2023-10-02T13:08:31.487Z"
   },
   {
    "duration": 243,
    "start_time": "2023-10-02T13:08:31.697Z"
   },
   {
    "duration": 419,
    "start_time": "2023-10-02T13:08:31.942Z"
   },
   {
    "duration": 148,
    "start_time": "2023-10-02T13:08:32.363Z"
   },
   {
    "duration": 111,
    "start_time": "2023-10-02T13:08:32.513Z"
   },
   {
    "duration": 8,
    "start_time": "2023-10-02T13:08:32.626Z"
   },
   {
    "duration": 60,
    "start_time": "2023-10-02T13:08:32.635Z"
   },
   {
    "duration": 53,
    "start_time": "2023-10-02T13:08:32.698Z"
   },
   {
    "duration": 58,
    "start_time": "2023-10-02T13:08:32.753Z"
   },
   {
    "duration": 36,
    "start_time": "2023-10-02T13:19:31.146Z"
   },
   {
    "duration": 40,
    "start_time": "2023-10-02T13:19:37.658Z"
   },
   {
    "duration": 539,
    "start_time": "2023-10-02T13:24:20.122Z"
   },
   {
    "duration": 12598,
    "start_time": "2023-10-02T13:24:20.663Z"
   },
   {
    "duration": 7,
    "start_time": "2023-10-02T13:24:33.263Z"
   },
   {
    "duration": 187,
    "start_time": "2023-10-02T13:24:33.272Z"
   },
   {
    "duration": 336,
    "start_time": "2023-10-02T13:24:33.462Z"
   },
   {
    "duration": 157,
    "start_time": "2023-10-02T13:24:33.800Z"
   },
   {
    "duration": 158,
    "start_time": "2023-10-02T13:24:33.959Z"
   },
   {
    "duration": 210,
    "start_time": "2023-10-02T13:24:34.118Z"
   },
   {
    "duration": 206,
    "start_time": "2023-10-02T13:24:34.330Z"
   },
   {
    "duration": 28,
    "start_time": "2023-10-02T13:24:34.538Z"
   },
   {
    "duration": 55,
    "start_time": "2023-10-02T13:24:34.569Z"
   },
   {
    "duration": 10,
    "start_time": "2023-10-02T13:24:34.626Z"
   },
   {
    "duration": 73,
    "start_time": "2023-10-02T13:24:34.638Z"
   },
   {
    "duration": 71,
    "start_time": "2023-10-02T13:24:34.714Z"
   },
   {
    "duration": 65,
    "start_time": "2023-10-02T13:24:34.786Z"
   },
   {
    "duration": 29,
    "start_time": "2023-10-02T13:59:06.128Z"
   },
   {
    "duration": 58,
    "start_time": "2023-10-02T14:01:04.164Z"
   },
   {
    "duration": 71,
    "start_time": "2023-10-02T14:01:14.280Z"
   },
   {
    "duration": 9,
    "start_time": "2023-10-02T14:01:17.732Z"
   },
   {
    "duration": 32,
    "start_time": "2023-10-02T14:02:26.753Z"
   },
   {
    "duration": 31,
    "start_time": "2023-10-02T14:02:31.042Z"
   },
   {
    "duration": 49,
    "start_time": "2023-10-02T14:03:30.696Z"
   },
   {
    "duration": 49,
    "start_time": "2023-10-02T14:03:41.414Z"
   },
   {
    "duration": 60,
    "start_time": "2023-10-02T14:03:49.182Z"
   },
   {
    "duration": 9,
    "start_time": "2023-10-02T14:03:51.436Z"
   },
   {
    "duration": 33,
    "start_time": "2023-10-02T14:05:09.552Z"
   },
   {
    "duration": 643,
    "start_time": "2023-10-02T14:46:05.187Z"
   },
   {
    "duration": 11502,
    "start_time": "2023-10-02T14:46:05.832Z"
   },
   {
    "duration": 11,
    "start_time": "2023-10-02T14:46:17.337Z"
   },
   {
    "duration": 60,
    "start_time": "2023-10-02T14:46:17.350Z"
   },
   {
    "duration": 400,
    "start_time": "2023-10-02T14:46:17.413Z"
   },
   {
    "duration": 194,
    "start_time": "2023-10-02T14:46:17.815Z"
   },
   {
    "duration": 338,
    "start_time": "2023-10-02T14:46:18.012Z"
   },
   {
    "duration": 399,
    "start_time": "2023-10-02T14:46:18.353Z"
   },
   {
    "duration": 256,
    "start_time": "2023-10-02T14:46:18.754Z"
   },
   {
    "duration": 33,
    "start_time": "2023-10-02T14:46:19.012Z"
   },
   {
    "duration": 67,
    "start_time": "2023-10-02T14:46:19.048Z"
   },
   {
    "duration": 14,
    "start_time": "2023-10-02T14:46:19.117Z"
   },
   {
    "duration": 80,
    "start_time": "2023-10-02T14:46:19.134Z"
   },
   {
    "duration": 36,
    "start_time": "2023-10-02T14:46:19.216Z"
   },
   {
    "duration": 57,
    "start_time": "2023-10-02T14:46:19.253Z"
   }
  ],
  "kernelspec": {
   "display_name": "Python 3 (ipykernel)",
   "language": "python",
   "name": "python3"
  },
  "language_info": {
   "codemirror_mode": {
    "name": "ipython",
    "version": 3
   },
   "file_extension": ".py",
   "mimetype": "text/x-python",
   "name": "python",
   "nbconvert_exporter": "python",
   "pygments_lexer": "ipython3",
   "version": "3.9.18"
  },
  "toc": {
   "base_numbering": 1,
   "nav_menu": {
    "height": "311px",
    "width": "359px"
   },
   "number_sections": true,
   "sideBar": true,
   "skip_h1_title": true,
   "title_cell": "Содержание",
   "title_sidebar": "Contents",
   "toc_cell": true,
   "toc_position": {
    "height": "calc(100% - 180px)",
    "left": "10px",
    "top": "150px",
    "width": "384px"
   },
   "toc_section_display": true,
   "toc_window_display": true
  }
 },
 "nbformat": 4,
 "nbformat_minor": 2
}
