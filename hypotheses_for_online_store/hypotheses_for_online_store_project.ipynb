{
 "cells": [
  {
   "cell_type": "markdown",
   "metadata": {},
   "source": [
    "# Анализ гипотез для увеличения выручки интернет-магазина"
   ]
  },
  {
   "cell_type": "markdown",
   "metadata": {},
   "source": [
    "<font size=\"4\"><b>О проекте:</b></font>\n",
    "\n",
    "Отдел маркетинга подготовил список гипотез для увеличения выручки. В работе будут произведены приоритизация гипотез и анализ результатов, полученных после проведения А/В-теста. \n",
    "\n",
    "<font size=\"4\"><b>Описание данных:</b></font>\n",
    "\n",
    "**Первый датасет** включает в себя список из 9 гипотез по увеличению выручки, каждая гипотеза описывается следующими параметрами:\n",
    "\n",
    "* Hypothesis — краткое описание гипотезы;\n",
    "* Reach — охват пользователей по 10-балльной шкале;\n",
    "* Impact — влияние на пользователей по 10-балльной шкале;\n",
    "* Confidence — уверенность в гипотезе по 10-балльной шкале;\n",
    "* Efforts — затраты ресурсов на проверку гипотезы по 10-балльной шкале. Чем больше значение Efforts, тем дороже проверка гипотезы.\n",
    "\n",
    "**Второй датасет** хранит информацию о заказах и содержит следующие поля:\n",
    "\n",
    "* TransactionId — идентификатор заказа;\n",
    "* VisitorId — идентификатор пользователя, совершившего заказ;\n",
    "* Date — дата, когда был совершён заказ;\n",
    "* Revenue — выручка заказа;\n",
    "* Group — группа A/B-теста, в которую попал заказ.\n",
    "\n",
    "**Третий датасет** хранит информацию о посещениях сайта с полями:\n",
    "\n",
    "* Date — дата;\n",
    "* Group — группа A/B-теста;\n",
    "* Visitors — количество пользователей в указанную дату в указанной группе A/B-теста.\n"
   ]
  },
  {
   "cell_type": "markdown",
   "metadata": {
    "toc": true
   },
   "source": [
    "<h1>Содержание<span class=\"tocSkip\"></span></h1>\n",
    "<div class=\"toc\"><ul class=\"toc-item\"><li><span><a href=\"#Общая-информация-о-датасетах\" data-toc-modified-id=\"Общая-информация-о-датасетах-1\"><span class=\"toc-item-num\">1&nbsp;&nbsp;</span>Общая информация о датасетах</a></span><ul class=\"toc-item\"><li><span><a href=\"#Загрузка-данных\" data-toc-modified-id=\"Загрузка-данных-1.1\"><span class=\"toc-item-num\">1.1&nbsp;&nbsp;</span>Загрузка данных</a></span></li><li><span><a href=\"#Общая-информация-о-датасетах\" data-toc-modified-id=\"Общая-информация-о-датасетах-1.2\"><span class=\"toc-item-num\">1.2&nbsp;&nbsp;</span>Общая информация о датасетах</a></span><ul class=\"toc-item\"><li><span><a href=\"#Датасет-hypothesis\" data-toc-modified-id=\"Датасет-hypothesis-1.2.1\"><span class=\"toc-item-num\">1.2.1&nbsp;&nbsp;</span>Датасет <code>hypothesis</code></a></span></li><li><span><a href=\"#Датасет-orders\" data-toc-modified-id=\"Датасет-orders-1.2.2\"><span class=\"toc-item-num\">1.2.2&nbsp;&nbsp;</span>Датасет <code>orders</code></a></span></li><li><span><a href=\"#Датасет-visits\" data-toc-modified-id=\"Датасет-visits-1.2.3\"><span class=\"toc-item-num\">1.2.3&nbsp;&nbsp;</span>Датасет <code>visits</code></a></span></li></ul></li></ul></li><li><span><a href=\"#Предобработка-данных\" data-toc-modified-id=\"Предобработка-данных-2\"><span class=\"toc-item-num\">2&nbsp;&nbsp;</span>Предобработка данных</a></span><ul class=\"toc-item\"><li><span><a href=\"#Преобразование-типов,-проверка-на-дубликаты\" data-toc-modified-id=\"Преобразование-типов,-проверка-на-дубликаты-2.1\"><span class=\"toc-item-num\">2.1&nbsp;&nbsp;</span>Преобразование типов, проверка на дубликаты</a></span></li><li><span><a href=\"#Проверка-корректности-распределения-пользователей-по-группам-теста\" data-toc-modified-id=\"Проверка-корректности-распределения-пользователей-по-группам-теста-2.2\"><span class=\"toc-item-num\">2.2&nbsp;&nbsp;</span>Проверка корректности распределения пользователей по группам теста</a></span></li></ul></li><li><span><a href=\"#Приоритизация-гипотез\" data-toc-modified-id=\"Приоритизация-гипотез-3\"><span class=\"toc-item-num\">3&nbsp;&nbsp;</span>Приоритизация гипотез</a></span></li><li><span><a href=\"#Функции-для-анализа-А/В-теста\" data-toc-modified-id=\"Функции-для-анализа-А/В-теста-4\"><span class=\"toc-item-num\">4&nbsp;&nbsp;</span>Функции для анализа А/В-теста</a></span><ul class=\"toc-item\"><li><span><a href=\"#Функции-для-расчета-и-группировки-данных\" data-toc-modified-id=\"Функции-для-расчета-и-группировки-данных-4.1\"><span class=\"toc-item-num\">4.1&nbsp;&nbsp;</span>Функции для расчета и группировки данных</a></span><ul class=\"toc-item\"><li><span><a href=\"#cum_sum_check()\" data-toc-modified-id=\"cum_sum_check()-4.1.1\"><span class=\"toc-item-num\">4.1.1&nbsp;&nbsp;</span><code>cum_sum_check()</code></a></span></li><li><span><a href=\"#orders_per_visitors()\" data-toc-modified-id=\"orders_per_visitors()-4.1.2\"><span class=\"toc-item-num\">4.1.2&nbsp;&nbsp;</span><code>orders_per_visitors()</code></a></span></li><li><span><a href=\"#percentils()\" data-toc-modified-id=\"percentils()-4.1.3\"><span class=\"toc-item-num\">4.1.3&nbsp;&nbsp;</span><code>percentils()</code></a></span></li><li><span><a href=\"#count_orders_stat()\" data-toc-modified-id=\"count_orders_stat()-4.1.4\"><span class=\"toc-item-num\">4.1.4&nbsp;&nbsp;</span><code>count_orders_stat()</code></a></span></li><li><span><a href=\"#check_stat()\" data-toc-modified-id=\"check_stat()-4.1.5\"><span class=\"toc-item-num\">4.1.5&nbsp;&nbsp;</span><code>check_stat()</code></a></span></li></ul></li><li><span><a href=\"#Функции-для-визуализации-данных\" data-toc-modified-id=\"Функции-для-визуализации-данных-4.2\"><span class=\"toc-item-num\">4.2&nbsp;&nbsp;</span>Функции для визуализации данных</a></span><ul class=\"toc-item\"><li><span><a href=\"#cum_sum_graph()\" data-toc-modified-id=\"cum_sum_graph()-4.2.1\"><span class=\"toc-item-num\">4.2.1&nbsp;&nbsp;</span><code>cum_sum_graph()</code></a></span></li><li><span><a href=\"#cum_check_graph()\" data-toc-modified-id=\"cum_check_graph()-4.2.2\"><span class=\"toc-item-num\">4.2.2&nbsp;&nbsp;</span><code>cum_check_graph()</code></a></span></li><li><span><a href=\"#diff_check_graph()\" data-toc-modified-id=\"diff_check_graph()-4.2.3\"><span class=\"toc-item-num\">4.2.3&nbsp;&nbsp;</span><code>diff_check_graph()</code></a></span></li><li><span><a href=\"#cum_conv_graph()\" data-toc-modified-id=\"cum_conv_graph()-4.2.4\"><span class=\"toc-item-num\">4.2.4&nbsp;&nbsp;</span><code>cum_conv_graph()</code></a></span></li><li><span><a href=\"#diff_cum_conv_graph()\" data-toc-modified-id=\"diff_cum_conv_graph()-4.2.5\"><span class=\"toc-item-num\">4.2.5&nbsp;&nbsp;</span><code>diff_cum_conv_graph()</code></a></span></li><li><span><a href=\"#scatter_plot()\" data-toc-modified-id=\"scatter_plot()-4.2.6\"><span class=\"toc-item-num\">4.2.6&nbsp;&nbsp;</span><code>scatter_plot()</code></a></span></li></ul></li></ul></li><li><span><a href=\"#Анализ-данных-А/В-теста\" data-toc-modified-id=\"Анализ-данных-А/В-теста-5\"><span class=\"toc-item-num\">5&nbsp;&nbsp;</span>Анализ данных А/В-теста</a></span><ul class=\"toc-item\"><li><span><a href=\"#Кумулятивная-выручка\" data-toc-modified-id=\"Кумулятивная-выручка-5.1\"><span class=\"toc-item-num\">5.1&nbsp;&nbsp;</span>Кумулятивная выручка</a></span></li><li><span><a href=\"#Средний-чек\" data-toc-modified-id=\"Средний-чек-5.2\"><span class=\"toc-item-num\">5.2&nbsp;&nbsp;</span>Средний чек</a></span></li><li><span><a href=\"#Кумулятивная-конверсия\" data-toc-modified-id=\"Кумулятивная-конверсия-5.3\"><span class=\"toc-item-num\">5.3&nbsp;&nbsp;</span>Кумулятивная конверсия</a></span></li><li><span><a href=\"#Количество-заказов-на-пользователя\" data-toc-modified-id=\"Количество-заказов-на-пользователя-5.4\"><span class=\"toc-item-num\">5.4&nbsp;&nbsp;</span>Количество заказов на пользователя</a></span></li><li><span><a href=\"#Стоимость-заказа-на-пользователя\" data-toc-modified-id=\"Стоимость-заказа-на-пользователя-5.5\"><span class=\"toc-item-num\">5.5&nbsp;&nbsp;</span>Стоимость заказа на пользователя</a></span></li><li><span><a href=\"#Статистическая-значимость-различий-среднего-количества-заказов-на-пользователя\" data-toc-modified-id=\"Статистическая-значимость-различий-среднего-количества-заказов-на-пользователя-5.6\"><span class=\"toc-item-num\">5.6&nbsp;&nbsp;</span>Статистическая значимость различий среднего количества заказов на пользователя</a></span></li><li><span><a href=\"#Статистическая-значимость-различий-в-среднем-чеке-заказа\" data-toc-modified-id=\"Статистическая-значимость-различий-в-среднем-чеке-заказа-5.7\"><span class=\"toc-item-num\">5.7&nbsp;&nbsp;</span>Статистическая значимость различий в среднем чеке заказа</a></span></li><li><span><a href=\"#Графики-кумулятивной-выручки-и-кумулятивного-среднего-чека-по-очищенным-данным\" data-toc-modified-id=\"Графики-кумулятивной-выручки-и-кумулятивного-среднего-чека-по-очищенным-данным-5.8\"><span class=\"toc-item-num\">5.8&nbsp;&nbsp;</span>Графики кумулятивной выручки и кумулятивного среднего чека по очищенным данным</a></span></li></ul></li><li><span><a href=\"#Выводы\" data-toc-modified-id=\"Выводы-6\"><span class=\"toc-item-num\">6&nbsp;&nbsp;</span>Выводы</a></span></li></ul></div>"
   ]
  },
  {
   "cell_type": "markdown",
   "metadata": {},
   "source": [
    "## Общая информация о датасетах"
   ]
  },
  {
   "cell_type": "markdown",
   "metadata": {},
   "source": [
    "### Загрузка данных"
   ]
  },
  {
   "cell_type": "code",
   "execution_count": 1,
   "metadata": {},
   "outputs": [],
   "source": [
    "# импортируем все необходимые библиотеки\n",
    "\n",
    "import numpy as np\n",
    "import pandas as pd\n",
    "import seaborn as sns\n",
    "import datetime as dt\n",
    "from scipy import stats as st\n",
    "import matplotlib.pyplot as plt"
   ]
  },
  {
   "cell_type": "code",
   "execution_count": 2,
   "metadata": {},
   "outputs": [],
   "source": [
    "# загрузка всех данных\n",
    "\n",
    "\n",
    "orders = pd.read_csv('/datasets/orders.csv')\n",
    "visits = pd.read_csv('/datasets/visitors.csv')\n",
    "hypothesis = pd.read_csv('/datasets/hypothesis.csv')\n"
   ]
  },
  {
   "cell_type": "code",
   "execution_count": 3,
   "metadata": {},
   "outputs": [],
   "source": [
    "# добавим в структуру датафреймов имена\n",
    "\n",
    "orders.name = 'orders'\n",
    "visits.name = 'visits'\n",
    "hypothesis.name = 'hypothesis'"
   ]
  },
  {
   "cell_type": "markdown",
   "metadata": {},
   "source": [
    "### Общая информация о датасетах"
   ]
  },
  {
   "cell_type": "code",
   "execution_count": 4,
   "metadata": {},
   "outputs": [],
   "source": [
    "# введём функцию, позволяющую вывести общую информацию о данных\n",
    "\n",
    "def df_info(df, figsize=(7, 5)):\n",
    "    print('Вид данных:')\n",
    "    display(df.head())\n",
    "    \n",
    "    print()\n",
    "    print('Общая информация о данных:')\n",
    "    print()\n",
    "    df.info()\n",
    "    \n",
    "    # Создадим список булева типа, чтобы выбрать поля, не являющиеся идентификаторами\n",
    "    cond = []\n",
    "    for i in df.columns.str.find('Id'):\n",
    "        if i == -1:\n",
    "            cond.append(True)\n",
    "        else:\n",
    "            cond.append(False)\n",
    "    \n",
    "    # Построим гистограммы для тех числовых полей, которые не являются идентификаторами, если такие есть в датасете\n",
    "    if len(df.loc[:, cond].select_dtypes(include=['int64', 'float64']).columns) != 0:\n",
    "        print()\n",
    "        print('Распределения числовых величин в данных:')\n",
    "        df.loc[:, cond].hist(figsize=figsize, color='SteelBlue', grid=False, bins=60);\n"
   ]
  },
  {
   "cell_type": "markdown",
   "metadata": {},
   "source": [
    "#### Датасет `hypothesis`"
   ]
  },
  {
   "cell_type": "code",
   "execution_count": 5,
   "metadata": {},
   "outputs": [
    {
     "data": {
      "text/html": [
       "<div>\n",
       "<style scoped>\n",
       "    .dataframe tbody tr th:only-of-type {\n",
       "        vertical-align: middle;\n",
       "    }\n",
       "\n",
       "    .dataframe tbody tr th {\n",
       "        vertical-align: top;\n",
       "    }\n",
       "\n",
       "    .dataframe thead th {\n",
       "        text-align: right;\n",
       "    }\n",
       "</style>\n",
       "<table border=\"1\" class=\"dataframe\">\n",
       "  <thead>\n",
       "    <tr style=\"text-align: right;\">\n",
       "      <th></th>\n",
       "      <th>Hypothesis</th>\n",
       "      <th>Reach</th>\n",
       "      <th>Impact</th>\n",
       "      <th>Confidence</th>\n",
       "      <th>Efforts</th>\n",
       "    </tr>\n",
       "  </thead>\n",
       "  <tbody>\n",
       "    <tr>\n",
       "      <th>0</th>\n",
       "      <td>Добавить два новых канала привлечения трафика,...</td>\n",
       "      <td>3</td>\n",
       "      <td>10</td>\n",
       "      <td>8</td>\n",
       "      <td>6</td>\n",
       "    </tr>\n",
       "    <tr>\n",
       "      <th>1</th>\n",
       "      <td>Запустить собственную службу доставки, что сок...</td>\n",
       "      <td>2</td>\n",
       "      <td>5</td>\n",
       "      <td>4</td>\n",
       "      <td>10</td>\n",
       "    </tr>\n",
       "    <tr>\n",
       "      <th>2</th>\n",
       "      <td>Добавить блоки рекомендаций товаров на сайт ин...</td>\n",
       "      <td>8</td>\n",
       "      <td>3</td>\n",
       "      <td>7</td>\n",
       "      <td>3</td>\n",
       "    </tr>\n",
       "    <tr>\n",
       "      <th>3</th>\n",
       "      <td>Изменить структура категорий, что увеличит кон...</td>\n",
       "      <td>8</td>\n",
       "      <td>3</td>\n",
       "      <td>3</td>\n",
       "      <td>8</td>\n",
       "    </tr>\n",
       "    <tr>\n",
       "      <th>4</th>\n",
       "      <td>Изменить цвет фона главной страницы, чтобы уве...</td>\n",
       "      <td>3</td>\n",
       "      <td>1</td>\n",
       "      <td>1</td>\n",
       "      <td>1</td>\n",
       "    </tr>\n",
       "    <tr>\n",
       "      <th>5</th>\n",
       "      <td>Добавить страницу отзывов клиентов о магазине,...</td>\n",
       "      <td>3</td>\n",
       "      <td>2</td>\n",
       "      <td>2</td>\n",
       "      <td>3</td>\n",
       "    </tr>\n",
       "    <tr>\n",
       "      <th>6</th>\n",
       "      <td>Показать на главной странице баннеры с актуаль...</td>\n",
       "      <td>5</td>\n",
       "      <td>3</td>\n",
       "      <td>8</td>\n",
       "      <td>3</td>\n",
       "    </tr>\n",
       "    <tr>\n",
       "      <th>7</th>\n",
       "      <td>Добавить форму подписки на все основные страни...</td>\n",
       "      <td>10</td>\n",
       "      <td>7</td>\n",
       "      <td>8</td>\n",
       "      <td>5</td>\n",
       "    </tr>\n",
       "    <tr>\n",
       "      <th>8</th>\n",
       "      <td>Запустить акцию, дающую скидку на товар в день...</td>\n",
       "      <td>1</td>\n",
       "      <td>9</td>\n",
       "      <td>9</td>\n",
       "      <td>5</td>\n",
       "    </tr>\n",
       "  </tbody>\n",
       "</table>\n",
       "</div>"
      ],
      "text/plain": [
       "                                          Hypothesis  Reach  Impact  \\\n",
       "0  Добавить два новых канала привлечения трафика,...      3      10   \n",
       "1  Запустить собственную службу доставки, что сок...      2       5   \n",
       "2  Добавить блоки рекомендаций товаров на сайт ин...      8       3   \n",
       "3  Изменить структура категорий, что увеличит кон...      8       3   \n",
       "4  Изменить цвет фона главной страницы, чтобы уве...      3       1   \n",
       "5  Добавить страницу отзывов клиентов о магазине,...      3       2   \n",
       "6  Показать на главной странице баннеры с актуаль...      5       3   \n",
       "7  Добавить форму подписки на все основные страни...     10       7   \n",
       "8  Запустить акцию, дающую скидку на товар в день...      1       9   \n",
       "\n",
       "   Confidence  Efforts  \n",
       "0           8        6  \n",
       "1           4       10  \n",
       "2           7        3  \n",
       "3           3        8  \n",
       "4           1        1  \n",
       "5           2        3  \n",
       "6           8        3  \n",
       "7           8        5  \n",
       "8           9        5  "
      ]
     },
     "execution_count": 5,
     "metadata": {},
     "output_type": "execute_result"
    }
   ],
   "source": [
    "hypothesis"
   ]
  },
  {
   "cell_type": "markdown",
   "metadata": {},
   "source": [
    "Каждая строка - набор данных об одной из гипотез. Пропуски отсутствуют, все данные корректны. Выведем описание гипотез отдельно."
   ]
  },
  {
   "cell_type": "code",
   "execution_count": 6,
   "metadata": {},
   "outputs": [
    {
     "name": "stdout",
     "output_type": "stream",
     "text": [
      "Гипотеза 0: Добавить два новых канала привлечения трафика, что позволит привлекать на 30% больше пользователей\n",
      "Гипотеза 1: Запустить собственную службу доставки, что сократит срок доставки заказов\n",
      "Гипотеза 2: Добавить блоки рекомендаций товаров на сайт интернет магазина, чтобы повысить конверсию и средний чек заказа\n",
      "Гипотеза 3: Изменить структура категорий, что увеличит конверсию, т.к. пользователи быстрее найдут нужный товар\n",
      "Гипотеза 4: Изменить цвет фона главной страницы, чтобы увеличить вовлеченность пользователей\n",
      "Гипотеза 5: Добавить страницу отзывов клиентов о магазине, что позволит увеличить количество заказов\n",
      "Гипотеза 6: Показать на главной странице баннеры с актуальными акциями и распродажами, чтобы увеличить конверсию\n",
      "Гипотеза 7: Добавить форму подписки на все основные страницы, чтобы собрать базу клиентов для email-рассылок\n",
      "Гипотеза 8: Запустить акцию, дающую скидку на товар в день рождения\n"
     ]
    }
   ],
   "source": [
    "for i in range(len(hypothesis)):\n",
    "    print(f'Гипотеза {i}:', hypothesis.loc[i, 'Hypothesis'])"
   ]
  },
  {
   "cell_type": "markdown",
   "metadata": {},
   "source": [
    "#### Датасет `orders`"
   ]
  },
  {
   "cell_type": "code",
   "execution_count": 7,
   "metadata": {},
   "outputs": [
    {
     "name": "stdout",
     "output_type": "stream",
     "text": [
      "Вид данных:\n"
     ]
    },
    {
     "data": {
      "text/html": [
       "<div>\n",
       "<style scoped>\n",
       "    .dataframe tbody tr th:only-of-type {\n",
       "        vertical-align: middle;\n",
       "    }\n",
       "\n",
       "    .dataframe tbody tr th {\n",
       "        vertical-align: top;\n",
       "    }\n",
       "\n",
       "    .dataframe thead th {\n",
       "        text-align: right;\n",
       "    }\n",
       "</style>\n",
       "<table border=\"1\" class=\"dataframe\">\n",
       "  <thead>\n",
       "    <tr style=\"text-align: right;\">\n",
       "      <th></th>\n",
       "      <th>transactionId</th>\n",
       "      <th>visitorId</th>\n",
       "      <th>date</th>\n",
       "      <th>revenue</th>\n",
       "      <th>group</th>\n",
       "    </tr>\n",
       "  </thead>\n",
       "  <tbody>\n",
       "    <tr>\n",
       "      <th>0</th>\n",
       "      <td>3667963787</td>\n",
       "      <td>3312258926</td>\n",
       "      <td>2019-08-15</td>\n",
       "      <td>1650</td>\n",
       "      <td>B</td>\n",
       "    </tr>\n",
       "    <tr>\n",
       "      <th>1</th>\n",
       "      <td>2804400009</td>\n",
       "      <td>3642806036</td>\n",
       "      <td>2019-08-15</td>\n",
       "      <td>730</td>\n",
       "      <td>B</td>\n",
       "    </tr>\n",
       "    <tr>\n",
       "      <th>2</th>\n",
       "      <td>2961555356</td>\n",
       "      <td>4069496402</td>\n",
       "      <td>2019-08-15</td>\n",
       "      <td>400</td>\n",
       "      <td>A</td>\n",
       "    </tr>\n",
       "    <tr>\n",
       "      <th>3</th>\n",
       "      <td>3797467345</td>\n",
       "      <td>1196621759</td>\n",
       "      <td>2019-08-15</td>\n",
       "      <td>9759</td>\n",
       "      <td>B</td>\n",
       "    </tr>\n",
       "    <tr>\n",
       "      <th>4</th>\n",
       "      <td>2282983706</td>\n",
       "      <td>2322279887</td>\n",
       "      <td>2019-08-15</td>\n",
       "      <td>2308</td>\n",
       "      <td>B</td>\n",
       "    </tr>\n",
       "  </tbody>\n",
       "</table>\n",
       "</div>"
      ],
      "text/plain": [
       "   transactionId   visitorId        date  revenue group\n",
       "0     3667963787  3312258926  2019-08-15     1650     B\n",
       "1     2804400009  3642806036  2019-08-15      730     B\n",
       "2     2961555356  4069496402  2019-08-15      400     A\n",
       "3     3797467345  1196621759  2019-08-15     9759     B\n",
       "4     2282983706  2322279887  2019-08-15     2308     B"
      ]
     },
     "metadata": {},
     "output_type": "display_data"
    },
    {
     "name": "stdout",
     "output_type": "stream",
     "text": [
      "\n",
      "Общая информация о данных:\n",
      "\n",
      "<class 'pandas.core.frame.DataFrame'>\n",
      "RangeIndex: 1197 entries, 0 to 1196\n",
      "Data columns (total 5 columns):\n",
      " #   Column         Non-Null Count  Dtype \n",
      "---  ------         --------------  ----- \n",
      " 0   transactionId  1197 non-null   int64 \n",
      " 1   visitorId      1197 non-null   int64 \n",
      " 2   date           1197 non-null   object\n",
      " 3   revenue        1197 non-null   int64 \n",
      " 4   group          1197 non-null   object\n",
      "dtypes: int64(3), object(2)\n",
      "memory usage: 46.9+ KB\n",
      "\n",
      "Распределения числовых величин в данных:\n"
     ]
    },
    {
     "data": {
      "image/png": "[encoded data removed]",
      "text/plain": [
       "<Figure size 504x360 with 1 Axes>"
      ]
     },
     "metadata": {
      "needs_background": "light"
     },
     "output_type": "display_data"
    }
   ],
   "source": [
    "df_info(orders)"
   ]
  },
  {
   "cell_type": "markdown",
   "metadata": {},
   "source": [
    "Датасет состоит из 1197 строк, пропущенных данных нет. Распределение выручки с заказа не является нормальным. Выручка с большинства заказов менее 100 000, однако присутствуют заказы с полной стоимостью более 1 000 000 рублей."
   ]
  },
  {
   "cell_type": "markdown",
   "metadata": {},
   "source": [
    "#### Датасет `visits`"
   ]
  },
  {
   "cell_type": "code",
   "execution_count": 8,
   "metadata": {},
   "outputs": [
    {
     "name": "stdout",
     "output_type": "stream",
     "text": [
      "Вид данных:\n"
     ]
    },
    {
     "data": {
      "text/html": [
       "<div>\n",
       "<style scoped>\n",
       "    .dataframe tbody tr th:only-of-type {\n",
       "        vertical-align: middle;\n",
       "    }\n",
       "\n",
       "    .dataframe tbody tr th {\n",
       "        vertical-align: top;\n",
       "    }\n",
       "\n",
       "    .dataframe thead th {\n",
       "        text-align: right;\n",
       "    }\n",
       "</style>\n",
       "<table border=\"1\" class=\"dataframe\">\n",
       "  <thead>\n",
       "    <tr style=\"text-align: right;\">\n",
       "      <th></th>\n",
       "      <th>date</th>\n",
       "      <th>group</th>\n",
       "      <th>visitors</th>\n",
       "    </tr>\n",
       "  </thead>\n",
       "  <tbody>\n",
       "    <tr>\n",
       "      <th>0</th>\n",
       "      <td>2019-08-01</td>\n",
       "      <td>A</td>\n",
       "      <td>719</td>\n",
       "    </tr>\n",
       "    <tr>\n",
       "      <th>1</th>\n",
       "      <td>2019-08-02</td>\n",
       "      <td>A</td>\n",
       "      <td>619</td>\n",
       "    </tr>\n",
       "    <tr>\n",
       "      <th>2</th>\n",
       "      <td>2019-08-03</td>\n",
       "      <td>A</td>\n",
       "      <td>507</td>\n",
       "    </tr>\n",
       "    <tr>\n",
       "      <th>3</th>\n",
       "      <td>2019-08-04</td>\n",
       "      <td>A</td>\n",
       "      <td>717</td>\n",
       "    </tr>\n",
       "    <tr>\n",
       "      <th>4</th>\n",
       "      <td>2019-08-05</td>\n",
       "      <td>A</td>\n",
       "      <td>756</td>\n",
       "    </tr>\n",
       "  </tbody>\n",
       "</table>\n",
       "</div>"
      ],
      "text/plain": [
       "         date group  visitors\n",
       "0  2019-08-01     A       719\n",
       "1  2019-08-02     A       619\n",
       "2  2019-08-03     A       507\n",
       "3  2019-08-04     A       717\n",
       "4  2019-08-05     A       756"
      ]
     },
     "metadata": {},
     "output_type": "display_data"
    },
    {
     "name": "stdout",
     "output_type": "stream",
     "text": [
      "\n",
      "Общая информация о данных:\n",
      "\n",
      "<class 'pandas.core.frame.DataFrame'>\n",
      "RangeIndex: 62 entries, 0 to 61\n",
      "Data columns (total 3 columns):\n",
      " #   Column    Non-Null Count  Dtype \n",
      "---  ------    --------------  ----- \n",
      " 0   date      62 non-null     object\n",
      " 1   group     62 non-null     object\n",
      " 2   visitors  62 non-null     int64 \n",
      "dtypes: int64(1), object(2)\n",
      "memory usage: 1.6+ KB\n",
      "\n",
      "Распределения числовых величин в данных:\n"
     ]
    },
    {
     "data": {
      "image/png": "[encoded data removed]",
      "text/plain": [
       "<Figure size 504x360 with 1 Axes>"
      ]
     },
     "metadata": {
      "needs_background": "light"
     },
     "output_type": "display_data"
    }
   ],
   "source": [
    "df_info(visits)"
   ]
  },
  {
   "cell_type": "code",
   "execution_count": 9,
   "metadata": {},
   "outputs": [
    {
     "name": "stdout",
     "output_type": "stream",
     "text": [
      "Данные представлены с 2019-08-01 по 2019-08-31.\n",
      "Дней для группы А: 31\n",
      "Дней для группы B: 31\n"
     ]
    }
   ],
   "source": [
    "print(f\"Данные представлены с {visits['date'].min()} по {visits['date'].max()}.\")\n",
    "print(f\"Дней для группы А: {visits.loc[visits['group'] == 'A', 'date'].count()}\")\n",
    "print(f\"Дней для группы B: {visits.loc[visits['group'] == 'B', 'date'].count()}\")"
   ]
  },
  {
   "cell_type": "markdown",
   "metadata": {},
   "source": [
    "В датасете 62 строки за 31 день для каждой из групп, т.е. тест проходил в течение всего месяца в августе 2019 года. Пропусков в данных нет."
   ]
  },
  {
   "cell_type": "markdown",
   "metadata": {},
   "source": [
    "## Предобработка данных"
   ]
  },
  {
   "cell_type": "markdown",
   "metadata": {},
   "source": [
    "### Преобразование типов, проверка на дубликаты"
   ]
  },
  {
   "cell_type": "code",
   "execution_count": 10,
   "metadata": {},
   "outputs": [],
   "source": [
    "# функция преобразования данных о времени\n",
    "\n",
    "def to_datetime(df, cols):\n",
    "    for col in cols:\n",
    "        df[col] = pd.to_datetime(df[col]).dt.date"
   ]
  },
  {
   "cell_type": "code",
   "execution_count": 11,
   "metadata": {},
   "outputs": [],
   "source": [
    "# преобразуем типы столбцов c данными о времени\n",
    "\n",
    "to_datetime(orders, ['date'])\n",
    "to_datetime(visits, ['date'])"
   ]
  },
  {
   "cell_type": "code",
   "execution_count": 12,
   "metadata": {},
   "outputs": [],
   "source": [
    "# приведем названия полей к верному стилю\n",
    "\n",
    "for df in [visits, orders, hypothesis]:\n",
    "    df.columns = df.columns.str.replace('Id', '_id')\n",
    "    df.columns = df.columns.str.lower()"
   ]
  },
  {
   "cell_type": "code",
   "execution_count": 13,
   "metadata": {},
   "outputs": [
    {
     "name": "stdout",
     "output_type": "stream",
     "text": [
      "Дубликатов в таблице hypothesis: 0\n",
      "Дубликатов в таблице orders: 0\n",
      "Дубликатов в таблице visits: 0\n"
     ]
    }
   ],
   "source": [
    "# проверка на явные дубликаты\n",
    "\n",
    "for df in [hypothesis, orders, visits]:\n",
    "    columns = df.columns\n",
    "    print(f'Дубликатов в таблице {df.name}: {df[df.duplicated()][columns[0]].count()}')"
   ]
  },
  {
   "cell_type": "markdown",
   "metadata": {},
   "source": [
    "### Проверка корректности распределения пользователей по группам теста"
   ]
  },
  {
   "cell_type": "code",
   "execution_count": 14,
   "metadata": {},
   "outputs": [
    {
     "name": "stdout",
     "output_type": "stream",
     "text": [
      "Количество пользователей, попавших в обе группы: 58\n",
      "Доля пользователей, попавших в обе группы, относительно общего количества пользователей, участвующих в тесте: 5.6%\n"
     ]
    }
   ],
   "source": [
    "# проверим, есть ли пользователи, которые попали в обе группы А/В теста\n",
    "# для этого создадим список уникальных пар пользователь-группа\n",
    "group_per_visitor = orders[['visitor_id','group']].drop_duplicates()\n",
    "\n",
    "# выведем повторяющиеся значения идентификатора пользователя в полученном списке\n",
    "count_visitors_grouped = group_per_visitor['visitor_id'].value_counts().sort_values(ascending=False)\n",
    "print('Количество пользователей, попавших в обе группы:', count_visitors_grouped[count_visitors_grouped == 2].count())\n",
    "print(\n",
    "    'Доля пользователей, попавших в обе группы, относительно общего количества пользователей, участвующих в тесте:',\n",
    "    f\"{(count_visitors_grouped[count_visitors_grouped == 2].count() / count_visitors_grouped.count()):.1%}\"\n",
    ")"
   ]
  },
  {
   "cell_type": "markdown",
   "metadata": {},
   "source": [
    "Относительное количество пользователей, попавших в обе группы, не является критичным. Однако так как по каким-то причинам эти пользователи могли видеть обе версии страницы, не будем их учитывать в анализе результатов А/В-теста. Кроме того, необходимо сообщить об этом разработчикам/дата-архитекторам, чтобы выявить причину смешения групп."
   ]
  },
  {
   "cell_type": "code",
   "execution_count": 15,
   "metadata": {},
   "outputs": [],
   "source": [
    "# удалим данные о пользователях, попавших в обе группы\n",
    "orders = orders[~(orders['visitor_id'].isin(count_visitors_grouped[count_visitors_grouped == 2].index))]"
   ]
  },
  {
   "cell_type": "markdown",
   "metadata": {},
   "source": [
    "## Приоритизация гипотез"
   ]
  },
  {
   "cell_type": "code",
   "execution_count": 16,
   "metadata": {},
   "outputs": [],
   "source": [
    "# напишем функцию для расчета ICE и RICE\n",
    "\n",
    "def rice_calc(df):\n",
    "    df['ICE'] = round(df['impact'] * df['confidence'] / df['efforts'], 2)\n",
    "    df['RICE'] = df['ICE'] * df['reach']"
   ]
  },
  {
   "cell_type": "markdown",
   "metadata": {},
   "source": [
    "Метод ICE рассчитывает приоритет по следующей формуле:\n",
    "\n",
    " `IMPACT` * `CONFIDENCE` / `EFFORTS`\n",
    " \n",
    "Метод RICE отличается тем, что учитывает охват аудитории, которую затронут изменения, предлагаемые в гипотезе:\n",
    "\n",
    " `REACH` * `IMPACT` * `CONFIDENCE` / `EFFORTS`"
   ]
  },
  {
   "cell_type": "code",
   "execution_count": 17,
   "metadata": {},
   "outputs": [],
   "source": [
    "rice_calc(hypothesis)"
   ]
  },
  {
   "cell_type": "code",
   "execution_count": 18,
   "metadata": {},
   "outputs": [
    {
     "data": {
      "text/html": [
       "<div>\n",
       "<style scoped>\n",
       "    .dataframe tbody tr th:only-of-type {\n",
       "        vertical-align: middle;\n",
       "    }\n",
       "\n",
       "    .dataframe tbody tr th {\n",
       "        vertical-align: top;\n",
       "    }\n",
       "\n",
       "    .dataframe thead th {\n",
       "        text-align: right;\n",
       "    }\n",
       "</style>\n",
       "<table border=\"1\" class=\"dataframe\">\n",
       "  <thead>\n",
       "    <tr style=\"text-align: right;\">\n",
       "      <th></th>\n",
       "      <th>hypothesis</th>\n",
       "      <th>ICE</th>\n",
       "    </tr>\n",
       "  </thead>\n",
       "  <tbody>\n",
       "    <tr>\n",
       "      <th>8</th>\n",
       "      <td>Запустить акцию, дающую скидку на товар в день рождения</td>\n",
       "      <td>16.20</td>\n",
       "    </tr>\n",
       "    <tr>\n",
       "      <th>0</th>\n",
       "      <td>Добавить два новых канала привлечения трафика, что позволит привлекать на 30% больше пользователей</td>\n",
       "      <td>13.33</td>\n",
       "    </tr>\n",
       "    <tr>\n",
       "      <th>7</th>\n",
       "      <td>Добавить форму подписки на все основные страницы, чтобы собрать базу клиентов для email-рассылок</td>\n",
       "      <td>11.20</td>\n",
       "    </tr>\n",
       "    <tr>\n",
       "      <th>6</th>\n",
       "      <td>Показать на главной странице баннеры с актуальными акциями и распродажами, чтобы увеличить конве...</td>\n",
       "      <td>8.00</td>\n",
       "    </tr>\n",
       "    <tr>\n",
       "      <th>2</th>\n",
       "      <td>Добавить блоки рекомендаций товаров на сайт интернет магазина, чтобы повысить конверсию и средни...</td>\n",
       "      <td>7.00</td>\n",
       "    </tr>\n",
       "    <tr>\n",
       "      <th>1</th>\n",
       "      <td>Запустить собственную службу доставки, что сократит срок доставки заказов</td>\n",
       "      <td>2.00</td>\n",
       "    </tr>\n",
       "    <tr>\n",
       "      <th>5</th>\n",
       "      <td>Добавить страницу отзывов клиентов о магазине, что позволит увеличить количество заказов</td>\n",
       "      <td>1.33</td>\n",
       "    </tr>\n",
       "    <tr>\n",
       "      <th>3</th>\n",
       "      <td>Изменить структура категорий, что увеличит конверсию, т.к. пользователи быстрее найдут нужный товар</td>\n",
       "      <td>1.12</td>\n",
       "    </tr>\n",
       "    <tr>\n",
       "      <th>4</th>\n",
       "      <td>Изменить цвет фона главной страницы, чтобы увеличить вовлеченность пользователей</td>\n",
       "      <td>1.00</td>\n",
       "    </tr>\n",
       "  </tbody>\n",
       "</table>\n",
       "</div>"
      ],
      "text/plain": [
       "                                                                                            hypothesis  \\\n",
       "8                                              Запустить акцию, дающую скидку на товар в день рождения   \n",
       "0   Добавить два новых канала привлечения трафика, что позволит привлекать на 30% больше пользователей   \n",
       "7     Добавить форму подписки на все основные страницы, чтобы собрать базу клиентов для email-рассылок   \n",
       "6  Показать на главной странице баннеры с актуальными акциями и распродажами, чтобы увеличить конве...   \n",
       "2  Добавить блоки рекомендаций товаров на сайт интернет магазина, чтобы повысить конверсию и средни...   \n",
       "1                            Запустить собственную службу доставки, что сократит срок доставки заказов   \n",
       "5             Добавить страницу отзывов клиентов о магазине, что позволит увеличить количество заказов   \n",
       "3  Изменить структура категорий, что увеличит конверсию, т.к. пользователи быстрее найдут нужный товар   \n",
       "4                     Изменить цвет фона главной страницы, чтобы увеличить вовлеченность пользователей   \n",
       "\n",
       "     ICE  \n",
       "8  16.20  \n",
       "0  13.33  \n",
       "7  11.20  \n",
       "6   8.00  \n",
       "2   7.00  \n",
       "1   2.00  \n",
       "5   1.33  \n",
       "3   1.12  \n",
       "4   1.00  "
      ]
     },
     "execution_count": 18,
     "metadata": {},
     "output_type": "execute_result"
    }
   ],
   "source": [
    "# приоритезируем гипотезы согласно ICE\n",
    "pd.options.display.max_colwidth = 100\n",
    "hypothesis.loc[:, ['hypothesis', 'ICE']].sort_values(by='ICE', ascending=False)"
   ]
  },
  {
   "cell_type": "markdown",
   "metadata": {},
   "source": [
    "Наиболее перспективные гипотезы, согласно расчетам ICE, являются гипотезы **8**, **0** и **7** (более 10 баллов). Далее с некоторым отставанием следуют гипотезы 6 и 2. Остальные набрали не более 2-х баллов."
   ]
  },
  {
   "cell_type": "code",
   "execution_count": 19,
   "metadata": {},
   "outputs": [
    {
     "data": {
      "text/html": [
       "<div>\n",
       "<style scoped>\n",
       "    .dataframe tbody tr th:only-of-type {\n",
       "        vertical-align: middle;\n",
       "    }\n",
       "\n",
       "    .dataframe tbody tr th {\n",
       "        vertical-align: top;\n",
       "    }\n",
       "\n",
       "    .dataframe thead th {\n",
       "        text-align: right;\n",
       "    }\n",
       "</style>\n",
       "<table border=\"1\" class=\"dataframe\">\n",
       "  <thead>\n",
       "    <tr style=\"text-align: right;\">\n",
       "      <th></th>\n",
       "      <th>hypothesis</th>\n",
       "      <th>RICE</th>\n",
       "      <th>reach</th>\n",
       "    </tr>\n",
       "  </thead>\n",
       "  <tbody>\n",
       "    <tr>\n",
       "      <th>7</th>\n",
       "      <td>Добавить форму подписки на все основные страницы, чтобы собрать базу клиентов для email-рассылок</td>\n",
       "      <td>112.00</td>\n",
       "      <td>10</td>\n",
       "    </tr>\n",
       "    <tr>\n",
       "      <th>2</th>\n",
       "      <td>Добавить блоки рекомендаций товаров на сайт интернет магазина, чтобы повысить конверсию и средни...</td>\n",
       "      <td>56.00</td>\n",
       "      <td>8</td>\n",
       "    </tr>\n",
       "    <tr>\n",
       "      <th>6</th>\n",
       "      <td>Показать на главной странице баннеры с актуальными акциями и распродажами, чтобы увеличить конве...</td>\n",
       "      <td>40.00</td>\n",
       "      <td>5</td>\n",
       "    </tr>\n",
       "    <tr>\n",
       "      <th>0</th>\n",
       "      <td>Добавить два новых канала привлечения трафика, что позволит привлекать на 30% больше пользователей</td>\n",
       "      <td>39.99</td>\n",
       "      <td>3</td>\n",
       "    </tr>\n",
       "    <tr>\n",
       "      <th>8</th>\n",
       "      <td>Запустить акцию, дающую скидку на товар в день рождения</td>\n",
       "      <td>16.20</td>\n",
       "      <td>1</td>\n",
       "    </tr>\n",
       "    <tr>\n",
       "      <th>3</th>\n",
       "      <td>Изменить структура категорий, что увеличит конверсию, т.к. пользователи быстрее найдут нужный товар</td>\n",
       "      <td>8.96</td>\n",
       "      <td>8</td>\n",
       "    </tr>\n",
       "    <tr>\n",
       "      <th>1</th>\n",
       "      <td>Запустить собственную службу доставки, что сократит срок доставки заказов</td>\n",
       "      <td>4.00</td>\n",
       "      <td>2</td>\n",
       "    </tr>\n",
       "    <tr>\n",
       "      <th>5</th>\n",
       "      <td>Добавить страницу отзывов клиентов о магазине, что позволит увеличить количество заказов</td>\n",
       "      <td>3.99</td>\n",
       "      <td>3</td>\n",
       "    </tr>\n",
       "    <tr>\n",
       "      <th>4</th>\n",
       "      <td>Изменить цвет фона главной страницы, чтобы увеличить вовлеченность пользователей</td>\n",
       "      <td>3.00</td>\n",
       "      <td>3</td>\n",
       "    </tr>\n",
       "  </tbody>\n",
       "</table>\n",
       "</div>"
      ],
      "text/plain": [
       "                                                                                            hypothesis  \\\n",
       "7     Добавить форму подписки на все основные страницы, чтобы собрать базу клиентов для email-рассылок   \n",
       "2  Добавить блоки рекомендаций товаров на сайт интернет магазина, чтобы повысить конверсию и средни...   \n",
       "6  Показать на главной странице баннеры с актуальными акциями и распродажами, чтобы увеличить конве...   \n",
       "0   Добавить два новых канала привлечения трафика, что позволит привлекать на 30% больше пользователей   \n",
       "8                                              Запустить акцию, дающую скидку на товар в день рождения   \n",
       "3  Изменить структура категорий, что увеличит конверсию, т.к. пользователи быстрее найдут нужный товар   \n",
       "1                            Запустить собственную службу доставки, что сократит срок доставки заказов   \n",
       "5             Добавить страницу отзывов клиентов о магазине, что позволит увеличить количество заказов   \n",
       "4                     Изменить цвет фона главной страницы, чтобы увеличить вовлеченность пользователей   \n",
       "\n",
       "     RICE  reach  \n",
       "7  112.00     10  \n",
       "2   56.00      8  \n",
       "6   40.00      5  \n",
       "0   39.99      3  \n",
       "8   16.20      1  \n",
       "3    8.96      8  \n",
       "1    4.00      2  \n",
       "5    3.99      3  \n",
       "4    3.00      3  "
      ]
     },
     "execution_count": 19,
     "metadata": {},
     "output_type": "execute_result"
    }
   ],
   "source": [
    "# приоритезируем гипотезы согласно RICE\n",
    "pd.options.display.max_colwidth = 100\n",
    "hypothesis.loc[:, ['hypothesis', 'RICE', 'reach']].sort_values(by='RICE', ascending=False)"
   ]
  },
  {
   "cell_type": "markdown",
   "metadata": {},
   "source": [
    "Иной результат наблюдается при приотиризации согласно RICE. **Абсолютным лидером с большим отрывом является гипотеза 7**, которая входила в тройку лидеров по ICE. Значительное опережение гипотезы  связанно с тем, что она обладает наибольшим параметром `reach` среди предложенных. Далее следуют с относительно небольшим различием **2**, **6** и **0**, набравшими средние значения ICE. На 5-м месте находится гипотеза 8, являвшаяся лидером согласно ICE. "
   ]
  },
  {
   "cell_type": "markdown",
   "metadata": {},
   "source": [
    "**Таким образом**, наблюдаются *значительные различия в оценке приоритезации гипотез с помощью ICE и RICE*, что связано с большой разницей в \"целевой аудитории\" предлагаемых гипотез. Однако в обоих вариантах *набор номеров гипотез, входящих в пятерку лидеров, одинаков*. Так как в целом гипотезы являются независимыми, возможно, *можно протестировать все **гипотезы, входящие в ТОР-5**:* \n",
    "\n",
    "1. **Добавить форму подписки на все основные страницы** (гипотеза с номером 7 в таблице)\n",
    "2. **Добавить блоки рекомендаций товаров на сайт интернет магазина** (гипотеза с номером 2 в таблице)\n",
    "3. **Показать на главной странице баннеры с актуальным акциями и распродажами** (гипотеза с номером 6 в таблице)\n",
    "4. **Добавить два новых канала привлечения трафика** (гипотеза с номером 0 в таблице)\n",
    "5. **Запустить акцию** (гипотеза с номером 8 в таблице)\n",
    "\n",
    "*Тесты гипотез желательно производить в указанном порядке*, т.к. он получен приоритезацией на основе RICE."
   ]
  },
  {
   "cell_type": "markdown",
   "metadata": {},
   "source": [
    "## Функции для анализа А/В-теста"
   ]
  },
  {
   "cell_type": "markdown",
   "metadata": {},
   "source": [
    "Функции для вычисления значений:\n",
    "\n",
    "- `cum_sum_check()` - для расчета кумулятивной выручки, среднего чека и конверсии по группам,\n",
    "- `orders_per_visitors()` - для расчета количества покупок на одного пользователя,\n",
    "- `percentils()` - для расчета интересующих перцентилей.\n",
    "- `count_orders_stat()` - для определения статистической значимости различия в количестве заказов между группами\n",
    "- `check_stat()` - для определния статистической значимости различия в среднем чеке заказа между группами\n",
    "\n",
    "Функции для визуализации данных:\n",
    "\n",
    "- `cum_sum_graph()` - график кумулятивной выручки по дням и группам,\n",
    "- `cum_check_graph()` - график среднего чека по дням и группам,\n",
    "- `diff_check_graph()` - график относительного различия для среднего чека,\n",
    "- `cum_conv_graph()` - график кумулятивной конверсии по дням и группам,\n",
    "- `diff_cum_conv_graph()` - график относительного различия для конверсии,\n",
    "- `scatter_plot()` - функция для построения точечных графиков показателей на одного пользователя."
   ]
  },
  {
   "cell_type": "markdown",
   "metadata": {},
   "source": [
    "### Функции для расчета и группировки данных"
   ]
  },
  {
   "cell_type": "markdown",
   "metadata": {},
   "source": [
    "#### `cum_sum_check()`"
   ]
  },
  {
   "cell_type": "code",
   "execution_count": 20,
   "metadata": {},
   "outputs": [],
   "source": [
    "# функция для расчета кумулятивной выручки, среднего чека и конверсии по группам\n",
    "def cum_sum_check(orders, visitors):\n",
    "    \n",
    "    # создаем массив уникальных пар значений дат и групп теста\n",
    "    date_per_group = orders[['date','group']].drop_duplicates()\n",
    "    \n",
    "    # соберем кумулятивные данные о количестве уникальных заказов, количестве уникальных пользователей, совершивших\n",
    "    # хотя бы один заказ, и общей выручке за период тестирования по дням в отдельную таблицу\n",
    "    orders_cum = (\n",
    "        date_per_group\n",
    "        .apply(lambda x: orders[np.logical_and(orders['date'] <= x['date'], orders['group'] == x['group'])]\\\n",
    "               .agg({'date' : 'max', \n",
    "                     'group' : 'max', \n",
    "                     'transaction_id' : 'nunique', \n",
    "                     'visitor_id' : 'nunique', \n",
    "                     'revenue' : 'sum'}), \n",
    "               axis=1)\n",
    "        .sort_values(by=['date','group'])\n",
    "    )\n",
    "    \n",
    "    # соберем кумулятивные данные о посетителях: количество уникальных посетителей сайта в группе теста\n",
    "    # по указанную дату включительно\n",
    "    visitors_cum = (\n",
    "        visitors\n",
    "        .apply(lambda x: visitors[np.logical_and(visitors['date'] <= x['date'], visitors['group'] == x['group'])]\\\n",
    "               .agg({'date' : 'max', \n",
    "                     'group' : 'max', \n",
    "                     'visitors' : 'sum'}), \n",
    "               axis=1)\n",
    "        .sort_values(by=['date','group'])\n",
    "    )\n",
    "    \n",
    "    # объединим полученные кумулятивные данные\n",
    "    cum_data = (\n",
    "        orders_cum\n",
    "        .merge(\n",
    "            visitors_cum,\n",
    "            left_on=['date', 'group'],\n",
    "            right_on=['date', 'group']\n",
    "        )\n",
    "    )\n",
    "    cum_data.columns = ['date', 'group', 'orders', 'buyers', 'revenue', 'visitors']\n",
    "    \n",
    "    cum_data['conversion'] = cum_data['buyers'] / cum_data['visitors']\n",
    "    \n",
    "    # датафрейм с кумулятивным количеством заказов и кумулятивной выручкой по дням в группе А\n",
    "    cum_data_a = cum_data[cum_data['group'] == 'A']\n",
    "    \n",
    "    # датафрейм с кумулятивным количеством заказов и кумулятивной выручкой по дням в группе B\n",
    "    cum_data_b = cum_data[cum_data['group'] == 'B']\n",
    "    \n",
    "    return cum_data, cum_data_a, cum_data_b"
   ]
  },
  {
   "cell_type": "markdown",
   "metadata": {},
   "source": [
    "#### `orders_per_visitors()`"
   ]
  },
  {
   "cell_type": "code",
   "execution_count": 21,
   "metadata": {},
   "outputs": [],
   "source": [
    "# для расчета количества покупок на одного пользователя\n",
    "def orders_per_visitors(orders):\n",
    "    \n",
    "    # посчитаем количество покупок на одного пользователя, создав новый массив данных\n",
    "    orders_per_visitors = (\n",
    "        orders\n",
    "        .groupby('visitor_id', as_index=False)\n",
    "        .agg({\n",
    "            'transaction_id' : 'nunique',\n",
    "            'group' : 'max'\n",
    "        })\n",
    "    )\n",
    "    \n",
    "    orders_per_visitors.columns = ['visitor_id', 'orders', 'group']\n",
    "    \n",
    "    #orders_per_visitors.sort_values(by='orders', ascending=False, inplace=True)\n",
    "    \n",
    "    return orders_per_visitors"
   ]
  },
  {
   "cell_type": "markdown",
   "metadata": {},
   "source": [
    "#### `percentils()`"
   ]
  },
  {
   "cell_type": "code",
   "execution_count": 22,
   "metadata": {},
   "outputs": [],
   "source": [
    "# функция для расчета интересующих перцентилей\n",
    "def percentils(data, col, perc=[90, 95, 99]):\n",
    "    \n",
    "    percs = np.percentile(data[col], perc)\n",
    "    \n",
    "    for i in range(len(perc)):\n",
    "        print(f\"{perc[i]}-й перцентиль: {percs[i]}\")"
   ]
  },
  {
   "cell_type": "markdown",
   "metadata": {},
   "source": [
    "#### `count_orders_stat()`"
   ]
  },
  {
   "cell_type": "code",
   "execution_count": 60,
   "metadata": {},
   "outputs": [],
   "source": [
    "# функция для определения статистической значимости различия \n",
    "# в среднем количестве заказов между группами\n",
    "\n",
    "def count_orders_stat(orders_per_visitors, cum_a, cum_b):\n",
    "    \n",
    "    # разделим датасет на два в зависимости от группы теста\n",
    "    data_a = orders_per_visitors[orders_per_visitors['group'] == 'A'][['visitor_id', 'orders']]\n",
    "    data_b = orders_per_visitors[orders_per_visitors['group'] == 'B'][['visitor_id', 'orders']]\n",
    "    \n",
    "    # добавим отдельные списки пользователей по группам, которые посетили сайт, но ничего не заказали\n",
    "    # для этого вычтем из количества посетителей количество покупателей для каждой группы\n",
    "    # и создадим список с этим количеством нулей\n",
    "    no_order_a = pd.Series(0, index=np.arange(max(cum_a['visitors']) - len(data_a['orders'])), name='orders')\n",
    "    no_order_b = pd.Series(0, index=np.arange(max(cum_b['visitors']) - len(data_b['orders'])), name='orders')\n",
    "    \n",
    "    # объединим данные о количестве заказов на покупателя и о покупателях, не сделавших ни одного заказа\n",
    "    sample_a = pd.concat([data_a['orders'], no_order_a], axis=0)\n",
    "    sample_b = pd.concat([data_b['orders'], no_order_b], axis=0)\n",
    "    \n",
    "    # применим критерий Манна-Уитни\n",
    "    alpha = .05  # граница значимости\n",
    "    res = st.mannwhitneyu(sample_a, sample_b)\n",
    "    \n",
    "    # оценим р-значение\n",
    "    print('p-value:', '{0:.4f}'.format(res.pvalue))\n",
    "    \n",
    "    if res.pvalue < alpha:\n",
    "        print('Отвергаем нулевую гипотезу: разница статистически значима')\n",
    "    else:\n",
    "        print('Не получилось отвергнуть нулевую гипотезу, статистически значимой разницы не обнаружено')\n",
    "        \n",
    "    # оценим разницу\n",
    "    print('Относительное изменение:', f\"{((sample_b.mean() / sample_a.mean()) - 1):.2%}\")"
   ]
  },
  {
   "cell_type": "markdown",
   "metadata": {},
   "source": [
    "#### `check_stat()`"
   ]
  },
  {
   "cell_type": "code",
   "execution_count": 59,
   "metadata": {},
   "outputs": [],
   "source": [
    "# функция для определения статистической значимости\n",
    "# различия в среднем чеке заказа\n",
    "\n",
    "def check_stat(orders):\n",
    "    \n",
    "    res = st.mannwhitneyu(orders[orders['group'] == 'A']['revenue'], orders[orders['group'] == 'B']['revenue'])\n",
    "    diff = orders[orders['group']=='B']['revenue'].mean()/orders[orders['group']=='A']['revenue'].mean() - 1\n",
    "    \n",
    "    alpha = .05\n",
    "    \n",
    "    print('p-value:', '{0:.6f}'.format(res.pvalue))\n",
    "    \n",
    "    if res.pvalue < alpha:\n",
    "        print('Отвергаем нулевую гипотезу: разница статистически значима')\n",
    "    else:\n",
    "        print('Не получилось отвергнуть нулевую гипотезу, статистически значимой разницы не обнаружено')\n",
    "    \n",
    "    print('Относительное изменение:', f\"{diff:.2%}\")"
   ]
  },
  {
   "cell_type": "markdown",
   "metadata": {},
   "source": [
    "### Функции для визуализации данных"
   ]
  },
  {
   "cell_type": "markdown",
   "metadata": {},
   "source": [
    "#### `cum_sum_graph()`"
   ]
  },
  {
   "cell_type": "code",
   "execution_count": 25,
   "metadata": {},
   "outputs": [],
   "source": [
    "# график кумулятивной выручки по дням и группам А/В-тестирования\n",
    "\n",
    "def cum_sum_graph(data_a, data_b):\n",
    "    \n",
    "    fig, ax = plt.subplots(figsize = (15,7))\n",
    "    \n",
    "    # Строим график выручки группы А\n",
    "    ax = plt.plot(data_a['date'], data_a['revenue'], label='A')\n",
    "    \n",
    "    # Строим график выручки группы B\n",
    "    ax = plt.plot(data_b['date'], data_b['revenue'], label='B')\n",
    "    \n",
    "    plt.legend(fontsize=14)\n",
    "    plt.title('График кумулятивной выручки по дням и по группам' + '\\n', fontsize = 18, color = 'Black')\n",
    "    \n",
    "    plt.xlabel('Дата', fontsize='15', horizontalalignment='center')\n",
    "    plt.ylabel('Выручка, млн ₽', fontsize='15', horizontalalignment='center')\n",
    "    \n",
    "    plt.xticks(fontsize=12)\n",
    "    plt.yticks(fontsize=14)"
   ]
  },
  {
   "cell_type": "markdown",
   "metadata": {},
   "source": [
    "#### `cum_check_graph()`"
   ]
  },
  {
   "cell_type": "code",
   "execution_count": 26,
   "metadata": {},
   "outputs": [],
   "source": [
    "# график среднего чека по группам и по дням\n",
    "\n",
    "def cum_check_graph(data_a, data_b):\n",
    "    \n",
    "    fig, ax = plt.subplots(figsize = (15,7))\n",
    "    \n",
    "    # Строим график выручки группы А\n",
    "    ax = plt.plot(data_a['date'], data_a['revenue'] / data_a['orders'], label='A')\n",
    "    \n",
    "    # Строим график выручки группы B\n",
    "    ax = plt.plot(data_b['date'], data_b['revenue'] / data_b['orders'], label='B')\n",
    "    \n",
    "    plt.legend(fontsize=14)\n",
    "    plt.title('График среднего чека по дням и по группам' + '\\n', fontsize = 18, color = 'Black')\n",
    "    \n",
    "    plt.xlabel('Дата', fontsize='15', horizontalalignment='center')\n",
    "    plt.ylabel('Средний чек, ₽', fontsize='15', horizontalalignment='center')\n",
    "    \n",
    "    plt.xticks(fontsize=12)\n",
    "    plt.yticks(fontsize=14)"
   ]
  },
  {
   "cell_type": "markdown",
   "metadata": {},
   "source": [
    "#### `diff_check_graph()`"
   ]
  },
  {
   "cell_type": "code",
   "execution_count": 27,
   "metadata": {},
   "outputs": [],
   "source": [
    "# график относительного различия для среднего чека\n",
    "\n",
    "def diff_check_graph(data_a, data_b):\n",
    "    \n",
    "    # оставим только нужные столбцы\n",
    "    data_a = data_a[['date','revenue', 'orders']]\n",
    "    data_b = data_b[['date','revenue', 'orders']]\n",
    "    \n",
    "    # объединим данные для групп в один массив\n",
    "    data_merged = data_a.merge(data_b,\n",
    "                              left_on='date',\n",
    "                              right_on='date',\n",
    "                              how='left',\n",
    "                              suffixes=['_A', '_B'])\n",
    "    \n",
    "    fig, ax = plt.subplots(figsize = (15,7))\n",
    "    \n",
    "    # построим график относительного различия среднего чека согласно формуле\n",
    "    # ((средний чек группы В / средний чек группы А) - 1)\n",
    "    ax = plt.plot(data_merged['date'],\n",
    "                  (data_merged['revenue_B'] / data_merged['orders_B']) /\\\n",
    "                  (data_merged['revenue_A'] / data_merged['orders_A']) - 1\n",
    "                 )\n",
    "    ax = plt.axhline(y=0, color='black', linestyle='--')\n",
    "    \n",
    "    plt.title('График относительного различия для среднего чека' + '\\n', fontsize = 18, color = 'Black')\n",
    "    \n",
    "    plt.xlabel('Дата', fontsize='15', horizontalalignment='center')\n",
    "    #plt.ylabel('Отн. изменение', fontsize='15', horizontalalignment='center')\n",
    "    \n",
    "    plt.xticks(fontsize=12)\n",
    "    plt.yticks(fontsize=14)"
   ]
  },
  {
   "cell_type": "markdown",
   "metadata": {},
   "source": [
    "#### `cum_conv_graph()`"
   ]
  },
  {
   "cell_type": "code",
   "execution_count": 28,
   "metadata": {},
   "outputs": [],
   "source": [
    "# график кумулятивной конверсии по дням и по группам\n",
    "\n",
    "def cum_conv_graph(data_a, data_b):\n",
    "    fig, ax = plt.subplots(figsize = (15,7))\n",
    "    \n",
    "    ax = plt.plot(data_a['date'], data_a['conversion'], label='A')\n",
    "    ax = plt.plot(data_b['date'], data_b['conversion'], label='B')\n",
    "    \n",
    "    plt.legend(fontsize=14)\n",
    "    plt.title('График кумулятивной конверсии' + '\\n', fontsize = 18, color = 'Black')\n",
    "    \n",
    "    plt.xlabel('Дата', fontsize='15', horizontalalignment='center')\n",
    "    plt.ylabel('Конверсия', fontsize='15', horizontalalignment='center')\n",
    "    \n",
    "    plt.xticks(fontsize=12)\n",
    "    plt.yticks(fontsize=14)"
   ]
  },
  {
   "cell_type": "markdown",
   "metadata": {},
   "source": [
    "#### `diff_cum_conv_graph()`"
   ]
  },
  {
   "cell_type": "code",
   "execution_count": 29,
   "metadata": {},
   "outputs": [],
   "source": [
    "# график относительного различия для конверсии\n",
    "\n",
    "def diff_cum_conv_graph(data_a, data_b):\n",
    "    fig, ax = plt.subplots(figsize = (15,7))\n",
    "    \n",
    "    # объединим данные в один датафрейм\n",
    "    conv_merged = (\n",
    "        data_a[['date', 'conversion']]\n",
    "        .merge(\n",
    "            data_b[['date', 'conversion']],\n",
    "            left_on='date',\n",
    "            right_on='date',\n",
    "            how='left',\n",
    "            suffixes=['_A', '_B']\n",
    "        )\n",
    "    )\n",
    "    \n",
    "    # построим график относительного различия: ((конверсия_В / конверсия_А) - 1)\n",
    "    ax = plt.plot(\n",
    "        conv_merged['date'],\n",
    "        conv_merged['conversion_B'] / conv_merged['conversion_A'] - 1,\n",
    "        \n",
    "    )\n",
    "    \n",
    "    # построим опорную линию\n",
    "    ax = plt.axhline(y=0, color='Black', linestyle='--')\n",
    "    \n",
    "    # построим линию-плато\n",
    "    ax = plt.axhline(y=0.15, color='Gray', linestyle='--')\n",
    "    \n",
    "    plt.title('Относительный прирост конверсии группы B относительно группы A' + '\\n', fontsize = 18, color = 'Black')\n",
    "    \n",
    "    plt.xlabel('Дата', fontsize='15', horizontalalignment='center')\n",
    "    #plt.ylabel('Относительное изменение', fontsize='15', horizontalalignment='center')\n",
    "    \n",
    "    plt.xticks(fontsize=12)\n",
    "    plt.yticks(fontsize=14)\n",
    "    "
   ]
  },
  {
   "cell_type": "markdown",
   "metadata": {},
   "source": [
    "#### `scatter_plot()`"
   ]
  },
  {
   "cell_type": "code",
   "execution_count": 30,
   "metadata": {},
   "outputs": [],
   "source": [
    "# построение точечных графиков для среднего чека на пользователя и количества заказов на одного пользователя\n",
    "def scatter_plot(data, col, title, ylabel):\n",
    "    fig, ax = plt.subplots(figsize = (10,7))\n",
    "    \n",
    "    ax = plt.scatter(\n",
    "        pd.Series(range(0,len(data))),\n",
    "        data[col]\n",
    "    )\n",
    "    \n",
    "    plt.title(title + '\\n', fontsize = 18, color = 'Black')\n",
    "    \n",
    "    plt.xlabel('Условный номер пользователя', fontsize='15', horizontalalignment='center')\n",
    "    plt.ylabel(ylabel, fontsize='15', horizontalalignment='center')\n",
    "    \n",
    "    plt.xticks(fontsize=12)\n",
    "    plt.yticks(fontsize=14)"
   ]
  },
  {
   "cell_type": "markdown",
   "metadata": {},
   "source": [
    "## Анализ данных А/В-теста"
   ]
  },
  {
   "cell_type": "code",
   "execution_count": 31,
   "metadata": {},
   "outputs": [],
   "source": [
    "# получим комулятивыне данные общие и для двух групп в отдельности\n",
    "cum, cum_a, cum_b = cum_sum_check(orders, visits)"
   ]
  },
  {
   "cell_type": "code",
   "execution_count": 32,
   "metadata": {},
   "outputs": [
    {
     "data": {
      "text/html": [
       "<div>\n",
       "<style scoped>\n",
       "    .dataframe tbody tr th:only-of-type {\n",
       "        vertical-align: middle;\n",
       "    }\n",
       "\n",
       "    .dataframe tbody tr th {\n",
       "        vertical-align: top;\n",
       "    }\n",
       "\n",
       "    .dataframe thead th {\n",
       "        text-align: right;\n",
       "    }\n",
       "</style>\n",
       "<table border=\"1\" class=\"dataframe\">\n",
       "  <thead>\n",
       "    <tr style=\"text-align: right;\">\n",
       "      <th></th>\n",
       "      <th>date</th>\n",
       "      <th>group</th>\n",
       "      <th>orders</th>\n",
       "      <th>buyers</th>\n",
       "      <th>revenue</th>\n",
       "      <th>visitors</th>\n",
       "      <th>conversion</th>\n",
       "    </tr>\n",
       "  </thead>\n",
       "  <tbody>\n",
       "    <tr>\n",
       "      <th>0</th>\n",
       "      <td>2019-08-01</td>\n",
       "      <td>A</td>\n",
       "      <td>23</td>\n",
       "      <td>19</td>\n",
       "      <td>142779</td>\n",
       "      <td>719</td>\n",
       "      <td>0.026426</td>\n",
       "    </tr>\n",
       "    <tr>\n",
       "      <th>1</th>\n",
       "      <td>2019-08-01</td>\n",
       "      <td>B</td>\n",
       "      <td>17</td>\n",
       "      <td>17</td>\n",
       "      <td>59758</td>\n",
       "      <td>713</td>\n",
       "      <td>0.023843</td>\n",
       "    </tr>\n",
       "    <tr>\n",
       "      <th>2</th>\n",
       "      <td>2019-08-02</td>\n",
       "      <td>A</td>\n",
       "      <td>42</td>\n",
       "      <td>36</td>\n",
       "      <td>234381</td>\n",
       "      <td>1338</td>\n",
       "      <td>0.026906</td>\n",
       "    </tr>\n",
       "    <tr>\n",
       "      <th>3</th>\n",
       "      <td>2019-08-02</td>\n",
       "      <td>B</td>\n",
       "      <td>40</td>\n",
       "      <td>39</td>\n",
       "      <td>221801</td>\n",
       "      <td>1294</td>\n",
       "      <td>0.030139</td>\n",
       "    </tr>\n",
       "    <tr>\n",
       "      <th>4</th>\n",
       "      <td>2019-08-03</td>\n",
       "      <td>A</td>\n",
       "      <td>66</td>\n",
       "      <td>60</td>\n",
       "      <td>346854</td>\n",
       "      <td>1845</td>\n",
       "      <td>0.032520</td>\n",
       "    </tr>\n",
       "    <tr>\n",
       "      <th>5</th>\n",
       "      <td>2019-08-03</td>\n",
       "      <td>B</td>\n",
       "      <td>54</td>\n",
       "      <td>53</td>\n",
       "      <td>288850</td>\n",
       "      <td>1803</td>\n",
       "      <td>0.029395</td>\n",
       "    </tr>\n",
       "  </tbody>\n",
       "</table>\n",
       "</div>"
      ],
      "text/plain": [
       "         date group  orders  buyers  revenue  visitors  conversion\n",
       "0  2019-08-01     A      23      19   142779       719    0.026426\n",
       "1  2019-08-01     B      17      17    59758       713    0.023843\n",
       "2  2019-08-02     A      42      36   234381      1338    0.026906\n",
       "3  2019-08-02     B      40      39   221801      1294    0.030139\n",
       "4  2019-08-03     A      66      60   346854      1845    0.032520\n",
       "5  2019-08-03     B      54      53   288850      1803    0.029395"
      ]
     },
     "execution_count": 32,
     "metadata": {},
     "output_type": "execute_result"
    }
   ],
   "source": [
    "cum.head(6)"
   ]
  },
  {
   "cell_type": "markdown",
   "metadata": {},
   "source": [
    "### Кумулятивная выручка"
   ]
  },
  {
   "cell_type": "code",
   "execution_count": 33,
   "metadata": {},
   "outputs": [
    {
     "data": {
      "image/png": "[encoded data removed]",
      "text/plain": [
       "<Figure size 1080x504 with 1 Axes>"
      ]
     },
     "metadata": {
      "needs_background": "light"
     },
     "output_type": "display_data"
    }
   ],
   "source": [
    "# построим график кумулятивной выручки\n",
    "cum_sum_graph(cum_a, cum_b)"
   ]
  },
  {
   "cell_type": "markdown",
   "metadata": {},
   "source": [
    "Выручка равномерно увеличивается в обеих группах на протяжении всего теста. Начиная с 5 августа выручка в группе В начинает расти несколько быстрее, нежели в группе А, к 13-му числу показатели выравниваются, затем выручка в группе В снова постепенно увеличивается по отношению к группе А. 19-го числа происходит скачок выручки в группе В, обеспечивающий стабильно высокую разницу между значениями выручки в группах.\n",
    "\n",
    "*На первый взгляд выручка в групе В оказывается стабильно выше группы А. Однако необходимо проверить скачок, произошедший 19-го числа в группе В.*"
   ]
  },
  {
   "cell_type": "markdown",
   "metadata": {},
   "source": [
    "### Средний чек"
   ]
  },
  {
   "cell_type": "code",
   "execution_count": 34,
   "metadata": {},
   "outputs": [
    {
     "data": {
      "image/png": "[encoded data removed]",
      "text/plain": [
       "<Figure size 1080x504 with 1 Axes>"
      ]
     },
     "metadata": {
      "needs_background": "light"
     },
     "output_type": "display_data"
    }
   ],
   "source": [
    "# построим график среднего чека\n",
    "cum_check_graph(cum_a, cum_b)"
   ]
  },
  {
   "cell_type": "markdown",
   "metadata": {},
   "source": [
    "Средний чек по кумулятивным данным для группы А выходит на стабильные показатели примерно после 14-го августа.\n",
    "\n",
    "Для группы В по графику нельзя говорить о выходе на какое-либо плато, однако наблюдается значительный скачок среднего чека 18 августа. Подобное поведение показателей группы В отмечалось ранее и для кумулятивной выручки. Вероятно, отдельным покупателем была совершена покупка с аномально большим чеком, что повлияло на средние значения в целом по группе. Это влияние будет оценено далее."
   ]
  },
  {
   "cell_type": "code",
   "execution_count": 35,
   "metadata": {},
   "outputs": [
    {
     "data": {
      "image/png": "[encoded data removed]",
      "text/plain": [
       "<Figure size 1080x504 with 1 Axes>"
      ]
     },
     "metadata": {
      "needs_background": "light"
     },
     "output_type": "display_data"
    }
   ],
   "source": [
    "diff_check_graph(cum_a, cum_b)"
   ]
  },
  {
   "cell_type": "markdown",
   "metadata": {},
   "source": [
    "В нескольких точках происходят сильные колебания в различиях между данными о среднем чеке для групп. Такое поведение может говорить о наличии выбросов и аномальных значениях в данных."
   ]
  },
  {
   "cell_type": "markdown",
   "metadata": {},
   "source": [
    "### Кумулятивная конверсия"
   ]
  },
  {
   "cell_type": "code",
   "execution_count": 36,
   "metadata": {},
   "outputs": [
    {
     "data": {
      "image/png": "[encoded data removed]",
      "text/plain": [
       "<Figure size 1080x504 with 1 Axes>"
      ]
     },
     "metadata": {
      "needs_background": "light"
     },
     "output_type": "display_data"
    }
   ],
   "source": [
    "cum_conv_graph(cum_a, cum_b)"
   ]
  },
  {
   "cell_type": "markdown",
   "metadata": {},
   "source": [
    "Начиная с 9 августа конверсия группы В стабильно выше конверсии группы А."
   ]
  },
  {
   "cell_type": "code",
   "execution_count": 37,
   "metadata": {},
   "outputs": [
    {
     "data": {
      "image/png": "[encoded data removed]",
      "text/plain": [
       "<Figure size 1080x504 with 1 Axes>"
      ]
     },
     "metadata": {
      "needs_background": "light"
     },
     "output_type": "display_data"
    }
   ],
   "source": [
    "diff_cum_conv_graph(cum_a, cum_b)"
   ]
  },
  {
   "cell_type": "markdown",
   "metadata": {},
   "source": [
    "Так же, как и из общего графика кумулятивной конверсии, с 9 августа (т.е. по просшествию чуть более одной недели) наблюдается выравнивание различия конверсии между группами. Конверсия группы В стабильно выше конверсии группы А, в среднем различие составляет около 15%."
   ]
  },
  {
   "cell_type": "markdown",
   "metadata": {},
   "source": [
    "**До проверки на аномальные значения, данные указывают на следующее:**\n",
    "\n",
    "1. Кумулятивная *выручка группы В стабильно выше кумулятивной выручки группы А*.\n",
    "2. В графике кумулятивной выручки группы В ***наблюдается резкий скачок от 18 августа***, который, вероятно, значительно искажает данные.\n",
    "3. По графикам кумулятивного *среднего чека нельзя точно говорить о выравнивании наблюдаемого значения у обеих групп*. Присутствуют сильные колебания.\n",
    "4. На графике кумулятивного среднего чека для группы В наблюдается ***значительный скачок от 18 августа***, что может указывать на совершение аномально большой покупки некоторым пользователем/лями в это число.\n",
    "5. Согласно графику кумулятивной конверсии, наблюдается выход на плато значения для обеих групп начиная с 9 августа.\n",
    "6. ***Начиная с 9-го августа кумулятивная конверсия группы В стабильно выше конверсии группы А.*** В среднем различие составляет более 15%."
   ]
  },
  {
   "cell_type": "markdown",
   "metadata": {},
   "source": [
    "### Количество заказов на пользователя"
   ]
  },
  {
   "cell_type": "code",
   "execution_count": 38,
   "metadata": {},
   "outputs": [],
   "source": [
    "# получим данные о количестве покупок на одного пользователя за рассматриваемый период\n",
    "orders_per_visit = orders_per_visitors(orders)"
   ]
  },
  {
   "cell_type": "code",
   "execution_count": 39,
   "metadata": {},
   "outputs": [
    {
     "data": {
      "image/png": "[encoded data removed]",
      "text/plain": [
       "<Figure size 720x504 with 1 Axes>"
      ]
     },
     "metadata": {
      "needs_background": "light"
     },
     "output_type": "display_data"
    }
   ],
   "source": [
    "scatter_plot(orders_per_visit, 'orders', 'Количество заказов на пользователя', 'Количество заказов')"
   ]
  },
  {
   "cell_type": "markdown",
   "metadata": {},
   "source": [
    "Большинство пользователей за рассматриваемый период совершают не более 1 заказа. Пользователей, совершивших 2 покупки тоже достаточно, однако не понятно, считать ли эти значения аномальными."
   ]
  },
  {
   "cell_type": "code",
   "execution_count": 40,
   "metadata": {},
   "outputs": [
    {
     "name": "stdout",
     "output_type": "stream",
     "text": [
      "90-й перцентиль: 1.0\n",
      "95-й перцентиль: 1.0\n",
      "99-й перцентиль: 2.0\n"
     ]
    }
   ],
   "source": [
    "# расчитаем 90-й, 95-й и 99-й перцентили\n",
    "percentils(orders_per_visit, 'orders')"
   ]
  },
  {
   "cell_type": "markdown",
   "metadata": {},
   "source": [
    "Не более 5% пользователей брали 2 и более заказов. **Возьмём за норму количество покупок на пользователя за рассматриваемый период равным 2.**"
   ]
  },
  {
   "cell_type": "markdown",
   "metadata": {},
   "source": [
    "### Стоимость заказа на пользователя"
   ]
  },
  {
   "cell_type": "code",
   "execution_count": 41,
   "metadata": {},
   "outputs": [
    {
     "data": {
      "image/png": "[encoded data removed]",
      "text/plain": [
       "<Figure size 720x504 with 1 Axes>"
      ]
     },
     "metadata": {
      "needs_background": "light"
     },
     "output_type": "display_data"
    }
   ],
   "source": [
    "scatter_plot(orders, 'revenue', 'Стоимость заказа на пользователя', 'Стоимость заказа')"
   ]
  },
  {
   "cell_type": "markdown",
   "metadata": {},
   "source": [
    "По данному графику чётко отслеживается одно крайне выделяющееся значение - чек суммой более 1,2 млн рублей. Посмотрим на этот заказ внимательнее."
   ]
  },
  {
   "cell_type": "code",
   "execution_count": 42,
   "metadata": {},
   "outputs": [
    {
     "data": {
      "text/html": [
       "<div>\n",
       "<style scoped>\n",
       "    .dataframe tbody tr th:only-of-type {\n",
       "        vertical-align: middle;\n",
       "    }\n",
       "\n",
       "    .dataframe tbody tr th {\n",
       "        vertical-align: top;\n",
       "    }\n",
       "\n",
       "    .dataframe thead th {\n",
       "        text-align: right;\n",
       "    }\n",
       "</style>\n",
       "<table border=\"1\" class=\"dataframe\">\n",
       "  <thead>\n",
       "    <tr style=\"text-align: right;\">\n",
       "      <th></th>\n",
       "      <th>transaction_id</th>\n",
       "      <th>visitor_id</th>\n",
       "      <th>date</th>\n",
       "      <th>revenue</th>\n",
       "      <th>group</th>\n",
       "    </tr>\n",
       "  </thead>\n",
       "  <tbody>\n",
       "    <tr>\n",
       "      <th>425</th>\n",
       "      <td>590470918</td>\n",
       "      <td>1920142716</td>\n",
       "      <td>2019-08-19</td>\n",
       "      <td>1294500</td>\n",
       "      <td>B</td>\n",
       "    </tr>\n",
       "  </tbody>\n",
       "</table>\n",
       "</div>"
      ],
      "text/plain": [
       "     transaction_id  visitor_id        date  revenue group\n",
       "425       590470918  1920142716  2019-08-19  1294500     B"
      ]
     },
     "execution_count": 42,
     "metadata": {},
     "output_type": "execute_result"
    }
   ],
   "source": [
    "# выделим выброс из набора данных\n",
    "orders[orders['revenue'] > 1e6]"
   ]
  },
  {
   "cell_type": "markdown",
   "metadata": {},
   "source": [
    "Данная покупка была совершена 19-го августа и, видимо, связана со скачками, наблюдаемые на эту же дату в графиках кумулятивной выручки и среденего чека. Исключим этот заказ из дальнейшего рассмотрения и изучим данные без него."
   ]
  },
  {
   "cell_type": "code",
   "execution_count": 43,
   "metadata": {},
   "outputs": [],
   "source": [
    "# создадим датафрейм без выброса\n",
    "orders_clean = orders[orders['revenue'] < 1e6]"
   ]
  },
  {
   "cell_type": "code",
   "execution_count": 44,
   "metadata": {},
   "outputs": [
    {
     "data": {
      "image/png": "[encoded data removed]",
      "text/plain": [
       "<Figure size 720x504 with 1 Axes>"
      ]
     },
     "metadata": {
      "needs_background": "light"
     },
     "output_type": "display_data"
    }
   ],
   "source": [
    "scatter_plot(orders_clean, 'revenue', 'Стоимость заказа на пользователя', 'Стоимость заказа')"
   ]
  },
  {
   "cell_type": "markdown",
   "metadata": {},
   "source": [
    "Теперь на графике можно оценить средний чек пользователя - около 25 000 рублей."
   ]
  },
  {
   "cell_type": "code",
   "execution_count": 45,
   "metadata": {},
   "outputs": [
    {
     "name": "stdout",
     "output_type": "stream",
     "text": [
      "90-й перцентиль: 17990.0\n",
      "95-й перцентиль: 26550.0\n",
      "99-й перцентиль: 53763.44000000002\n"
     ]
    }
   ],
   "source": [
    "# расчитаем 90-й, 95-й и 99-й перцентили\n",
    "percentils(orders_clean, 'revenue')"
   ]
  },
  {
   "cell_type": "markdown",
   "metadata": {},
   "source": [
    "Менее 5% пользователей оплачивают заказ на сумму более 27 700 рублей. **Примем за верхнее значение сумму в 28 000 рублей.**"
   ]
  },
  {
   "cell_type": "markdown",
   "metadata": {},
   "source": [
    "### Статистическая значимость различий среднего количества заказов на пользователя"
   ]
  },
  {
   "cell_type": "markdown",
   "metadata": {},
   "source": [
    "Проверку статистической значимости различий будем производить по \"сырым\" и по очищенным данным."
   ]
  },
  {
   "cell_type": "code",
   "execution_count": 65,
   "metadata": {},
   "outputs": [],
   "source": [
    "# подготовим очищенные данные для статистического анализа\n",
    "\n",
    "# отберём заказы с чеком не более 28 000 рублей\n",
    "orders_clean = orders[orders['revenue'] <= 28000]\n",
    "\n",
    "# отберем тех пользоваталей, которые совершили не более двух заказов\n",
    "mean_visitors = orders_per_visit.loc[orders_per_visit['orders'] <= 2, 'visitor_id']\n",
    "\n",
    "# оставим информацию о заказах только этих пользователей\n",
    "orders_clean = orders_clean[orders_clean['visitor_id'].isin(mean_visitors)]\n",
    "\n",
    "# снова получим информауию о количестве заказов на пользователя\n",
    "orders_per_visit_clean = orders_per_visitors(orders_clean)\n",
    "\n",
    "# соберем кумулятивную информацию по очищенным данным\n",
    "cum_clean, cum_a_clean, cum_b_clean = cum_sum_check(orders_clean, visits)"
   ]
  },
  {
   "cell_type": "markdown",
   "metadata": {},
   "source": [
    "* **Н-0:** Различий в среднем количестве заказов между группами нет.\n",
    "* **Н-1:** Различия в среднем количестве заказов между группами есть."
   ]
  },
  {
   "cell_type": "markdown",
   "metadata": {},
   "source": [
    "Сначала проведем оценку по \"сырым\" данным."
   ]
  },
  {
   "cell_type": "code",
   "execution_count": 52,
   "metadata": {},
   "outputs": [
    {
     "name": "stdout",
     "output_type": "stream",
     "text": [
      "p-value: 0.0110\n",
      "Отвергаем нулевую гипотезу: разница статистически значима\n",
      "Разница значений: 15.98%\n"
     ]
    }
   ],
   "source": [
    "count_orders_stat(orders_per_visit, cum_a, cum_b)"
   ]
  },
  {
   "cell_type": "markdown",
   "metadata": {},
   "source": [
    "Теперь проведем оценку по очищенным данным."
   ]
  },
  {
   "cell_type": "code",
   "execution_count": 66,
   "metadata": {},
   "outputs": [
    {
     "name": "stdout",
     "output_type": "stream",
     "text": [
      "p-value: 0.0105\n",
      "Отвергаем нулевую гипотезу: разница статистически значима\n",
      "Относительное изменение: 18.58%\n"
     ]
    }
   ],
   "source": [
    "count_orders_stat(orders_per_visit_clean, cum_a_clean, cum_b_clean)"
   ]
  },
  {
   "cell_type": "markdown",
   "metadata": {},
   "source": [
    "И по сырым и по очищенным данным разница в количестве заказов на одного пользователя между группами статистически значима."
   ]
  },
  {
   "cell_type": "markdown",
   "metadata": {},
   "source": [
    "### Статистическая значимость различий в среднем чеке заказа"
   ]
  },
  {
   "cell_type": "markdown",
   "metadata": {},
   "source": [
    "* **Н-0:** Различий в среднем чеке заказа между группами нет.\n",
    "* **Н-1:** Различия в среднем чеке заказа между группами есть."
   ]
  },
  {
   "cell_type": "code",
   "execution_count": 67,
   "metadata": {},
   "outputs": [
    {
     "name": "stdout",
     "output_type": "stream",
     "text": [
      "p-value: 0.829491\n",
      "Не получилось отвергнуть нулевую гипотезу, статистически значимой разницы не обнаружено\n",
      "Относительное изменение: 28.66%\n"
     ]
    }
   ],
   "source": [
    "check_stat(orders)"
   ]
  },
  {
   "cell_type": "code",
   "execution_count": 68,
   "metadata": {
    "scrolled": true
   },
   "outputs": [
    {
     "name": "stdout",
     "output_type": "stream",
     "text": [
      "p-value: 0.718125\n",
      "Не получилось отвергнуть нулевую гипотезу, статистически значимой разницы не обнаружено\n",
      "Относительное изменение: -2.88%\n"
     ]
    }
   ],
   "source": [
    "check_stat(orders_clean)"
   ]
  },
  {
   "cell_type": "markdown",
   "metadata": {},
   "source": [
    "Ни по сырым, ни по очищенным данным статистической разницы среднего чека между группами не обнаружено."
   ]
  },
  {
   "cell_type": "markdown",
   "metadata": {},
   "source": [
    "### Графики кумулятивной выручки и кумулятивного среднего чека по очищенным данным"
   ]
  },
  {
   "cell_type": "code",
   "execution_count": 70,
   "metadata": {},
   "outputs": [
    {
     "data": {
      "image/png": "[encoded data removed]",
      "text/plain": [
       "<Figure size 1080x504 with 1 Axes>"
      ]
     },
     "metadata": {
      "needs_background": "light"
     },
     "output_type": "display_data"
    }
   ],
   "source": [
    "# построим график кумулятивной выручки по очищенным данным\n",
    "cum_sum_graph(cum_a_clean, cum_b_clean)"
   ]
  },
  {
   "cell_type": "code",
   "execution_count": 71,
   "metadata": {},
   "outputs": [
    {
     "data": {
      "image/png": "[encoded data removed]",
      "text/plain": [
       "<Figure size 1080x504 with 1 Axes>"
      ]
     },
     "metadata": {
      "needs_background": "light"
     },
     "output_type": "display_data"
    }
   ],
   "source": [
    "# построим график среднего чека по очищенным данным\n",
    "cum_check_graph(cum_a_clean, cum_b_clean)"
   ]
  },
  {
   "cell_type": "markdown",
   "metadata": {},
   "source": [
    "**По полученным графикам можно сказать следующее:**\n",
    "1. Нельзя однозначно сказать, что графики среднего чека для обеих групп вышли на плато: в обеих группах наблюдается постепенный рост показателя со временем.\n",
    "2. Графики среднего чека обеих групп развиваются совместно: нельзя говорить о превышении данного показателя у одной из групп. Данное наблюдение подтверждается и проведенным ранее статистическим анализом разницы в среднем чеке между группами.\n",
    "3. Графики кумулятивной выручки стабильно растут у обеих групп.\n",
    "4. Кумулятивная выручка группы В начиная с 9 августа стабильно выше выручки группы А. Со временем разница нарастает."
   ]
  },
  {
   "cell_type": "markdown",
   "metadata": {},
   "source": [
    "***Согласно проведенному анализу, можно отметить следующее:***\n",
    "\n",
    "- Согласно графикам кумулятивной выручки и среднего чека, построенным по сырым данным, в данных присутствуют выбросы, значительно искажающие общую картину.\n",
    "- Графики кумулятивной выручки и среднего чека, построенные по очищенным данным, согласуются с результатами статистического анализа. Данные о кумулятивной выручке свидетельствуют о **постепенном наращивании разницы между показателями группы В и группы А в пользу группы В.**\n",
    "- **Кумулятивная конверсия группы В начиная с 9 августа стабильно выше конверсии группы А.**\n",
    "- В среднем за отведенный период (1 месяц) пользователь совершает не более 2-х заказов.\n",
    "- Средний чек пользователя составляет не более 28 тыс. рублей.\n",
    "- **Статистической разницы между средними чеками пользователей группы А и группы В не обнаружено.**\n",
    "- Статистическая разница между количеством заказов на одного пользователя в группе А и группе В обраружена: **в среднем пользователь группы В совершает больше заказов, чем пользователь группы А.**\n",
    "- Полученные статистические данные объясняют наблюдаемую на графике бо́льшую кумулятивную выручку группы В: **при том же среднем чеке, пользователи совершают больше заказов, что приносит больше выручки.**"
   ]
  },
  {
   "cell_type": "markdown",
   "metadata": {},
   "source": [
    "## Выводы"
   ]
  },
  {
   "cell_type": "markdown",
   "metadata": {},
   "source": [
    "<font size=\"4\"><b>О приоритизации гипотез:</b></font>\n",
    "\n",
    "- Методы ICE и RICE дают разную оценку по приоритизации рассматриваемых гипотез, однако в ТОР-5 в обоих случаях попадают одни и те же гипотезы, отличия связаны с влиянием параметра, характеризующего потенциальный охват изменений, предлагаемых гипотезами.\n",
    "- Можно протестировать все **гипотезы, входящие в ТОР-5**:\n",
    "\n",
    "    1. *Добавить форму подписки на все основные страницы* \n",
    "    2. *Добавить блоки рекомендаций товаров на сайт интернет магазина* \n",
    "    3. *Показать на главной странице баннеры с актуальным акциями и распродажами* \n",
    "    4. *Добавить два новых канала привлечения трафика* \n",
    "    5. *Запустить акцию* \n",
    "    \n",
    "<font size=\"4\"><b>Об анализе проведенного А/В-теста:</b></font>\n",
    "\n",
    "- Кумулятивная конверсия группы В стабильно выше конверсии группы А\n",
    "- Данные о кумулятивной выручке свидетельствуют о постепенном наращивании разницы между показателями группы В и группы А в пользу группы В\n",
    "- Статистической разницы между средними чеками пользователей группы А и группы В не обнаружено\n",
    "- Статистическая разница между количеством заказов на одного пользователя в группе А и группе В обраружена: в среднем пользователь группы В совершает больше заказов, чем пользователь группы А\n",
    "- Полученные статистические данные объясняют наблюдаемую на графике бо́льшую кумулятивную выручку группы В: **при том же среднем чеке, пользователи совершают больше заказов, что приносит больше выручки**\n",
    "\n",
    "<font size=\"4\"><b>Предлагаемое решение по результатам проведенного А/В-теста:</b></font>\n",
    "\n",
    "**Тест завершить, зафиксировать победу группы В.**\n",
    "\n",
    "Согласно полученным данным, несмотря на отсутствие статистически значимой разницы в среднем чеке пользователя, присутствует статистически значимая разница в количестве заказов одного пользователя, т.е. в среднем пользователь группы В совершает заказы чаще, при этом сумма одного заказа в среднем остаётся той же. За счет увеличения количества заказов при сохранении суммы среднего чека увеличивается и кумулятивная выручка от пользователей группы В.\n",
    "\n"
   ]
  }
 ],
 "metadata": {
  "ExecuteTimeLog": [
   {
    "duration": 1437,
    "start_time": "2023-07-01T20:11:13.196Z"
   },
   {
    "duration": 189,
    "start_time": "2023-07-01T20:13:56.584Z"
   },
   {
    "duration": 13,
    "start_time": "2023-07-01T20:14:54.945Z"
   },
   {
    "duration": 12,
    "start_time": "2023-07-01T20:14:58.989Z"
   },
   {
    "duration": 9,
    "start_time": "2023-07-01T20:15:02.526Z"
   },
   {
    "duration": 13,
    "start_time": "2023-07-01T20:16:49.060Z"
   },
   {
    "duration": 10,
    "start_time": "2023-07-01T20:17:02.902Z"
   },
   {
    "duration": 616,
    "start_time": "2023-07-01T20:17:42.261Z"
   },
   {
    "duration": 10,
    "start_time": "2023-07-01T20:18:50.350Z"
   },
   {
    "duration": 12,
    "start_time": "2023-07-01T20:19:22.979Z"
   },
   {
    "duration": 5,
    "start_time": "2023-07-01T20:24:36.969Z"
   },
   {
    "duration": 10,
    "start_time": "2023-07-01T20:24:43.123Z"
   },
   {
    "duration": 76,
    "start_time": "2023-07-01T20:25:09.325Z"
   },
   {
    "duration": 8,
    "start_time": "2023-07-01T20:25:10.955Z"
   },
   {
    "duration": 9,
    "start_time": "2023-07-01T20:25:13.010Z"
   },
   {
    "duration": 10,
    "start_time": "2023-07-01T20:25:15.915Z"
   },
   {
    "duration": 4,
    "start_time": "2023-07-01T20:28:56.257Z"
   },
   {
    "duration": 531,
    "start_time": "2023-07-01T20:29:42.709Z"
   },
   {
    "duration": 6,
    "start_time": "2023-07-01T20:29:52.444Z"
   },
   {
    "duration": 669,
    "start_time": "2023-07-01T20:29:55.107Z"
   },
   {
    "duration": 5,
    "start_time": "2023-07-01T20:30:03.779Z"
   },
   {
    "duration": 533,
    "start_time": "2023-07-01T20:30:05.912Z"
   },
   {
    "duration": 5,
    "start_time": "2023-07-01T20:30:19.816Z"
   },
   {
    "duration": 546,
    "start_time": "2023-07-01T20:30:22.677Z"
   },
   {
    "duration": 5,
    "start_time": "2023-07-01T20:31:24.780Z"
   },
   {
    "duration": 4,
    "start_time": "2023-07-01T20:31:29.410Z"
   },
   {
    "duration": 16,
    "start_time": "2023-07-01T20:31:36.414Z"
   },
   {
    "duration": 4,
    "start_time": "2023-07-01T20:32:16.309Z"
   },
   {
    "duration": 5,
    "start_time": "2023-07-01T20:35:02.894Z"
   },
   {
    "duration": 5,
    "start_time": "2023-07-01T20:35:54.151Z"
   },
   {
    "duration": 124,
    "start_time": "2023-07-01T20:35:57.412Z"
   },
   {
    "duration": 6,
    "start_time": "2023-07-01T20:36:57.017Z"
   },
   {
    "duration": 11,
    "start_time": "2023-07-01T20:37:06.996Z"
   },
   {
    "duration": 12,
    "start_time": "2023-07-01T20:37:11.691Z"
   },
   {
    "duration": 17,
    "start_time": "2023-07-01T20:37:17.575Z"
   },
   {
    "duration": 132,
    "start_time": "2023-07-01T20:37:20.213Z"
   },
   {
    "duration": 10,
    "start_time": "2023-07-01T20:37:34.552Z"
   },
   {
    "duration": 11,
    "start_time": "2023-07-01T20:37:46.670Z"
   },
   {
    "duration": 16,
    "start_time": "2023-07-01T20:38:26.681Z"
   },
   {
    "duration": 6,
    "start_time": "2023-07-01T20:38:40.208Z"
   },
   {
    "duration": 235,
    "start_time": "2023-07-01T20:38:46.348Z"
   },
   {
    "duration": 6,
    "start_time": "2023-07-01T20:40:49.487Z"
   },
   {
    "duration": 9,
    "start_time": "2023-07-01T20:41:03.246Z"
   },
   {
    "duration": 210,
    "start_time": "2023-07-01T20:41:07.114Z"
   },
   {
    "duration": 8,
    "start_time": "2023-07-01T20:41:18.515Z"
   },
   {
    "duration": 239,
    "start_time": "2023-07-01T20:41:21.250Z"
   },
   {
    "duration": 291,
    "start_time": "2023-07-01T20:46:18.146Z"
   },
   {
    "duration": 3,
    "start_time": "2023-07-01T20:49:50.937Z"
   },
   {
    "duration": 76,
    "start_time": "2023-07-01T20:50:51.592Z"
   },
   {
    "duration": 86,
    "start_time": "2023-07-01T20:51:12.656Z"
   },
   {
    "duration": 5,
    "start_time": "2023-07-01T20:51:30.623Z"
   },
   {
    "duration": 4,
    "start_time": "2023-07-01T20:51:46.142Z"
   },
   {
    "duration": 5,
    "start_time": "2023-07-01T21:04:46.096Z"
   },
   {
    "duration": 5,
    "start_time": "2023-07-01T21:06:56.741Z"
   },
   {
    "duration": 5,
    "start_time": "2023-07-01T21:07:06.407Z"
   },
   {
    "duration": 1555,
    "start_time": "2023-07-04T15:55:37.747Z"
   },
   {
    "duration": 365,
    "start_time": "2023-07-04T15:55:43.817Z"
   },
   {
    "duration": 3,
    "start_time": "2023-07-04T15:55:50.242Z"
   },
   {
    "duration": 11,
    "start_time": "2023-07-04T15:55:55.570Z"
   },
   {
    "duration": 13,
    "start_time": "2023-07-04T15:56:10.683Z"
   },
   {
    "duration": 17,
    "start_time": "2023-07-04T15:56:15.095Z"
   },
   {
    "duration": 298,
    "start_time": "2023-07-04T15:56:22.320Z"
   },
   {
    "duration": 287,
    "start_time": "2023-07-04T15:56:50.433Z"
   },
   {
    "duration": 7,
    "start_time": "2023-07-04T15:57:01.324Z"
   },
   {
    "duration": 7,
    "start_time": "2023-07-04T16:04:42.217Z"
   },
   {
    "duration": 6,
    "start_time": "2023-07-04T16:08:05.182Z"
   },
   {
    "duration": 7,
    "start_time": "2023-07-04T16:09:26.597Z"
   },
   {
    "duration": 27,
    "start_time": "2023-07-04T16:09:51.154Z"
   },
   {
    "duration": 23,
    "start_time": "2023-07-04T16:10:00.401Z"
   },
   {
    "duration": 118,
    "start_time": "2023-07-04T16:10:57.772Z"
   },
   {
    "duration": 13,
    "start_time": "2023-07-04T16:11:13.312Z"
   },
   {
    "duration": 12,
    "start_time": "2023-07-04T16:11:21.426Z"
   },
   {
    "duration": 13,
    "start_time": "2023-07-04T16:13:46.526Z"
   },
   {
    "duration": 5,
    "start_time": "2023-07-04T16:13:54.050Z"
   },
   {
    "duration": 5,
    "start_time": "2023-07-04T16:14:00.774Z"
   },
   {
    "duration": 4,
    "start_time": "2023-07-04T16:14:41.600Z"
   },
   {
    "duration": 5,
    "start_time": "2023-07-04T16:14:57.325Z"
   },
   {
    "duration": 3,
    "start_time": "2023-07-04T16:16:04.113Z"
   },
   {
    "duration": 7,
    "start_time": "2023-07-04T16:16:06.471Z"
   },
   {
    "duration": 6,
    "start_time": "2023-07-04T16:16:08.400Z"
   },
   {
    "duration": 11,
    "start_time": "2023-07-04T16:17:29.306Z"
   },
   {
    "duration": 7,
    "start_time": "2023-07-04T16:25:30.825Z"
   },
   {
    "duration": 456,
    "start_time": "2023-07-04T16:28:53.536Z"
   },
   {
    "duration": 180,
    "start_time": "2023-07-04T16:29:13.228Z"
   },
   {
    "duration": 252,
    "start_time": "2023-07-04T16:30:00.813Z"
   },
   {
    "duration": 3,
    "start_time": "2023-07-04T16:30:33.401Z"
   },
   {
    "duration": 3,
    "start_time": "2023-07-04T16:34:01.436Z"
   },
   {
    "duration": 21,
    "start_time": "2023-07-04T16:34:12.068Z"
   },
   {
    "duration": 115,
    "start_time": "2023-07-04T16:34:53.162Z"
   },
   {
    "duration": 4,
    "start_time": "2023-07-04T16:35:28.866Z"
   },
   {
    "duration": 4,
    "start_time": "2023-07-04T16:35:31.541Z"
   },
   {
    "duration": 2092,
    "start_time": "2023-07-04T16:36:01.805Z"
   },
   {
    "duration": 17,
    "start_time": "2023-07-04T16:37:40.640Z"
   },
   {
    "duration": 10,
    "start_time": "2023-07-04T16:37:52.564Z"
   },
   {
    "duration": 10,
    "start_time": "2023-07-04T16:38:42.263Z"
   },
   {
    "duration": 4,
    "start_time": "2023-07-04T16:39:01.328Z"
   },
   {
    "duration": 5,
    "start_time": "2023-07-04T16:39:04.077Z"
   },
   {
    "duration": 11,
    "start_time": "2023-07-04T16:39:09.360Z"
   },
   {
    "duration": 16,
    "start_time": "2023-07-04T16:59:43.452Z"
   },
   {
    "duration": 9,
    "start_time": "2023-07-04T17:14:43.039Z"
   },
   {
    "duration": 10,
    "start_time": "2023-07-04T17:15:09.704Z"
   },
   {
    "duration": 5,
    "start_time": "2023-07-04T17:15:30.919Z"
   },
   {
    "duration": 7,
    "start_time": "2023-07-04T17:16:06.869Z"
   },
   {
    "duration": 7,
    "start_time": "2023-07-04T17:16:33.609Z"
   },
   {
    "duration": 7,
    "start_time": "2023-07-04T17:18:13.507Z"
   },
   {
    "duration": 14,
    "start_time": "2023-07-04T17:21:08.481Z"
   },
   {
    "duration": 7,
    "start_time": "2023-07-04T17:49:24.619Z"
   },
   {
    "duration": 10,
    "start_time": "2023-07-04T17:50:08.073Z"
   },
   {
    "duration": 36,
    "start_time": "2023-07-04T17:50:21.737Z"
   },
   {
    "duration": 8,
    "start_time": "2023-07-04T17:51:22.339Z"
   },
   {
    "duration": 39,
    "start_time": "2023-07-04T17:51:25.105Z"
   },
   {
    "duration": 6,
    "start_time": "2023-07-04T17:51:57.824Z"
   },
   {
    "duration": 302,
    "start_time": "2023-07-04T17:52:00.730Z"
   },
   {
    "duration": 20,
    "start_time": "2023-07-04T17:52:03.362Z"
   },
   {
    "duration": 10,
    "start_time": "2023-07-09T13:51:40.607Z"
   },
   {
    "duration": 5,
    "start_time": "2023-07-09T13:57:56.317Z"
   },
   {
    "duration": 42,
    "start_time": "2023-07-09T13:58:16.256Z"
   },
   {
    "duration": 1435,
    "start_time": "2023-07-09T13:58:20.843Z"
   },
   {
    "duration": 197,
    "start_time": "2023-07-09T13:58:22.280Z"
   },
   {
    "duration": 4,
    "start_time": "2023-07-09T13:58:22.479Z"
   },
   {
    "duration": 26,
    "start_time": "2023-07-09T13:58:22.485Z"
   },
   {
    "duration": 20,
    "start_time": "2023-07-09T13:58:22.512Z"
   },
   {
    "duration": 1424,
    "start_time": "2023-07-09T13:58:22.534Z"
   },
   {
    "duration": 0,
    "start_time": "2023-07-09T13:58:23.961Z"
   },
   {
    "duration": 0,
    "start_time": "2023-07-09T13:58:23.962Z"
   },
   {
    "duration": 0,
    "start_time": "2023-07-09T13:58:23.963Z"
   },
   {
    "duration": 0,
    "start_time": "2023-07-09T13:58:23.964Z"
   },
   {
    "duration": 0,
    "start_time": "2023-07-09T13:58:23.965Z"
   },
   {
    "duration": 0,
    "start_time": "2023-07-09T13:58:23.966Z"
   },
   {
    "duration": 0,
    "start_time": "2023-07-09T13:58:23.967Z"
   },
   {
    "duration": 0,
    "start_time": "2023-07-09T13:58:23.968Z"
   },
   {
    "duration": 0,
    "start_time": "2023-07-09T13:58:23.969Z"
   },
   {
    "duration": 0,
    "start_time": "2023-07-09T13:58:23.970Z"
   },
   {
    "duration": 0,
    "start_time": "2023-07-09T13:58:23.971Z"
   },
   {
    "duration": 0,
    "start_time": "2023-07-09T13:58:23.972Z"
   },
   {
    "duration": 0,
    "start_time": "2023-07-09T13:58:23.973Z"
   },
   {
    "duration": 8,
    "start_time": "2023-07-09T13:59:07.447Z"
   },
   {
    "duration": 1399,
    "start_time": "2023-07-09T13:59:10.402Z"
   },
   {
    "duration": 1174,
    "start_time": "2023-07-09T13:59:22.106Z"
   },
   {
    "duration": 80,
    "start_time": "2023-07-09T13:59:23.282Z"
   },
   {
    "duration": 2,
    "start_time": "2023-07-09T13:59:23.364Z"
   },
   {
    "duration": 24,
    "start_time": "2023-07-09T13:59:23.368Z"
   },
   {
    "duration": 19,
    "start_time": "2023-07-09T13:59:23.393Z"
   },
   {
    "duration": 1550,
    "start_time": "2023-07-09T13:59:23.414Z"
   },
   {
    "duration": 0,
    "start_time": "2023-07-09T13:59:24.966Z"
   },
   {
    "duration": 0,
    "start_time": "2023-07-09T13:59:24.967Z"
   },
   {
    "duration": 0,
    "start_time": "2023-07-09T13:59:24.968Z"
   },
   {
    "duration": 0,
    "start_time": "2023-07-09T13:59:24.969Z"
   },
   {
    "duration": 0,
    "start_time": "2023-07-09T13:59:24.970Z"
   },
   {
    "duration": 0,
    "start_time": "2023-07-09T13:59:24.971Z"
   },
   {
    "duration": 0,
    "start_time": "2023-07-09T13:59:24.972Z"
   },
   {
    "duration": 0,
    "start_time": "2023-07-09T13:59:24.973Z"
   },
   {
    "duration": 0,
    "start_time": "2023-07-09T13:59:24.974Z"
   },
   {
    "duration": 0,
    "start_time": "2023-07-09T13:59:24.975Z"
   },
   {
    "duration": 0,
    "start_time": "2023-07-09T13:59:24.976Z"
   },
   {
    "duration": 0,
    "start_time": "2023-07-09T13:59:24.977Z"
   },
   {
    "duration": 0,
    "start_time": "2023-07-09T13:59:24.978Z"
   },
   {
    "duration": 0,
    "start_time": "2023-07-09T13:59:24.979Z"
   },
   {
    "duration": 0,
    "start_time": "2023-07-09T13:59:24.981Z"
   },
   {
    "duration": 0,
    "start_time": "2023-07-09T13:59:24.982Z"
   },
   {
    "duration": 6,
    "start_time": "2023-07-09T14:00:39.761Z"
   },
   {
    "duration": 1186,
    "start_time": "2023-07-09T14:00:47.641Z"
   },
   {
    "duration": 88,
    "start_time": "2023-07-09T14:00:48.830Z"
   },
   {
    "duration": 3,
    "start_time": "2023-07-09T14:00:48.920Z"
   },
   {
    "duration": 14,
    "start_time": "2023-07-09T14:00:48.924Z"
   },
   {
    "duration": 19,
    "start_time": "2023-07-09T14:00:48.939Z"
   },
   {
    "duration": 13,
    "start_time": "2023-07-09T14:00:48.960Z"
   },
   {
    "duration": 531,
    "start_time": "2023-07-09T14:00:48.974Z"
   },
   {
    "duration": 251,
    "start_time": "2023-07-09T14:00:49.507Z"
   },
   {
    "duration": 5,
    "start_time": "2023-07-09T14:00:49.759Z"
   },
   {
    "duration": 4,
    "start_time": "2023-07-09T14:00:49.775Z"
   },
   {
    "duration": 21,
    "start_time": "2023-07-09T14:00:49.781Z"
   },
   {
    "duration": 11,
    "start_time": "2023-07-09T14:00:49.804Z"
   },
   {
    "duration": 21,
    "start_time": "2023-07-09T14:00:49.817Z"
   },
   {
    "duration": 8,
    "start_time": "2023-07-09T14:00:49.840Z"
   },
   {
    "duration": 11,
    "start_time": "2023-07-09T14:00:49.850Z"
   },
   {
    "duration": 24,
    "start_time": "2023-07-09T14:00:49.862Z"
   },
   {
    "duration": 33,
    "start_time": "2023-07-09T14:00:49.888Z"
   },
   {
    "duration": 12,
    "start_time": "2023-07-09T14:00:49.923Z"
   },
   {
    "duration": 10,
    "start_time": "2023-07-09T14:00:49.938Z"
   },
   {
    "duration": 276,
    "start_time": "2023-07-09T14:00:49.950Z"
   },
   {
    "duration": 288,
    "start_time": "2023-07-09T14:00:50.228Z"
   },
   {
    "duration": 14,
    "start_time": "2023-07-09T14:00:50.517Z"
   },
   {
    "duration": 4,
    "start_time": "2023-07-09T14:05:11.034Z"
   },
   {
    "duration": 162,
    "start_time": "2023-07-09T14:05:13.591Z"
   },
   {
    "duration": 5,
    "start_time": "2023-07-09T14:05:21.335Z"
   },
   {
    "duration": 285,
    "start_time": "2023-07-09T14:05:24.935Z"
   },
   {
    "duration": 5,
    "start_time": "2023-07-09T14:08:50.487Z"
   },
   {
    "duration": 217,
    "start_time": "2023-07-09T14:08:52.289Z"
   },
   {
    "duration": 4,
    "start_time": "2023-07-09T14:09:11.100Z"
   },
   {
    "duration": 205,
    "start_time": "2023-07-09T14:09:13.354Z"
   },
   {
    "duration": 5,
    "start_time": "2023-07-09T14:09:19.841Z"
   },
   {
    "duration": 214,
    "start_time": "2023-07-09T14:09:22.551Z"
   },
   {
    "duration": 214,
    "start_time": "2023-07-09T14:09:43.931Z"
   },
   {
    "duration": 4,
    "start_time": "2023-07-09T14:10:10.710Z"
   },
   {
    "duration": 4,
    "start_time": "2023-07-09T14:11:07.983Z"
   },
   {
    "duration": 281,
    "start_time": "2023-07-09T14:11:10.385Z"
   },
   {
    "duration": 5,
    "start_time": "2023-07-09T14:11:25.391Z"
   },
   {
    "duration": 6,
    "start_time": "2023-07-09T14:11:29.900Z"
   },
   {
    "duration": 216,
    "start_time": "2023-07-09T14:11:32.239Z"
   },
   {
    "duration": 4,
    "start_time": "2023-07-09T14:11:41.133Z"
   },
   {
    "duration": 208,
    "start_time": "2023-07-09T14:11:43.648Z"
   },
   {
    "duration": 7,
    "start_time": "2023-07-09T14:12:03.201Z"
   },
   {
    "duration": 235,
    "start_time": "2023-07-09T14:12:05.713Z"
   },
   {
    "duration": 5,
    "start_time": "2023-07-09T14:12:22.784Z"
   },
   {
    "duration": 200,
    "start_time": "2023-07-09T14:12:24.488Z"
   },
   {
    "duration": 5,
    "start_time": "2023-07-09T14:12:36.533Z"
   },
   {
    "duration": 219,
    "start_time": "2023-07-09T14:12:38.431Z"
   },
   {
    "duration": 4,
    "start_time": "2023-07-09T14:13:50.844Z"
   },
   {
    "duration": 284,
    "start_time": "2023-07-09T14:13:52.833Z"
   },
   {
    "duration": 5,
    "start_time": "2023-07-09T14:14:03.650Z"
   },
   {
    "duration": 5,
    "start_time": "2023-07-09T14:17:27.893Z"
   },
   {
    "duration": 267,
    "start_time": "2023-07-09T14:17:31.091Z"
   },
   {
    "duration": 221,
    "start_time": "2023-07-09T14:17:32.754Z"
   },
   {
    "duration": 6,
    "start_time": "2023-07-09T14:17:57.814Z"
   },
   {
    "duration": 225,
    "start_time": "2023-07-09T14:18:00.089Z"
   },
   {
    "duration": 4,
    "start_time": "2023-07-09T14:18:09.289Z"
   },
   {
    "duration": 204,
    "start_time": "2023-07-09T14:18:11.024Z"
   },
   {
    "duration": 5,
    "start_time": "2023-07-09T14:18:32.792Z"
   },
   {
    "duration": 232,
    "start_time": "2023-07-09T14:18:35.045Z"
   },
   {
    "duration": 5,
    "start_time": "2023-07-09T14:19:40.498Z"
   },
   {
    "duration": 217,
    "start_time": "2023-07-09T14:19:42.292Z"
   },
   {
    "duration": 5,
    "start_time": "2023-07-09T14:19:59.994Z"
   },
   {
    "duration": 244,
    "start_time": "2023-07-09T14:20:01.737Z"
   },
   {
    "duration": 6,
    "start_time": "2023-07-09T14:20:10.689Z"
   },
   {
    "duration": 215,
    "start_time": "2023-07-09T14:20:13.387Z"
   },
   {
    "duration": 5,
    "start_time": "2023-07-09T14:20:29.724Z"
   },
   {
    "duration": 233,
    "start_time": "2023-07-09T14:20:31.544Z"
   },
   {
    "duration": 5,
    "start_time": "2023-07-09T14:44:21.139Z"
   },
   {
    "duration": 253,
    "start_time": "2023-07-09T14:44:23.659Z"
   },
   {
    "duration": 200,
    "start_time": "2023-07-09T14:44:25.817Z"
   },
   {
    "duration": 5,
    "start_time": "2023-07-09T14:45:08.638Z"
   },
   {
    "duration": 5,
    "start_time": "2023-07-09T14:45:54.074Z"
   },
   {
    "duration": 8,
    "start_time": "2023-07-09T14:47:28.389Z"
   },
   {
    "duration": 5,
    "start_time": "2023-07-09T14:47:33.694Z"
   },
   {
    "duration": 206,
    "start_time": "2023-07-09T14:47:37.247Z"
   },
   {
    "duration": 5,
    "start_time": "2023-07-09T14:49:07.283Z"
   },
   {
    "duration": 281,
    "start_time": "2023-07-09T14:49:10.527Z"
   },
   {
    "duration": 8,
    "start_time": "2023-07-09T15:40:27.403Z"
   },
   {
    "duration": 4,
    "start_time": "2023-07-09T15:40:34.748Z"
   },
   {
    "duration": 11,
    "start_time": "2023-07-09T15:40:57.736Z"
   },
   {
    "duration": 259,
    "start_time": "2023-07-09T15:41:04.460Z"
   },
   {
    "duration": 6,
    "start_time": "2023-07-09T15:41:29.398Z"
   },
   {
    "duration": 275,
    "start_time": "2023-07-09T15:41:33.348Z"
   },
   {
    "duration": 12,
    "start_time": "2023-07-09T15:41:39.852Z"
   },
   {
    "duration": 506,
    "start_time": "2023-07-09T15:42:03.597Z"
   },
   {
    "duration": 10,
    "start_time": "2023-07-09T15:42:06.711Z"
   },
   {
    "duration": 253,
    "start_time": "2023-07-09T15:42:27.956Z"
   },
   {
    "duration": 11,
    "start_time": "2023-07-09T15:42:35.292Z"
   },
   {
    "duration": 10,
    "start_time": "2023-07-09T15:42:41.560Z"
   },
   {
    "duration": 224,
    "start_time": "2023-07-09T15:42:49.051Z"
   },
   {
    "duration": 4,
    "start_time": "2023-07-09T15:43:04.607Z"
   },
   {
    "duration": 185,
    "start_time": "2023-07-09T15:43:10.884Z"
   },
   {
    "duration": 257,
    "start_time": "2023-07-09T15:43:41.207Z"
   },
   {
    "duration": 7,
    "start_time": "2023-07-09T15:45:50.453Z"
   },
   {
    "duration": 249,
    "start_time": "2023-07-09T15:45:54.815Z"
   },
   {
    "duration": 209,
    "start_time": "2023-07-09T15:45:58.943Z"
   },
   {
    "duration": 5,
    "start_time": "2023-07-09T15:51:50.787Z"
   },
   {
    "duration": 1718,
    "start_time": "2023-07-09T15:52:30.884Z"
   },
   {
    "duration": 4,
    "start_time": "2023-07-09T15:53:06.210Z"
   },
   {
    "duration": 160,
    "start_time": "2023-07-09T15:53:11.174Z"
   },
   {
    "duration": 3,
    "start_time": "2023-07-09T15:53:29.619Z"
   },
   {
    "duration": 145,
    "start_time": "2023-07-09T15:53:36.104Z"
   },
   {
    "duration": 4,
    "start_time": "2023-07-09T15:53:48.339Z"
   },
   {
    "duration": 308,
    "start_time": "2023-07-09T15:53:52.570Z"
   },
   {
    "duration": 4,
    "start_time": "2023-07-09T15:54:40.479Z"
   },
   {
    "duration": 366,
    "start_time": "2023-07-09T15:54:44.323Z"
   },
   {
    "duration": 5,
    "start_time": "2023-07-09T15:55:17.855Z"
   },
   {
    "duration": 360,
    "start_time": "2023-07-09T15:55:20.971Z"
   },
   {
    "duration": 9,
    "start_time": "2023-07-09T15:59:31.681Z"
   },
   {
    "duration": 5,
    "start_time": "2023-07-09T15:59:35.098Z"
   },
   {
    "duration": 5,
    "start_time": "2023-07-09T15:59:59.423Z"
   },
   {
    "duration": 263,
    "start_time": "2023-07-09T16:00:05.951Z"
   },
   {
    "duration": 194,
    "start_time": "2023-07-09T16:00:07.759Z"
   },
   {
    "duration": 195,
    "start_time": "2023-07-09T16:00:15.335Z"
   },
   {
    "duration": 433,
    "start_time": "2023-07-09T16:00:18.772Z"
   },
   {
    "duration": 98,
    "start_time": "2023-07-09T16:01:39.548Z"
   },
   {
    "duration": 7,
    "start_time": "2023-07-09T16:04:03.451Z"
   },
   {
    "duration": 4,
    "start_time": "2023-07-09T16:06:11.180Z"
   },
   {
    "duration": 4,
    "start_time": "2023-07-09T16:06:25.141Z"
   },
   {
    "duration": 1423,
    "start_time": "2023-07-09T16:06:36.548Z"
   },
   {
    "duration": 275,
    "start_time": "2023-07-09T16:07:01.557Z"
   },
   {
    "duration": 223,
    "start_time": "2023-07-09T16:07:06.788Z"
   },
   {
    "duration": 6,
    "start_time": "2023-07-09T16:17:30.221Z"
   },
   {
    "duration": 331,
    "start_time": "2023-07-09T16:17:51.571Z"
   },
   {
    "duration": 6,
    "start_time": "2023-07-09T16:18:04.959Z"
   },
   {
    "duration": 318,
    "start_time": "2023-07-09T16:18:08.968Z"
   },
   {
    "duration": 5,
    "start_time": "2023-07-09T16:18:28.870Z"
   },
   {
    "duration": 330,
    "start_time": "2023-07-09T16:18:32.654Z"
   },
   {
    "duration": 6,
    "start_time": "2023-07-09T16:47:46.843Z"
   },
   {
    "duration": 248,
    "start_time": "2023-07-09T16:47:55.044Z"
   },
   {
    "duration": 204,
    "start_time": "2023-07-09T16:47:59.439Z"
   },
   {
    "duration": 272,
    "start_time": "2023-07-09T16:48:06.796Z"
   },
   {
    "duration": 5,
    "start_time": "2023-07-09T16:48:45.639Z"
   },
   {
    "duration": 303,
    "start_time": "2023-07-09T16:48:49.655Z"
   },
   {
    "duration": 174,
    "start_time": "2023-07-09T16:54:08.902Z"
   },
   {
    "duration": 5,
    "start_time": "2023-07-09T16:54:22.986Z"
   },
   {
    "duration": 1097,
    "start_time": "2023-07-09T16:54:28.581Z"
   },
   {
    "duration": 78,
    "start_time": "2023-07-09T16:54:29.680Z"
   },
   {
    "duration": 2,
    "start_time": "2023-07-09T16:54:29.760Z"
   },
   {
    "duration": 11,
    "start_time": "2023-07-09T16:54:29.763Z"
   },
   {
    "duration": 14,
    "start_time": "2023-07-09T16:54:29.776Z"
   },
   {
    "duration": 9,
    "start_time": "2023-07-09T16:54:29.792Z"
   },
   {
    "duration": 226,
    "start_time": "2023-07-09T16:54:29.803Z"
   },
   {
    "duration": 226,
    "start_time": "2023-07-09T16:54:30.031Z"
   },
   {
    "duration": 6,
    "start_time": "2023-07-09T16:54:30.259Z"
   },
   {
    "duration": 33,
    "start_time": "2023-07-09T16:54:30.266Z"
   },
   {
    "duration": 36,
    "start_time": "2023-07-09T16:54:30.301Z"
   },
   {
    "duration": 52,
    "start_time": "2023-07-09T16:54:30.338Z"
   },
   {
    "duration": 34,
    "start_time": "2023-07-09T16:54:30.391Z"
   },
   {
    "duration": 35,
    "start_time": "2023-07-09T16:54:30.427Z"
   },
   {
    "duration": 40,
    "start_time": "2023-07-09T16:54:30.464Z"
   },
   {
    "duration": 58,
    "start_time": "2023-07-09T16:54:30.505Z"
   },
   {
    "duration": 51,
    "start_time": "2023-07-09T16:54:30.565Z"
   },
   {
    "duration": 55,
    "start_time": "2023-07-09T16:54:30.617Z"
   },
   {
    "duration": 162,
    "start_time": "2023-07-09T16:54:30.674Z"
   },
   {
    "duration": 0,
    "start_time": "2023-07-09T16:54:30.837Z"
   },
   {
    "duration": 0,
    "start_time": "2023-07-09T16:54:30.838Z"
   },
   {
    "duration": 0,
    "start_time": "2023-07-09T16:54:30.840Z"
   },
   {
    "duration": 0,
    "start_time": "2023-07-09T16:54:30.841Z"
   },
   {
    "duration": 0,
    "start_time": "2023-07-09T16:54:30.842Z"
   },
   {
    "duration": 0,
    "start_time": "2023-07-09T16:54:30.843Z"
   },
   {
    "duration": 0,
    "start_time": "2023-07-09T16:54:30.844Z"
   },
   {
    "duration": 0,
    "start_time": "2023-07-09T16:54:30.845Z"
   },
   {
    "duration": 0,
    "start_time": "2023-07-09T16:54:30.846Z"
   },
   {
    "duration": 0,
    "start_time": "2023-07-09T16:54:30.847Z"
   },
   {
    "duration": 0,
    "start_time": "2023-07-09T16:54:30.848Z"
   },
   {
    "duration": 1204,
    "start_time": "2023-07-09T16:54:51.291Z"
   },
   {
    "duration": 79,
    "start_time": "2023-07-09T16:54:52.497Z"
   },
   {
    "duration": 3,
    "start_time": "2023-07-09T16:54:52.577Z"
   },
   {
    "duration": 18,
    "start_time": "2023-07-09T16:54:52.581Z"
   },
   {
    "duration": 37,
    "start_time": "2023-07-09T16:54:52.601Z"
   },
   {
    "duration": 26,
    "start_time": "2023-07-09T16:54:52.640Z"
   },
   {
    "duration": 236,
    "start_time": "2023-07-09T16:54:52.668Z"
   },
   {
    "duration": 215,
    "start_time": "2023-07-09T16:54:52.906Z"
   },
   {
    "duration": 6,
    "start_time": "2023-07-09T16:54:53.123Z"
   },
   {
    "duration": 28,
    "start_time": "2023-07-09T16:54:53.131Z"
   },
   {
    "duration": 23,
    "start_time": "2023-07-09T16:54:53.161Z"
   },
   {
    "duration": 25,
    "start_time": "2023-07-09T16:54:53.186Z"
   },
   {
    "duration": 33,
    "start_time": "2023-07-09T16:54:53.213Z"
   },
   {
    "duration": 18,
    "start_time": "2023-07-09T16:54:53.248Z"
   },
   {
    "duration": 35,
    "start_time": "2023-07-09T16:54:53.268Z"
   },
   {
    "duration": 29,
    "start_time": "2023-07-09T16:54:53.304Z"
   },
   {
    "duration": 59,
    "start_time": "2023-07-09T16:54:53.335Z"
   },
   {
    "duration": 47,
    "start_time": "2023-07-09T16:54:53.396Z"
   },
   {
    "duration": 122,
    "start_time": "2023-07-09T16:54:53.445Z"
   },
   {
    "duration": 377,
    "start_time": "2023-07-09T16:54:53.569Z"
   },
   {
    "duration": 7,
    "start_time": "2023-07-09T16:54:53.948Z"
   },
   {
    "duration": 18,
    "start_time": "2023-07-09T16:54:53.957Z"
   },
   {
    "duration": 10,
    "start_time": "2023-07-09T16:54:53.977Z"
   },
   {
    "duration": 268,
    "start_time": "2023-07-09T16:54:53.988Z"
   },
   {
    "duration": 264,
    "start_time": "2023-07-09T16:54:54.257Z"
   },
   {
    "duration": 206,
    "start_time": "2023-07-09T16:54:54.522Z"
   },
   {
    "duration": 280,
    "start_time": "2023-07-09T16:54:54.729Z"
   },
   {
    "duration": 231,
    "start_time": "2023-07-09T16:54:55.012Z"
   },
   {
    "duration": 344,
    "start_time": "2023-07-09T16:54:55.247Z"
   },
   {
    "duration": 3,
    "start_time": "2023-07-09T17:02:52.638Z"
   },
   {
    "duration": 6,
    "start_time": "2023-07-09T17:03:15.161Z"
   },
   {
    "duration": 8,
    "start_time": "2023-07-09T17:03:19.801Z"
   },
   {
    "duration": 97,
    "start_time": "2023-07-09T17:13:22.700Z"
   },
   {
    "duration": 4,
    "start_time": "2023-07-09T17:16:21.528Z"
   },
   {
    "duration": 132,
    "start_time": "2023-07-09T17:16:55.067Z"
   },
   {
    "duration": 126,
    "start_time": "2023-07-09T17:17:10.349Z"
   },
   {
    "duration": 4,
    "start_time": "2023-07-09T17:17:35.524Z"
   },
   {
    "duration": 122,
    "start_time": "2023-07-09T17:17:38.792Z"
   },
   {
    "duration": 8,
    "start_time": "2023-07-09T17:18:38.489Z"
   },
   {
    "duration": 3,
    "start_time": "2023-07-09T17:19:52.608Z"
   },
   {
    "duration": 5,
    "start_time": "2023-07-09T17:19:56.202Z"
   },
   {
    "duration": 117,
    "start_time": "2023-07-09T17:19:57.892Z"
   },
   {
    "duration": 4,
    "start_time": "2023-07-09T17:26:28.522Z"
   },
   {
    "duration": 97,
    "start_time": "2023-07-09T17:26:47.203Z"
   },
   {
    "duration": 86,
    "start_time": "2023-07-09T17:27:00.056Z"
   },
   {
    "duration": 3,
    "start_time": "2023-07-09T17:27:04.894Z"
   },
   {
    "duration": 3,
    "start_time": "2023-07-09T17:27:06.641Z"
   },
   {
    "duration": 4,
    "start_time": "2023-07-09T17:27:22.662Z"
   },
   {
    "duration": 152,
    "start_time": "2023-07-09T17:32:01.385Z"
   },
   {
    "duration": 8,
    "start_time": "2023-07-09T17:33:20.264Z"
   },
   {
    "duration": 4,
    "start_time": "2023-07-09T17:37:25.320Z"
   },
   {
    "duration": 145,
    "start_time": "2023-07-09T17:37:34.002Z"
   },
   {
    "duration": 4,
    "start_time": "2023-07-09T17:39:18.604Z"
   },
   {
    "duration": 1147,
    "start_time": "2023-07-09T17:56:37.472Z"
   },
   {
    "duration": 80,
    "start_time": "2023-07-09T17:56:38.620Z"
   },
   {
    "duration": 2,
    "start_time": "2023-07-09T17:56:38.702Z"
   },
   {
    "duration": 10,
    "start_time": "2023-07-09T17:56:38.706Z"
   },
   {
    "duration": 18,
    "start_time": "2023-07-09T17:56:38.718Z"
   },
   {
    "duration": 7,
    "start_time": "2023-07-09T17:56:38.738Z"
   },
   {
    "duration": 207,
    "start_time": "2023-07-09T17:56:38.747Z"
   },
   {
    "duration": 241,
    "start_time": "2023-07-09T17:56:38.956Z"
   },
   {
    "duration": 5,
    "start_time": "2023-07-09T17:56:39.199Z"
   },
   {
    "duration": 6,
    "start_time": "2023-07-09T17:56:39.208Z"
   },
   {
    "duration": 15,
    "start_time": "2023-07-09T17:56:39.215Z"
   },
   {
    "duration": 7,
    "start_time": "2023-07-09T17:56:39.231Z"
   },
   {
    "duration": 20,
    "start_time": "2023-07-09T17:56:39.240Z"
   },
   {
    "duration": 16,
    "start_time": "2023-07-09T17:56:39.261Z"
   },
   {
    "duration": 9,
    "start_time": "2023-07-09T17:56:39.279Z"
   },
   {
    "duration": 10,
    "start_time": "2023-07-09T17:56:39.290Z"
   },
   {
    "duration": 14,
    "start_time": "2023-07-09T17:56:39.302Z"
   },
   {
    "duration": 6,
    "start_time": "2023-07-09T17:56:39.318Z"
   },
   {
    "duration": 7,
    "start_time": "2023-07-09T17:56:39.326Z"
   },
   {
    "duration": 8,
    "start_time": "2023-07-09T17:56:39.335Z"
   },
   {
    "duration": 6,
    "start_time": "2023-07-09T17:56:39.344Z"
   },
   {
    "duration": 5,
    "start_time": "2023-07-09T17:56:39.352Z"
   },
   {
    "duration": 16,
    "start_time": "2023-07-09T17:56:39.359Z"
   },
   {
    "duration": 4,
    "start_time": "2023-07-09T17:56:39.376Z"
   },
   {
    "duration": 13,
    "start_time": "2023-07-09T17:56:39.381Z"
   },
   {
    "duration": 11,
    "start_time": "2023-07-09T17:56:39.395Z"
   },
   {
    "duration": 262,
    "start_time": "2023-07-09T17:56:39.408Z"
   },
   {
    "duration": 263,
    "start_time": "2023-07-09T17:56:39.676Z"
   },
   {
    "duration": 212,
    "start_time": "2023-07-09T17:56:39.940Z"
   },
   {
    "duration": 343,
    "start_time": "2023-07-09T17:56:40.154Z"
   },
   {
    "duration": 226,
    "start_time": "2023-07-09T17:56:40.499Z"
   },
   {
    "duration": 356,
    "start_time": "2023-07-09T17:56:40.726Z"
   },
   {
    "duration": 6,
    "start_time": "2023-07-09T17:56:41.084Z"
   },
   {
    "duration": 146,
    "start_time": "2023-07-09T17:56:41.091Z"
   },
   {
    "duration": 4,
    "start_time": "2023-07-09T17:56:41.239Z"
   },
   {
    "duration": 146,
    "start_time": "2023-07-09T17:56:41.244Z"
   },
   {
    "duration": 8,
    "start_time": "2023-07-09T17:56:41.392Z"
   },
   {
    "duration": 7,
    "start_time": "2023-07-09T17:56:41.402Z"
   },
   {
    "duration": 156,
    "start_time": "2023-07-09T17:56:41.410Z"
   },
   {
    "duration": 9,
    "start_time": "2023-07-09T17:56:41.568Z"
   },
   {
    "duration": 141,
    "start_time": "2023-07-09T17:57:54.013Z"
   },
   {
    "duration": 163,
    "start_time": "2023-07-09T17:57:58.987Z"
   },
   {
    "duration": 4,
    "start_time": "2023-07-09T18:09:36.460Z"
   },
   {
    "duration": 1185,
    "start_time": "2023-07-09T18:09:41.614Z"
   },
   {
    "duration": 3,
    "start_time": "2023-07-09T18:10:20.824Z"
   },
   {
    "duration": 97,
    "start_time": "2023-07-09T18:10:25.815Z"
   },
   {
    "duration": 121,
    "start_time": "2023-07-09T18:10:27.736Z"
   },
   {
    "duration": 12,
    "start_time": "2023-07-09T18:24:48.698Z"
   },
   {
    "duration": 1428,
    "start_time": "2023-07-10T08:45:18.784Z"
   },
   {
    "duration": 221,
    "start_time": "2023-07-10T08:45:20.214Z"
   },
   {
    "duration": 3,
    "start_time": "2023-07-10T08:45:20.437Z"
   },
   {
    "duration": 35,
    "start_time": "2023-07-10T08:45:20.442Z"
   },
   {
    "duration": 26,
    "start_time": "2023-07-10T08:45:20.479Z"
   },
   {
    "duration": 46,
    "start_time": "2023-07-10T08:45:20.507Z"
   },
   {
    "duration": 262,
    "start_time": "2023-07-10T08:45:20.559Z"
   },
   {
    "duration": 269,
    "start_time": "2023-07-10T08:45:20.823Z"
   },
   {
    "duration": 7,
    "start_time": "2023-07-10T08:45:21.094Z"
   },
   {
    "duration": 8,
    "start_time": "2023-07-10T08:45:21.103Z"
   },
   {
    "duration": 13,
    "start_time": "2023-07-10T08:45:21.112Z"
   },
   {
    "duration": 15,
    "start_time": "2023-07-10T08:45:21.127Z"
   },
   {
    "duration": 29,
    "start_time": "2023-07-10T08:45:21.144Z"
   },
   {
    "duration": 14,
    "start_time": "2023-07-10T08:45:21.177Z"
   },
   {
    "duration": 25,
    "start_time": "2023-07-10T08:45:21.193Z"
   },
   {
    "duration": 22,
    "start_time": "2023-07-10T08:45:21.220Z"
   },
   {
    "duration": 36,
    "start_time": "2023-07-10T08:45:21.244Z"
   },
   {
    "duration": 9,
    "start_time": "2023-07-10T08:45:21.282Z"
   },
   {
    "duration": 27,
    "start_time": "2023-07-10T08:45:21.293Z"
   },
   {
    "duration": 10,
    "start_time": "2023-07-10T08:45:21.322Z"
   },
   {
    "duration": 14,
    "start_time": "2023-07-10T08:45:21.334Z"
   },
   {
    "duration": 21,
    "start_time": "2023-07-10T08:45:21.350Z"
   },
   {
    "duration": 15,
    "start_time": "2023-07-10T08:45:21.373Z"
   },
   {
    "duration": 18,
    "start_time": "2023-07-10T08:45:21.389Z"
   },
   {
    "duration": 15,
    "start_time": "2023-07-10T08:45:21.409Z"
   },
   {
    "duration": 11,
    "start_time": "2023-07-10T08:45:21.426Z"
   },
   {
    "duration": 307,
    "start_time": "2023-07-10T08:45:21.439Z"
   },
   {
    "duration": 24,
    "start_time": "2023-07-10T08:45:21.756Z"
   },
   {
    "duration": 336,
    "start_time": "2023-07-10T08:45:21.782Z"
   },
   {
    "duration": 264,
    "start_time": "2023-07-10T08:45:22.120Z"
   },
   {
    "duration": 393,
    "start_time": "2023-07-10T08:45:22.386Z"
   },
   {
    "duration": 252,
    "start_time": "2023-07-10T08:45:22.781Z"
   },
   {
    "duration": 462,
    "start_time": "2023-07-10T08:45:23.035Z"
   },
   {
    "duration": 110,
    "start_time": "2023-07-10T08:45:23.499Z"
   },
   {
    "duration": 175,
    "start_time": "2023-07-10T08:45:23.611Z"
   },
   {
    "duration": 4,
    "start_time": "2023-07-10T08:45:23.788Z"
   },
   {
    "duration": 189,
    "start_time": "2023-07-10T08:45:23.793Z"
   },
   {
    "duration": 9,
    "start_time": "2023-07-10T08:45:23.984Z"
   },
   {
    "duration": 30,
    "start_time": "2023-07-10T08:45:23.995Z"
   },
   {
    "duration": 212,
    "start_time": "2023-07-10T08:45:24.027Z"
   },
   {
    "duration": 4,
    "start_time": "2023-07-10T08:45:24.241Z"
   },
   {
    "duration": 9,
    "start_time": "2023-07-10T08:47:24.486Z"
   },
   {
    "duration": 11,
    "start_time": "2023-07-10T08:47:34.429Z"
   },
   {
    "duration": 13,
    "start_time": "2023-07-10T09:09:35.593Z"
   },
   {
    "duration": 17,
    "start_time": "2023-07-10T09:12:26.153Z"
   },
   {
    "duration": 6,
    "start_time": "2023-07-10T09:13:04.486Z"
   },
   {
    "duration": 10,
    "start_time": "2023-07-10T09:40:27.601Z"
   },
   {
    "duration": 162,
    "start_time": "2023-07-10T09:41:00.043Z"
   },
   {
    "duration": 11,
    "start_time": "2023-07-10T09:41:10.941Z"
   },
   {
    "duration": 25,
    "start_time": "2023-07-10T09:41:12.918Z"
   },
   {
    "duration": 7,
    "start_time": "2023-07-10T09:43:25.923Z"
   },
   {
    "duration": 42,
    "start_time": "2023-07-10T09:43:27.796Z"
   },
   {
    "duration": 14,
    "start_time": "2023-07-10T09:43:35.865Z"
   },
   {
    "duration": 38,
    "start_time": "2023-07-10T09:43:37.504Z"
   },
   {
    "duration": 40,
    "start_time": "2023-07-10T10:02:10.569Z"
   },
   {
    "duration": 9,
    "start_time": "2023-07-10T10:04:10.621Z"
   },
   {
    "duration": 36,
    "start_time": "2023-07-10T10:04:21.982Z"
   },
   {
    "duration": 11,
    "start_time": "2023-07-10T10:08:10.019Z"
   },
   {
    "duration": 5,
    "start_time": "2023-07-10T10:12:45.717Z"
   },
   {
    "duration": 12,
    "start_time": "2023-07-10T10:12:54.225Z"
   },
   {
    "duration": 6,
    "start_time": "2023-07-10T10:13:10.790Z"
   },
   {
    "duration": 11,
    "start_time": "2023-07-10T10:13:14.236Z"
   },
   {
    "duration": 10,
    "start_time": "2023-07-10T10:13:43.221Z"
   },
   {
    "duration": 62,
    "start_time": "2023-07-11T09:00:45.094Z"
   },
   {
    "duration": 1648,
    "start_time": "2023-07-11T09:01:00.557Z"
   },
   {
    "duration": 185,
    "start_time": "2023-07-11T09:01:02.207Z"
   },
   {
    "duration": 4,
    "start_time": "2023-07-11T09:01:02.395Z"
   },
   {
    "duration": 28,
    "start_time": "2023-07-11T09:01:02.414Z"
   },
   {
    "duration": 62,
    "start_time": "2023-07-11T09:01:02.444Z"
   },
   {
    "duration": 33,
    "start_time": "2023-07-11T09:01:02.508Z"
   },
   {
    "duration": 285,
    "start_time": "2023-07-11T09:01:02.543Z"
   },
   {
    "duration": 253,
    "start_time": "2023-07-11T09:01:02.829Z"
   },
   {
    "duration": 6,
    "start_time": "2023-07-11T09:01:03.084Z"
   },
   {
    "duration": 15,
    "start_time": "2023-07-11T09:01:03.103Z"
   },
   {
    "duration": 37,
    "start_time": "2023-07-11T09:01:03.120Z"
   },
   {
    "duration": 26,
    "start_time": "2023-07-11T09:01:03.159Z"
   },
   {
    "duration": 42,
    "start_time": "2023-07-11T09:01:03.187Z"
   },
   {
    "duration": 32,
    "start_time": "2023-07-11T09:01:03.231Z"
   },
   {
    "duration": 18,
    "start_time": "2023-07-11T09:01:03.265Z"
   },
   {
    "duration": 30,
    "start_time": "2023-07-11T09:01:03.285Z"
   },
   {
    "duration": 30,
    "start_time": "2023-07-11T09:01:03.317Z"
   },
   {
    "duration": 7,
    "start_time": "2023-07-11T09:01:03.349Z"
   },
   {
    "duration": 17,
    "start_time": "2023-07-11T09:01:03.358Z"
   },
   {
    "duration": 40,
    "start_time": "2023-07-11T09:01:03.377Z"
   },
   {
    "duration": 18,
    "start_time": "2023-07-11T09:01:03.419Z"
   },
   {
    "duration": 49,
    "start_time": "2023-07-11T09:01:03.439Z"
   },
   {
    "duration": 61,
    "start_time": "2023-07-11T09:01:03.490Z"
   },
   {
    "duration": 46,
    "start_time": "2023-07-11T09:01:03.553Z"
   },
   {
    "duration": 40,
    "start_time": "2023-07-11T09:01:03.601Z"
   },
   {
    "duration": 40,
    "start_time": "2023-07-11T09:01:03.643Z"
   },
   {
    "duration": 40,
    "start_time": "2023-07-11T09:01:03.686Z"
   },
   {
    "duration": 27,
    "start_time": "2023-07-11T09:01:03.729Z"
   },
   {
    "duration": 288,
    "start_time": "2023-07-11T09:01:03.758Z"
   },
   {
    "duration": 10,
    "start_time": "2023-07-11T09:01:04.047Z"
   },
   {
    "duration": 314,
    "start_time": "2023-07-11T09:01:04.058Z"
   },
   {
    "duration": 232,
    "start_time": "2023-07-11T09:01:04.373Z"
   },
   {
    "duration": 360,
    "start_time": "2023-07-11T09:01:04.607Z"
   },
   {
    "duration": 241,
    "start_time": "2023-07-11T09:01:04.969Z"
   },
   {
    "duration": 427,
    "start_time": "2023-07-11T09:01:05.212Z"
   },
   {
    "duration": 109,
    "start_time": "2023-07-11T09:01:05.640Z"
   },
   {
    "duration": 154,
    "start_time": "2023-07-11T09:01:05.751Z"
   },
   {
    "duration": 5,
    "start_time": "2023-07-11T09:01:05.907Z"
   },
   {
    "duration": 202,
    "start_time": "2023-07-11T09:01:05.914Z"
   },
   {
    "duration": 10,
    "start_time": "2023-07-11T09:01:06.117Z"
   },
   {
    "duration": 23,
    "start_time": "2023-07-11T09:01:06.129Z"
   },
   {
    "duration": 188,
    "start_time": "2023-07-11T09:01:06.155Z"
   },
   {
    "duration": 5,
    "start_time": "2023-07-11T09:01:06.345Z"
   },
   {
    "duration": 53,
    "start_time": "2023-07-11T09:01:06.352Z"
   },
   {
    "duration": 28,
    "start_time": "2023-07-11T09:01:06.407Z"
   },
   {
    "duration": 12,
    "start_time": "2023-07-11T09:01:06.437Z"
   },
   {
    "duration": 14,
    "start_time": "2023-07-11T09:01:06.451Z"
   },
   {
    "duration": 6,
    "start_time": "2023-07-11T09:01:27.047Z"
   },
   {
    "duration": 10,
    "start_time": "2023-07-11T09:01:40.193Z"
   },
   {
    "duration": 13,
    "start_time": "2023-07-11T09:02:02.694Z"
   },
   {
    "duration": 23,
    "start_time": "2023-07-11T09:12:53.857Z"
   },
   {
    "duration": 17,
    "start_time": "2023-07-11T09:13:10.840Z"
   },
   {
    "duration": 11,
    "start_time": "2023-07-11T09:13:24.445Z"
   },
   {
    "duration": 15,
    "start_time": "2023-07-11T09:13:31.002Z"
   },
   {
    "duration": 12,
    "start_time": "2023-07-11T09:22:55.527Z"
   },
   {
    "duration": 1177,
    "start_time": "2023-07-11T09:23:13.812Z"
   },
   {
    "duration": 2273,
    "start_time": "2023-07-11T09:23:23.403Z"
   },
   {
    "duration": 17,
    "start_time": "2023-07-11T09:23:34.028Z"
   },
   {
    "duration": 11,
    "start_time": "2023-07-11T09:23:39.360Z"
   },
   {
    "duration": 15,
    "start_time": "2023-07-11T09:23:46.495Z"
   },
   {
    "duration": 12,
    "start_time": "2023-07-11T09:24:59.507Z"
   },
   {
    "duration": 9,
    "start_time": "2023-07-11T09:25:11.754Z"
   },
   {
    "duration": 10,
    "start_time": "2023-07-11T09:25:44.304Z"
   },
   {
    "duration": 12,
    "start_time": "2023-07-11T09:28:10.265Z"
   },
   {
    "duration": 14,
    "start_time": "2023-07-11T09:28:17.199Z"
   },
   {
    "duration": 13,
    "start_time": "2023-07-11T09:39:19.536Z"
   },
   {
    "duration": 6,
    "start_time": "2023-07-11T09:40:23.611Z"
   },
   {
    "duration": 15,
    "start_time": "2023-07-11T09:40:29.759Z"
   },
   {
    "duration": 5,
    "start_time": "2023-07-11T09:44:49.267Z"
   },
   {
    "duration": 14,
    "start_time": "2023-07-11T09:44:56.905Z"
   },
   {
    "duration": 9,
    "start_time": "2023-07-11T09:45:21.039Z"
   },
   {
    "duration": 5,
    "start_time": "2023-07-11T10:30:21.233Z"
   },
   {
    "duration": 261,
    "start_time": "2023-07-11T10:30:28.052Z"
   },
   {
    "duration": 5,
    "start_time": "2023-07-11T10:30:38.626Z"
   },
   {
    "duration": 278,
    "start_time": "2023-07-11T10:30:43.116Z"
   },
   {
    "duration": 7,
    "start_time": "2023-07-11T10:31:00.021Z"
   },
   {
    "duration": 267,
    "start_time": "2023-07-11T10:31:07.030Z"
   },
   {
    "duration": 6,
    "start_time": "2023-07-11T10:31:54.420Z"
   },
   {
    "duration": 239,
    "start_time": "2023-07-11T10:31:58.619Z"
   },
   {
    "duration": 6,
    "start_time": "2023-07-11T10:32:20.104Z"
   },
   {
    "duration": 243,
    "start_time": "2023-07-11T10:32:24.845Z"
   },
   {
    "duration": 6,
    "start_time": "2023-07-11T10:33:40.860Z"
   },
   {
    "duration": 248,
    "start_time": "2023-07-11T10:33:45.099Z"
   },
   {
    "duration": 6,
    "start_time": "2023-07-11T10:34:37.613Z"
   },
   {
    "duration": 336,
    "start_time": "2023-07-11T10:34:44.724Z"
   },
   {
    "duration": 6,
    "start_time": "2023-07-11T10:35:07.356Z"
   },
   {
    "duration": 282,
    "start_time": "2023-07-11T10:35:12.461Z"
   },
   {
    "duration": 118,
    "start_time": "2023-07-11T10:35:40.816Z"
   },
   {
    "duration": 305,
    "start_time": "2023-07-11T10:35:52.419Z"
   },
   {
    "duration": 4,
    "start_time": "2023-07-11T10:37:23.754Z"
   },
   {
    "duration": 154,
    "start_time": "2023-07-11T10:37:41.514Z"
   },
   {
    "duration": 169,
    "start_time": "2023-07-11T10:38:02.103Z"
   },
   {
    "duration": 213,
    "start_time": "2023-07-11T10:38:11.096Z"
   },
   {
    "duration": 11,
    "start_time": "2023-07-11T10:39:16.199Z"
   },
   {
    "duration": 10,
    "start_time": "2023-07-11T10:40:00.242Z"
   },
   {
    "duration": 14,
    "start_time": "2023-07-11T10:46:11.539Z"
   },
   {
    "duration": 16,
    "start_time": "2023-07-11T10:48:20.851Z"
   },
   {
    "duration": 5,
    "start_time": "2023-07-11T10:48:40.170Z"
   },
   {
    "duration": 12,
    "start_time": "2023-07-11T10:48:46.433Z"
   },
   {
    "duration": 97,
    "start_time": "2023-07-11T10:49:26.762Z"
   },
   {
    "duration": 217,
    "start_time": "2023-07-11T10:49:30.550Z"
   },
   {
    "duration": 1289,
    "start_time": "2023-07-11T10:49:51.118Z"
   },
   {
    "duration": 74,
    "start_time": "2023-07-11T10:49:52.409Z"
   },
   {
    "duration": 4,
    "start_time": "2023-07-11T10:49:52.486Z"
   },
   {
    "duration": 11,
    "start_time": "2023-07-11T10:49:52.492Z"
   },
   {
    "duration": 19,
    "start_time": "2023-07-11T10:49:52.506Z"
   },
   {
    "duration": 13,
    "start_time": "2023-07-11T10:49:52.527Z"
   },
   {
    "duration": 322,
    "start_time": "2023-07-11T10:49:52.542Z"
   },
   {
    "duration": 277,
    "start_time": "2023-07-11T10:49:52.866Z"
   },
   {
    "duration": 7,
    "start_time": "2023-07-11T10:49:53.145Z"
   },
   {
    "duration": 11,
    "start_time": "2023-07-11T10:49:53.156Z"
   },
   {
    "duration": 19,
    "start_time": "2023-07-11T10:49:53.169Z"
   },
   {
    "duration": 66,
    "start_time": "2023-07-11T10:49:53.191Z"
   },
   {
    "duration": 24,
    "start_time": "2023-07-11T10:49:53.259Z"
   },
   {
    "duration": 20,
    "start_time": "2023-07-11T10:49:53.285Z"
   },
   {
    "duration": 27,
    "start_time": "2023-07-11T10:49:53.307Z"
   },
   {
    "duration": 12,
    "start_time": "2023-07-11T10:49:53.336Z"
   },
   {
    "duration": 40,
    "start_time": "2023-07-11T10:49:53.350Z"
   },
   {
    "duration": 22,
    "start_time": "2023-07-11T10:49:53.392Z"
   },
   {
    "duration": 23,
    "start_time": "2023-07-11T10:49:53.416Z"
   },
   {
    "duration": 10,
    "start_time": "2023-07-11T10:49:53.441Z"
   },
   {
    "duration": 9,
    "start_time": "2023-07-11T10:49:53.453Z"
   },
   {
    "duration": 15,
    "start_time": "2023-07-11T10:49:53.464Z"
   },
   {
    "duration": 21,
    "start_time": "2023-07-11T10:49:53.481Z"
   },
   {
    "duration": 36,
    "start_time": "2023-07-11T10:49:53.505Z"
   },
   {
    "duration": 25,
    "start_time": "2023-07-11T10:49:53.544Z"
   },
   {
    "duration": 12,
    "start_time": "2023-07-11T10:49:53.571Z"
   },
   {
    "duration": 20,
    "start_time": "2023-07-11T10:49:53.585Z"
   },
   {
    "duration": 13,
    "start_time": "2023-07-11T10:49:53.610Z"
   },
   {
    "duration": 63,
    "start_time": "2023-07-11T10:49:53.625Z"
   },
   {
    "duration": 51,
    "start_time": "2023-07-11T10:49:53.690Z"
   },
   {
    "duration": 477,
    "start_time": "2023-07-11T10:49:53.743Z"
   },
   {
    "duration": 11,
    "start_time": "2023-07-11T10:49:54.222Z"
   },
   {
    "duration": 536,
    "start_time": "2023-07-11T10:49:54.235Z"
   },
   {
    "duration": 270,
    "start_time": "2023-07-11T10:49:54.774Z"
   },
   {
    "duration": 327,
    "start_time": "2023-07-11T10:49:55.045Z"
   },
   {
    "duration": 279,
    "start_time": "2023-07-11T10:49:55.375Z"
   },
   {
    "duration": 467,
    "start_time": "2023-07-11T10:49:55.655Z"
   },
   {
    "duration": 116,
    "start_time": "2023-07-11T10:49:56.125Z"
   },
   {
    "duration": 215,
    "start_time": "2023-07-11T10:49:56.243Z"
   },
   {
    "duration": 142,
    "start_time": "2023-07-11T10:49:56.460Z"
   },
   {
    "duration": 0,
    "start_time": "2023-07-11T10:49:56.604Z"
   },
   {
    "duration": 0,
    "start_time": "2023-07-11T10:49:56.605Z"
   },
   {
    "duration": 0,
    "start_time": "2023-07-11T10:49:56.608Z"
   },
   {
    "duration": 0,
    "start_time": "2023-07-11T10:49:56.610Z"
   },
   {
    "duration": 0,
    "start_time": "2023-07-11T10:49:56.611Z"
   },
   {
    "duration": 0,
    "start_time": "2023-07-11T10:49:56.612Z"
   },
   {
    "duration": 0,
    "start_time": "2023-07-11T10:49:56.614Z"
   },
   {
    "duration": 0,
    "start_time": "2023-07-11T10:49:56.615Z"
   },
   {
    "duration": 0,
    "start_time": "2023-07-11T10:49:56.617Z"
   },
   {
    "duration": 0,
    "start_time": "2023-07-11T10:49:56.618Z"
   },
   {
    "duration": 1447,
    "start_time": "2023-07-11T10:51:23.428Z"
   },
   {
    "duration": 97,
    "start_time": "2023-07-11T10:51:24.879Z"
   },
   {
    "duration": 3,
    "start_time": "2023-07-11T10:51:24.979Z"
   },
   {
    "duration": 15,
    "start_time": "2023-07-11T10:51:24.984Z"
   },
   {
    "duration": 56,
    "start_time": "2023-07-11T10:51:25.001Z"
   },
   {
    "duration": 15,
    "start_time": "2023-07-11T10:51:25.059Z"
   },
   {
    "duration": 382,
    "start_time": "2023-07-11T10:51:25.076Z"
   },
   {
    "duration": 361,
    "start_time": "2023-07-11T10:51:25.460Z"
   },
   {
    "duration": 17,
    "start_time": "2023-07-11T10:51:25.822Z"
   },
   {
    "duration": 53,
    "start_time": "2023-07-11T10:51:25.843Z"
   },
   {
    "duration": 49,
    "start_time": "2023-07-11T10:51:25.900Z"
   },
   {
    "duration": 25,
    "start_time": "2023-07-11T10:51:25.952Z"
   },
   {
    "duration": 98,
    "start_time": "2023-07-11T10:51:25.979Z"
   },
   {
    "duration": 20,
    "start_time": "2023-07-11T10:51:26.080Z"
   },
   {
    "duration": 50,
    "start_time": "2023-07-11T10:51:26.102Z"
   },
   {
    "duration": 24,
    "start_time": "2023-07-11T10:51:26.155Z"
   },
   {
    "duration": 31,
    "start_time": "2023-07-11T10:51:26.182Z"
   },
   {
    "duration": 45,
    "start_time": "2023-07-11T10:51:26.215Z"
   },
   {
    "duration": 11,
    "start_time": "2023-07-11T10:51:26.263Z"
   },
   {
    "duration": 13,
    "start_time": "2023-07-11T10:51:26.276Z"
   },
   {
    "duration": 41,
    "start_time": "2023-07-11T10:51:26.291Z"
   },
   {
    "duration": 22,
    "start_time": "2023-07-11T10:51:26.337Z"
   },
   {
    "duration": 29,
    "start_time": "2023-07-11T10:51:26.362Z"
   },
   {
    "duration": 38,
    "start_time": "2023-07-11T10:51:26.394Z"
   },
   {
    "duration": 23,
    "start_time": "2023-07-11T10:51:26.434Z"
   },
   {
    "duration": 16,
    "start_time": "2023-07-11T10:51:26.461Z"
   },
   {
    "duration": 30,
    "start_time": "2023-07-11T10:51:26.480Z"
   },
   {
    "duration": 24,
    "start_time": "2023-07-11T10:51:26.519Z"
   },
   {
    "duration": 20,
    "start_time": "2023-07-11T10:51:26.547Z"
   },
   {
    "duration": 332,
    "start_time": "2023-07-11T10:51:26.569Z"
   },
   {
    "duration": 12,
    "start_time": "2023-07-11T10:51:26.903Z"
   },
   {
    "duration": 459,
    "start_time": "2023-07-11T10:51:26.916Z"
   },
   {
    "duration": 396,
    "start_time": "2023-07-11T10:51:27.377Z"
   },
   {
    "duration": 394,
    "start_time": "2023-07-11T10:51:27.775Z"
   },
   {
    "duration": 363,
    "start_time": "2023-07-11T10:51:28.171Z"
   },
   {
    "duration": 452,
    "start_time": "2023-07-11T10:51:28.537Z"
   },
   {
    "duration": 173,
    "start_time": "2023-07-11T10:51:28.991Z"
   },
   {
    "duration": 228,
    "start_time": "2023-07-11T10:51:29.166Z"
   },
   {
    "duration": 147,
    "start_time": "2023-07-11T10:51:29.396Z"
   },
   {
    "duration": 0,
    "start_time": "2023-07-11T10:51:29.546Z"
   },
   {
    "duration": 0,
    "start_time": "2023-07-11T10:51:29.547Z"
   },
   {
    "duration": 0,
    "start_time": "2023-07-11T10:51:29.549Z"
   },
   {
    "duration": 0,
    "start_time": "2023-07-11T10:51:29.551Z"
   },
   {
    "duration": 0,
    "start_time": "2023-07-11T10:51:29.553Z"
   },
   {
    "duration": 0,
    "start_time": "2023-07-11T10:51:29.554Z"
   },
   {
    "duration": 0,
    "start_time": "2023-07-11T10:51:29.556Z"
   },
   {
    "duration": 0,
    "start_time": "2023-07-11T10:51:29.566Z"
   },
   {
    "duration": 0,
    "start_time": "2023-07-11T10:51:29.568Z"
   },
   {
    "duration": 0,
    "start_time": "2023-07-11T10:51:29.569Z"
   },
   {
    "duration": 5,
    "start_time": "2023-07-11T10:52:04.734Z"
   },
   {
    "duration": 1414,
    "start_time": "2023-07-11T10:52:14.428Z"
   },
   {
    "duration": 91,
    "start_time": "2023-07-11T10:52:15.845Z"
   },
   {
    "duration": 4,
    "start_time": "2023-07-11T10:52:15.939Z"
   },
   {
    "duration": 14,
    "start_time": "2023-07-11T10:52:15.946Z"
   },
   {
    "duration": 22,
    "start_time": "2023-07-11T10:52:15.964Z"
   },
   {
    "duration": 7,
    "start_time": "2023-07-11T10:52:15.989Z"
   },
   {
    "duration": 310,
    "start_time": "2023-07-11T10:52:15.997Z"
   },
   {
    "duration": 310,
    "start_time": "2023-07-11T10:52:16.309Z"
   },
   {
    "duration": 18,
    "start_time": "2023-07-11T10:52:16.621Z"
   },
   {
    "duration": 26,
    "start_time": "2023-07-11T10:52:16.647Z"
   },
   {
    "duration": 17,
    "start_time": "2023-07-11T10:52:16.676Z"
   },
   {
    "duration": 54,
    "start_time": "2023-07-11T10:52:16.696Z"
   },
   {
    "duration": 23,
    "start_time": "2023-07-11T10:52:16.752Z"
   },
   {
    "duration": 21,
    "start_time": "2023-07-11T10:52:16.779Z"
   },
   {
    "duration": 49,
    "start_time": "2023-07-11T10:52:16.802Z"
   },
   {
    "duration": 20,
    "start_time": "2023-07-11T10:52:16.853Z"
   },
   {
    "duration": 13,
    "start_time": "2023-07-11T10:52:16.876Z"
   },
   {
    "duration": 60,
    "start_time": "2023-07-11T10:52:16.891Z"
   },
   {
    "duration": 29,
    "start_time": "2023-07-11T10:52:16.955Z"
   },
   {
    "duration": 39,
    "start_time": "2023-07-11T10:52:16.987Z"
   },
   {
    "duration": 43,
    "start_time": "2023-07-11T10:52:17.028Z"
   },
   {
    "duration": 10,
    "start_time": "2023-07-11T10:52:17.074Z"
   },
   {
    "duration": 17,
    "start_time": "2023-07-11T10:52:17.087Z"
   },
   {
    "duration": 38,
    "start_time": "2023-07-11T10:52:17.106Z"
   },
   {
    "duration": 37,
    "start_time": "2023-07-11T10:52:17.146Z"
   },
   {
    "duration": 14,
    "start_time": "2023-07-11T10:52:17.186Z"
   },
   {
    "duration": 50,
    "start_time": "2023-07-11T10:52:17.202Z"
   },
   {
    "duration": 30,
    "start_time": "2023-07-11T10:52:17.255Z"
   },
   {
    "duration": 44,
    "start_time": "2023-07-11T10:52:17.288Z"
   },
   {
    "duration": 21,
    "start_time": "2023-07-11T10:52:17.335Z"
   },
   {
    "duration": 352,
    "start_time": "2023-07-11T10:52:17.359Z"
   },
   {
    "duration": 14,
    "start_time": "2023-07-11T10:52:17.713Z"
   },
   {
    "duration": 407,
    "start_time": "2023-07-11T10:52:17.729Z"
   },
   {
    "duration": 305,
    "start_time": "2023-07-11T10:52:18.140Z"
   },
   {
    "duration": 374,
    "start_time": "2023-07-11T10:52:18.448Z"
   },
   {
    "duration": 372,
    "start_time": "2023-07-11T10:52:18.824Z"
   },
   {
    "duration": 551,
    "start_time": "2023-07-11T10:52:19.201Z"
   },
   {
    "duration": 103,
    "start_time": "2023-07-11T10:52:19.754Z"
   },
   {
    "duration": 223,
    "start_time": "2023-07-11T10:52:19.859Z"
   },
   {
    "duration": 5,
    "start_time": "2023-07-11T10:52:20.084Z"
   },
   {
    "duration": 234,
    "start_time": "2023-07-11T10:52:20.105Z"
   },
   {
    "duration": 12,
    "start_time": "2023-07-11T10:52:20.342Z"
   },
   {
    "duration": 39,
    "start_time": "2023-07-11T10:52:20.357Z"
   },
   {
    "duration": 337,
    "start_time": "2023-07-11T10:52:20.399Z"
   },
   {
    "duration": 5,
    "start_time": "2023-07-11T10:52:20.738Z"
   },
   {
    "duration": 250,
    "start_time": "2023-07-11T10:52:20.746Z"
   },
   {
    "duration": 0,
    "start_time": "2023-07-11T10:52:21.002Z"
   },
   {
    "duration": 0,
    "start_time": "2023-07-11T10:52:21.004Z"
   },
   {
    "duration": 0,
    "start_time": "2023-07-11T10:52:21.005Z"
   },
   {
    "duration": 0,
    "start_time": "2023-07-11T10:52:21.006Z"
   },
   {
    "duration": 88,
    "start_time": "2023-07-11T10:53:45.414Z"
   },
   {
    "duration": 44,
    "start_time": "2023-07-11T10:53:54.836Z"
   },
   {
    "duration": 1316,
    "start_time": "2023-07-11T10:54:42.492Z"
   },
   {
    "duration": 75,
    "start_time": "2023-07-11T10:54:43.811Z"
   },
   {
    "duration": 3,
    "start_time": "2023-07-11T10:54:43.888Z"
   },
   {
    "duration": 16,
    "start_time": "2023-07-11T10:54:43.894Z"
   },
   {
    "duration": 31,
    "start_time": "2023-07-11T10:54:43.913Z"
   },
   {
    "duration": 15,
    "start_time": "2023-07-11T10:54:43.946Z"
   },
   {
    "duration": 328,
    "start_time": "2023-07-11T10:54:43.963Z"
   },
   {
    "duration": 284,
    "start_time": "2023-07-11T10:54:44.294Z"
   },
   {
    "duration": 8,
    "start_time": "2023-07-11T10:54:44.580Z"
   },
   {
    "duration": 40,
    "start_time": "2023-07-11T10:54:44.590Z"
   },
   {
    "duration": 21,
    "start_time": "2023-07-11T10:54:44.632Z"
   },
   {
    "duration": 12,
    "start_time": "2023-07-11T10:54:44.656Z"
   },
   {
    "duration": 30,
    "start_time": "2023-07-11T10:54:44.670Z"
   },
   {
    "duration": 12,
    "start_time": "2023-07-11T10:54:44.706Z"
   },
   {
    "duration": 24,
    "start_time": "2023-07-11T10:54:44.719Z"
   },
   {
    "duration": 16,
    "start_time": "2023-07-11T10:54:44.745Z"
   },
   {
    "duration": 30,
    "start_time": "2023-07-11T10:54:44.763Z"
   },
   {
    "duration": 25,
    "start_time": "2023-07-11T10:54:44.795Z"
   },
   {
    "duration": 15,
    "start_time": "2023-07-11T10:54:44.822Z"
   },
   {
    "duration": 11,
    "start_time": "2023-07-11T10:54:44.840Z"
   },
   {
    "duration": 18,
    "start_time": "2023-07-11T10:54:44.853Z"
   },
   {
    "duration": 23,
    "start_time": "2023-07-11T10:54:44.873Z"
   },
   {
    "duration": 18,
    "start_time": "2023-07-11T10:54:44.898Z"
   },
   {
    "duration": 16,
    "start_time": "2023-07-11T10:54:44.918Z"
   },
   {
    "duration": 8,
    "start_time": "2023-07-11T10:54:44.936Z"
   },
   {
    "duration": 13,
    "start_time": "2023-07-11T10:54:44.946Z"
   },
   {
    "duration": 15,
    "start_time": "2023-07-11T10:54:44.961Z"
   },
   {
    "duration": 10,
    "start_time": "2023-07-11T10:54:44.978Z"
   },
   {
    "duration": 45,
    "start_time": "2023-07-11T10:54:44.990Z"
   },
   {
    "duration": 399,
    "start_time": "2023-07-11T10:54:45.037Z"
   },
   {
    "duration": 13,
    "start_time": "2023-07-11T10:54:45.438Z"
   },
   {
    "duration": 369,
    "start_time": "2023-07-11T10:54:45.453Z"
   },
   {
    "duration": 281,
    "start_time": "2023-07-11T10:54:45.824Z"
   },
   {
    "duration": 357,
    "start_time": "2023-07-11T10:54:46.106Z"
   },
   {
    "duration": 298,
    "start_time": "2023-07-11T10:54:46.465Z"
   },
   {
    "duration": 485,
    "start_time": "2023-07-11T10:54:46.765Z"
   },
   {
    "duration": 146,
    "start_time": "2023-07-11T10:54:47.252Z"
   },
   {
    "duration": 179,
    "start_time": "2023-07-11T10:54:47.403Z"
   },
   {
    "duration": 5,
    "start_time": "2023-07-11T10:54:47.585Z"
   },
   {
    "duration": 186,
    "start_time": "2023-07-11T10:54:47.603Z"
   },
   {
    "duration": 13,
    "start_time": "2023-07-11T10:54:47.803Z"
   },
   {
    "duration": 12,
    "start_time": "2023-07-11T10:54:47.818Z"
   },
   {
    "duration": 266,
    "start_time": "2023-07-11T10:54:47.832Z"
   },
   {
    "duration": 5,
    "start_time": "2023-07-11T10:54:48.102Z"
   },
   {
    "duration": 132,
    "start_time": "2023-07-11T10:54:48.109Z"
   },
   {
    "duration": 41,
    "start_time": "2023-07-11T10:54:48.244Z"
   },
   {
    "duration": 165,
    "start_time": "2023-07-11T10:54:48.287Z"
   },
   {
    "duration": 0,
    "start_time": "2023-07-11T10:54:48.454Z"
   },
   {
    "duration": 0,
    "start_time": "2023-07-11T10:54:48.455Z"
   },
   {
    "duration": 1305,
    "start_time": "2023-07-11T10:55:16.733Z"
   },
   {
    "duration": 75,
    "start_time": "2023-07-11T10:55:18.041Z"
   },
   {
    "duration": 4,
    "start_time": "2023-07-11T10:55:18.118Z"
   },
   {
    "duration": 23,
    "start_time": "2023-07-11T10:55:18.125Z"
   },
   {
    "duration": 87,
    "start_time": "2023-07-11T10:55:18.150Z"
   },
   {
    "duration": 65,
    "start_time": "2023-07-11T10:55:18.240Z"
   },
   {
    "duration": 366,
    "start_time": "2023-07-11T10:55:18.308Z"
   },
   {
    "duration": 287,
    "start_time": "2023-07-11T10:55:18.676Z"
   },
   {
    "duration": 7,
    "start_time": "2023-07-11T10:55:18.965Z"
   },
   {
    "duration": 16,
    "start_time": "2023-07-11T10:55:18.975Z"
   },
   {
    "duration": 45,
    "start_time": "2023-07-11T10:55:18.993Z"
   },
   {
    "duration": 21,
    "start_time": "2023-07-11T10:55:19.041Z"
   },
   {
    "duration": 13,
    "start_time": "2023-07-11T10:55:19.064Z"
   },
   {
    "duration": 18,
    "start_time": "2023-07-11T10:55:19.080Z"
   },
   {
    "duration": 7,
    "start_time": "2023-07-11T10:55:19.101Z"
   },
   {
    "duration": 8,
    "start_time": "2023-07-11T10:55:19.112Z"
   },
   {
    "duration": 20,
    "start_time": "2023-07-11T10:55:19.122Z"
   },
   {
    "duration": 30,
    "start_time": "2023-07-11T10:55:19.144Z"
   },
   {
    "duration": 25,
    "start_time": "2023-07-11T10:55:19.177Z"
   },
   {
    "duration": 36,
    "start_time": "2023-07-11T10:55:19.204Z"
   },
   {
    "duration": 21,
    "start_time": "2023-07-11T10:55:19.243Z"
   },
   {
    "duration": 17,
    "start_time": "2023-07-11T10:55:19.267Z"
   },
   {
    "duration": 16,
    "start_time": "2023-07-11T10:55:19.287Z"
   },
   {
    "duration": 38,
    "start_time": "2023-07-11T10:55:19.305Z"
   },
   {
    "duration": 12,
    "start_time": "2023-07-11T10:55:19.346Z"
   },
   {
    "duration": 36,
    "start_time": "2023-07-11T10:55:19.361Z"
   },
   {
    "duration": 11,
    "start_time": "2023-07-11T10:55:19.399Z"
   },
   {
    "duration": 35,
    "start_time": "2023-07-11T10:55:19.415Z"
   },
   {
    "duration": 21,
    "start_time": "2023-07-11T10:55:19.453Z"
   },
   {
    "duration": 42,
    "start_time": "2023-07-11T10:55:19.476Z"
   },
   {
    "duration": 404,
    "start_time": "2023-07-11T10:55:19.520Z"
   },
   {
    "duration": 13,
    "start_time": "2023-07-11T10:55:19.926Z"
   },
   {
    "duration": 472,
    "start_time": "2023-07-11T10:55:19.941Z"
   },
   {
    "duration": 357,
    "start_time": "2023-07-11T10:55:20.416Z"
   },
   {
    "duration": 432,
    "start_time": "2023-07-11T10:55:20.775Z"
   },
   {
    "duration": 346,
    "start_time": "2023-07-11T10:55:21.209Z"
   },
   {
    "duration": 448,
    "start_time": "2023-07-11T10:55:21.558Z"
   },
   {
    "duration": 137,
    "start_time": "2023-07-11T10:55:22.009Z"
   },
   {
    "duration": 195,
    "start_time": "2023-07-11T10:55:22.147Z"
   },
   {
    "duration": 6,
    "start_time": "2023-07-11T10:55:22.343Z"
   },
   {
    "duration": 198,
    "start_time": "2023-07-11T10:55:22.351Z"
   },
   {
    "duration": 11,
    "start_time": "2023-07-11T10:55:22.551Z"
   },
   {
    "duration": 8,
    "start_time": "2023-07-11T10:55:22.564Z"
   },
   {
    "duration": 212,
    "start_time": "2023-07-11T10:55:22.574Z"
   },
   {
    "duration": 14,
    "start_time": "2023-07-11T10:55:22.788Z"
   },
   {
    "duration": 106,
    "start_time": "2023-07-11T10:55:22.805Z"
   },
   {
    "duration": 28,
    "start_time": "2023-07-11T10:55:22.913Z"
   },
   {
    "duration": 130,
    "start_time": "2023-07-11T10:55:22.944Z"
   },
   {
    "duration": 0,
    "start_time": "2023-07-11T10:55:23.076Z"
   },
   {
    "duration": 0,
    "start_time": "2023-07-11T10:55:23.077Z"
   },
   {
    "duration": 119,
    "start_time": "2023-07-11T11:00:19.156Z"
   },
   {
    "duration": 39,
    "start_time": "2023-07-11T11:01:01.457Z"
   },
   {
    "duration": 9,
    "start_time": "2023-07-11T11:01:10.505Z"
   },
   {
    "duration": 42,
    "start_time": "2023-07-11T11:01:16.607Z"
   },
   {
    "duration": 7,
    "start_time": "2023-07-11T11:03:39.651Z"
   },
   {
    "duration": 6,
    "start_time": "2023-07-11T11:03:46.166Z"
   },
   {
    "duration": 13,
    "start_time": "2023-07-11T11:04:54.312Z"
   },
   {
    "duration": 350,
    "start_time": "2023-07-11T11:06:29.845Z"
   },
   {
    "duration": 28,
    "start_time": "2023-07-11T11:06:55.457Z"
   },
   {
    "duration": 10,
    "start_time": "2023-07-11T11:11:29.555Z"
   },
   {
    "duration": 6,
    "start_time": "2023-07-11T11:14:13.228Z"
   },
   {
    "duration": 6,
    "start_time": "2023-07-11T11:14:15.117Z"
   },
   {
    "duration": 12,
    "start_time": "2023-07-11T11:15:01.614Z"
   },
   {
    "duration": 10,
    "start_time": "2023-07-11T11:15:35.939Z"
   },
   {
    "duration": 260,
    "start_time": "2023-07-11T11:19:39.098Z"
   },
   {
    "duration": 14,
    "start_time": "2023-07-11T11:20:26.910Z"
   },
   {
    "duration": 369,
    "start_time": "2023-07-11T11:20:31.995Z"
   },
   {
    "duration": 26,
    "start_time": "2023-07-11T11:20:36.206Z"
   },
   {
    "duration": 10,
    "start_time": "2023-07-11T11:20:42.089Z"
   },
   {
    "duration": 11,
    "start_time": "2023-07-11T11:20:44.913Z"
   },
   {
    "duration": 250,
    "start_time": "2023-07-11T11:20:59.154Z"
   },
   {
    "duration": 239,
    "start_time": "2023-07-11T11:22:19.625Z"
   },
   {
    "duration": 233,
    "start_time": "2023-07-11T11:22:24.262Z"
   }
  ],
  "kernelspec": {
   "display_name": "Python 3 (ipykernel)",
   "language": "python",
   "name": "python3"
  },
  "language_info": {
   "codemirror_mode": {
    "name": "ipython",
    "version": 3
   },
   "file_extension": ".py",
   "mimetype": "text/x-python",
   "name": "python",
   "nbconvert_exporter": "python",
   "pygments_lexer": "ipython3",
   "version": "3.9.18"
  },
  "toc": {
   "base_numbering": 1,
   "nav_menu": {
    "height": "302px",
    "width": "320px"
   },
   "number_sections": true,
   "sideBar": true,
   "skip_h1_title": true,
   "title_cell": "Содержание",
   "title_sidebar": "Contents",
   "toc_cell": true,
   "toc_position": {
    "height": "calc(100% - 180px)",
    "left": "10px",
    "top": "150px",
    "width": "384px"
   },
   "toc_section_display": true,
   "toc_window_display": true
  }
 },
 "nbformat": 4,
 "nbformat_minor": 2
}
